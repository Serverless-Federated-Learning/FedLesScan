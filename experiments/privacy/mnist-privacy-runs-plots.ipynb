{
 "cells": [
  {
   "cell_type": "code",
   "execution_count": null,
   "metadata": {
    "collapsed": true
   },
   "outputs": [],
   "source": [
    "import json\n",
    "from pathlib import Path\n",
    "\n",
    "import matplotlib.pyplot as plt\n",
    "import seaborn as sns\n",
    "import pandas as pd\n",
    "import numpy as np"
   ]
  },
  {
   "cell_type": "code",
   "execution_count": null,
   "outputs": [],
   "source": [
    "log_directory = Path(\"/Users/andreas/workspace/thesis-code/out/privacy\")\n",
    "result_files = [path for path in log_directory.iterdir() if path.suffix == \".csv\" and \"results_\" in path.name]\n",
    "\n",
    "dfs = []\n",
    "hyperparams = []\n",
    "\n",
    "for f in result_files:\n",
    "    print(f\"Loading results file \\\"{f.name}\\\"\")\n",
    "    dfs.append(pd.read_csv(f))\n",
    "\n",
    "    parameters = [\"devices\", \"epochs\", \"local_epochs\", \"local_batch_size\", \"clients_per_round\",\n",
    "                  \"l2_norm_clip\", \"noise_multiplier\", \"local_dp\", \"start_time\"]\n",
    "    parameter_values = f.stem.lstrip(\"results_\").split(\"_\")\n",
    "    assert len(parameter_values) == len(parameters)\n",
    "    hyperparams.append(\n",
    "        {key: value for (key, value) in zip(parameters, parameter_values)}\n",
    "    )\n",
    "experiments = list(zip(hyperparams, dfs))"
   ],
   "metadata": {
    "collapsed": false,
    "pycharm": {
     "name": "#%%\n"
    }
   }
  },
  {
   "cell_type": "code",
   "execution_count": null,
   "outputs": [],
   "source": [
    "# Test Loss Plot\n",
    "fig, ax = plt.subplots()\n",
    "for params, df in experiments:\n",
    "    df.plot(x=\"epoch\", y=\"test_loss\", ax=ax, label=f'DP: {params[\"local_dp\"]} L2-Clip: {params[\"l2_norm_clip\"]} Noise-Mult:{params[\"noise_multiplier\"]}')\n",
    "fig.savefig(log_directory / \"test_loss.pdf\")"
   ],
   "metadata": {
    "collapsed": false,
    "pycharm": {
     "name": "#%%\n"
    }
   }
  },
  {
   "cell_type": "code",
   "execution_count": null,
   "outputs": [],
   "source": [
    "# Test Accuracy Plot\n",
    "fig, ax = plt.subplots(figsize=(20, 10))\n",
    "for params, df in experiments:\n",
    "    df.plot(x=\"epoch\", y=\"test_accuracy\", ax=ax, label=f'DP: {params[\"local_dp\"]} L2-Clip: {params[\"l2_norm_clip\"]} Noise-Mult:{params[\"noise_multiplier\"]}')\n",
    "fig.savefig(log_directory / \"test_accuracy.pdf\")"
   ],
   "metadata": {
    "collapsed": false,
    "pycharm": {
     "name": "#%%\n"
    }
   }
  },
  {
   "cell_type": "code",
   "execution_count": null,
   "outputs": [],
   "source": [
    "from tensorflow_privacy import get_privacy_spent\n",
    "\n",
    "# Eps Guarantees\n",
    "privacy_dfs = []\n",
    "privacy_params = []\n",
    "for params, df in [exp for exp in experiments if exp[0][\"local_dp\"] == \"True\"]:\n",
    "    df = df.copy()\n",
    "    df[\"privacy_params\"] =  f'{params[\"l2_norm_clip\"]}_{params[\"noise_multiplier\"]}'\n",
    "    df[\"noise_multiplier\"] = params[\"noise_multiplier\"]\n",
    "    df[\"l2_norm_clip\"] = params[\"l2_norm_clip\"]\n",
    "    df[\"privacy_guarantees\"] = df.privacy_guarantees.map(lambda x: x.replace(\"'\", \"\")).map(json.loads)\n",
    "    eps_per_round_and_client = df[\"privacy_guarantees\"][0][0]['eps']\n",
    "    delta_per_round_and_client = df[\"privacy_guarantees\"][0][0]['delta']\n",
    "    df[\"eps_per_round_and_client\"] = eps_per_round_and_client\n",
    "    df[\"delta_per_round_and_client\"] = delta_per_round_and_client\n",
    "    df[\"eps_delta_per_round_and_client\"] = f\"({eps_per_round_and_client}, {delta_per_round_and_client})\"\n",
    "    dfp = df\n",
    "    try:\n",
    "        dfp[\"rdp\"] = dfp[\"privacy_guarantees\"].map(lambda client_results: np.array(client_results[0][\"rdp\"]))\n",
    "        dfp[\"orders\"] = dfp[\"privacy_guarantees\"].map(lambda client_results: np.array(client_results[0][\"orders\"]))\n",
    "        dfp[\"delta\"] = dfp[\"privacy_guarantees\"].map(lambda client_results: client_results[0][\"delta\"])\n",
    "        dfp[\"rdp_cumsum\"] = dfp.rdp.cumsum()\n",
    "        dfp[\"cum_privacy\"] = dfp[[\"orders\", \"rdp_cumsum\", \"delta\"]].apply(lambda row: get_privacy_spent(row[0], row[1], target_delta=row[2]), axis=1)\n",
    "        dfp[\"cum_eps\"] = dfp[\"cum_privacy\"].apply(lambda x: x[0])\n",
    "        client_pick_prob = float(params[\"clients_per_round\"]) / float(params[\"devices\"])\n",
    "        dfp[\"cum_eps_div\"] = dfp[\"cum_eps\"] * client_pick_prob\n",
    "        dfp[\"eps_round_\"] = dfp[\"privacy_guarantees\"].map(lambda client_results: np.array(client_results[0][\"eps\"]))\n",
    "        dfp[\"eps_naive_cumsum\"] = dfp[\"eps_round_\"].cumsum()\n",
    "        dfp[\"delta_naive_cumsum\"] = dfp[\"delta\"].cumsum()\n",
    "        dfp[\"eps_naive_cumsum_div\"] = dfp[\"eps_naive_cumsum\"] * client_pick_prob\n",
    "        dfp[\"delta_naive_cumsum_div\"] = dfp[\"delta_naive_cumsum\"] * client_pick_prob\n",
    "        privacy_dfs.append(df)\n",
    "        privacy_params.append(params)\n",
    "    except KeyError:\n",
    "        pass\n",
    "combined_df = pd.concat(privacy_dfs)"
   ],
   "metadata": {
    "collapsed": false,
    "pycharm": {
     "name": "#%%\n"
    }
   }
  },
  {
   "cell_type": "code",
   "execution_count": null,
   "outputs": [],
   "source": [
    "sns.set_style(\"whitegrid\")\n",
    "fig, (ax, ax2) = plt.subplots(nrows=1, ncols=2, sharex=True, figsize=(10, 5))\n",
    "l = sns.lineplot(x=\"epoch\", y=\"cum_eps_div\", data=combined_df, ax=ax, hue=\"noise_multiplier\")\n",
    "l.legend().set_title(\"Noise Multiplier\")\n",
    "ax.set_ylabel(\"Epsilon\")\n",
    "ax.set_xlabel(\"Communication Round\")\n",
    "ax2.set_ylabel(\"Test Accuracy\")\n",
    "ax2.set_xlabel(\"Communication Round\")\n",
    "sns.lineplot(x=\"epoch\", y=\"test_accuracy\", ax=ax2, data=combined_df, hue=\"noise_multiplier\")\n",
    "ax2.get_legend().remove()\n",
    "fig.savefig(log_directory / \"noise_mult_eps_acc_tradeoff.pdf\", bbox_inches = 'tight')"
   ],
   "metadata": {
    "collapsed": false,
    "pycharm": {
     "name": "#%%\n"
    }
   }
  },
  {
   "cell_type": "code",
   "execution_count": null,
   "outputs": [],
   "source": [
    "sns.set_style(\"whitegrid\")\n",
    "df1_ = combined_df.copy()\n",
    "df2_ = combined_df.copy()\n",
    "\n",
    "df1_[\"eps\"] = df1_[\"cum_eps_div\"]\n",
    "df2_[\"eps\"] = df2_[\"eps_naive_cumsum_div\"]\n",
    "df2_[\"delta\"] = df2_[\"delta_naive_cumsum_div\"]\n",
    "df1_[\"accounting\"] = \"rdp\"\n",
    "df2_[\"accounting\"] = \"naive\"\n",
    "\n",
    "df_ = pd.concat([df1_, df2_])\n",
    "fig, (ax, ax2) = plt.subplots(nrows=1, ncols=2, sharex=True, figsize=(10, 5))\n",
    "l = sns.lineplot(x=\"epoch\", y=\"eps\", data=df_, ax=ax, hue=\"noise_multiplier\", style=\"accounting\")\n",
    "ax.set_ylabel(\"Epsilon\")\n",
    "ax.set_xlabel(\"Communication Round\")\n",
    "sns.lineplot(x=\"epoch\", y=\"delta\", data=df_, ax=ax2, hue=\"noise_multiplier\", style=\"accounting\")\n",
    "ax2.set_ylabel(\"Delta\")\n",
    "ax2.set_xlabel(\"Communication Round\")\n",
    "\n",
    "fig.savefig(log_directory / \"accounting_naive_vs_rdp.pdf\", bbox_inches = 'tight')"
   ],
   "metadata": {
    "collapsed": false,
    "pycharm": {
     "name": "#%%\n"
    }
   }
  },
  {
   "cell_type": "code",
   "execution_count": null,
   "outputs": [],
   "source": [
    "dfp_ = combined_df[combined_df[\"noise_multiplier\"] == \"1.0\"]\n",
    "fig, ax = plt.subplots()\n",
    "sns.lineplot(x=\"epoch\", y=\"test_accuracy\", ax=ax, data=dfp_, hue=\"l2_norm_clip\")"
   ],
   "metadata": {
    "collapsed": false,
    "pycharm": {
     "name": "#%%\n"
    }
   }
  }
 ],
 "metadata": {
  "kernelspec": {
   "display_name": "Python 3",
   "language": "python",
   "name": "python3"
  },
  "language_info": {
   "codemirror_mode": {
    "name": "ipython",
    "version": 2
   },
   "file_extension": ".py",
   "mimetype": "text/x-python",
   "name": "python",
   "nbconvert_exporter": "python",
   "pygments_lexer": "ipython2",
   "version": "2.7.6"
  }
 },
 "nbformat": 4,
 "nbformat_minor": 0
}