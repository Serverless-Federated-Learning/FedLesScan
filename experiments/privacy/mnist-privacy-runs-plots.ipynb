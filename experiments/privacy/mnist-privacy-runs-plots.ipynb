{
 "cells": [
  {
   "cell_type": "code",
   "execution_count": null,
   "metadata": {
    "collapsed": true
   },
   "outputs": [],
   "source": [
    "import json\n",
    "from pathlib import Path\n",
    "\n",
    "import matplotlib.pyplot as plt\n",
    "import seaborn as sns\n",
    "import pandas as pd"
   ]
  },
  {
   "cell_type": "code",
   "execution_count": null,
   "outputs": [],
   "source": [
    "log_directory = Path(\"/Users/andreas/workspace/thesis-code/exp-backup/privacy\")\n",
    "result_files = [path for path in log_directory.iterdir() if path.suffix == \".csv\" and \"results_\" in path.name]\n",
    "\n",
    "dfs = []\n",
    "hyperparams = []\n",
    "\n",
    "for f in result_files:\n",
    "    print(f\"Loading results file \\\"{f.name}\\\"\")\n",
    "    dfs.append(pd.read_csv(f))\n",
    "\n",
    "    parameters = [\"devices\", \"epochs\", \"local_epochs\", \"local_batch_size\", \"clients_per_round\",\n",
    "                  \"l2_norm_clip\", \"noise_multiplier\", \"local_dp\", \"start_time\"]\n",
    "    parameter_values = f.stem.lstrip(\"results_\").split(\"_\")\n",
    "    assert len(parameter_values) == len(parameters)\n",
    "    hyperparams.append(\n",
    "        {key: value for (key, value) in zip(parameters, parameter_values)}\n",
    "    )\n",
    "experiments = list(zip(hyperparams, dfs))"
   ],
   "metadata": {
    "collapsed": false,
    "pycharm": {
     "name": "#%%\n"
    }
   }
  },
  {
   "cell_type": "code",
   "execution_count": null,
   "outputs": [],
   "source": [
    "# Test Loss Plot\n",
    "fig, ax = plt.subplots()\n",
    "for params, df in experiments:\n",
    "    df.plot(x=\"epoch\", y=\"test_loss\", ax=ax, label=f'DP: {params[\"local_dp\"]} L2-Clip: {params[\"l2_norm_clip\"]} Noise-Mult:{params[\"noise_multiplier\"]}')\n",
    "fig.savefig(log_directory / \"test_loss.pdf\")"
   ],
   "metadata": {
    "collapsed": false,
    "pycharm": {
     "name": "#%%\n"
    }
   }
  },
  {
   "cell_type": "code",
   "execution_count": null,
   "outputs": [],
   "source": [
    "# Test Accuracy Plot\n",
    "fig, ax = plt.subplots(figsize=(20, 10))\n",
    "for params, df in experiments:\n",
    "    df.plot(x=\"epoch\", y=\"test_accuracy\", ax=ax, label=f'DP: {params[\"local_dp\"]} L2-Clip: {params[\"l2_norm_clip\"]} Noise-Mult:{params[\"noise_multiplier\"]}')\n",
    "fig.savefig(log_directory / \"test_accuracy.pdf\")"
   ],
   "metadata": {
    "collapsed": false,
    "pycharm": {
     "name": "#%%\n"
    }
   }
  },
  {
   "cell_type": "code",
   "execution_count": null,
   "outputs": [],
   "source": [
    "dfs[0]"
   ],
   "metadata": {
    "collapsed": false,
    "pycharm": {
     "name": "#%%\n"
    }
   }
  },
  {
   "cell_type": "code",
   "execution_count": null,
   "outputs": [],
   "source": [
    "# Eps Guarantees\n",
    "privacy_dfs = []\n",
    "for params, df in [exp for exp in experiments if exp[0][\"local_dp\"] == \"True\"]:\n",
    "    df = df.copy()\n",
    "    df[\"privacy_params\"] =  f'{params[\"l2_norm_clip\"]}_{params[\"noise_multiplier\"]}'\n",
    "    df[\"privacy_guarantees\"] = df.privacy_guarantees.map(lambda x: x.replace(\"'\", \"\")).map(json.loads)\n",
    "    eps_per_round_and_client = df[\"privacy_guarantees\"][0][0]['eps']\n",
    "    delta_per_round_and_client = df[\"privacy_guarantees\"][0][0]['delta']\n",
    "    df[\"eps_per_round_and_client\"] = eps_per_round_and_client\n",
    "    df[\"delta_per_round_and_client\"] = delta_per_round_and_client\n",
    "    df[\"eps_delta_per_round_and_client\"] = f\"({eps_per_round_and_client}, {delta_per_round_and_client})\"\n",
    "    privacy_dfs.append(df)\n",
    "\n",
    "combined_df = pd.concat(privacy_dfs)\n",
    "fig, ax = plt.subplots()\n",
    "sns.barplot(x=\"privacy_params\", y=\"eps_per_round_and_client\", data=combined_df, ax=ax)\n",
    "    #df.plot(x=\"epoch\", y=\"test_accuracy\", ax=ax, label=f'Clip: {params[\"l2_norm_clip\"]} Noise:{params[\"noise_multiplier\"]}')\n",
    "#fig.savefig(log_directory / \"test_accuracy.pdf\")"
   ],
   "metadata": {
    "collapsed": false,
    "pycharm": {
     "name": "#%%\n"
    }
   }
  },
  {
   "cell_type": "code",
   "execution_count": null,
   "outputs": [],
   "source": [
    "eps_per_round_and_client, delta_per_round_and_client"
   ],
   "metadata": {
    "collapsed": false,
    "pycharm": {
     "name": "#%%\n"
    }
   }
  },
  {
   "cell_type": "code",
   "execution_count": null,
   "outputs": [],
   "source": [],
   "metadata": {
    "collapsed": false,
    "pycharm": {
     "name": "#%%\n"
    }
   }
  }
 ],
 "metadata": {
  "kernelspec": {
   "display_name": "Python 3",
   "language": "python",
   "name": "python3"
  },
  "language_info": {
   "codemirror_mode": {
    "name": "ipython",
    "version": 2
   },
   "file_extension": ".py",
   "mimetype": "text/x-python",
   "name": "python",
   "nbconvert_exporter": "python",
   "pygments_lexer": "ipython2",
   "version": "2.7.6"
  }
 },
 "nbformat": 4,
 "nbformat_minor": 0
}