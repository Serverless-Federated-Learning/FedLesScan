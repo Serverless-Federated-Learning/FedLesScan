{
 "cells": [
  {
   "cell_type": "code",
   "execution_count": null,
   "metadata": {
    "tags": []
   },
   "outputs": [],
   "source": [
    "import os\n",
    "import ast\n",
    "import json\n",
    "from pathlib import Path\n",
    "\n",
    "import numpy as np\n",
    "import pandas as pd\n",
    "import matplotlib.pyplot as plt\n",
    "import seaborn as sns\n",
    "\n",
    "%matplotlib inline"
   ]
  },
  {
   "cell_type": "code",
   "execution_count": null,
   "metadata": {
    "collapsed": false,
    "jupyter": {
     "outputs_hidden": false
    },
    "pycharm": {
     "name": "#%%\n"
    }
   },
   "outputs": [],
   "source": [
    "exp_dir = Path(\"/Users/andreas/workspace/thesis-code/out/fedless-mnist-flower\")\n",
    "#session_id = \"d302c4be-cf23-4ce2-8a6a-c0975870fcf4\"\n",
    "\n",
    "#Fedless Shakespeare 3c1dd162-a3b9-483a-b7da-faf5aa0a800d\n",
    "#Fedless MNIST cc1ee881-e81e-46fe-81e9-87872de160f4\n",
    "timing_dfs = []\n",
    "clients_dfs = []\n",
    "for f in exp_dir.glob(\"timing_*.csv\"):\n",
    "    timing_dfs.append(pd.read_csv(exp_dir / f, index_col=\"round_id\"))\n",
    "for f in exp_dir.glob(\"clients_*.csv\"):\n",
    "    clients_dfs.append(pd.read_csv(exp_dir / f))\n",
    "timing_df = pd.concat(timing_dfs)\n",
    "clients_df = pd.concat(clients_dfs)\n",
    "#timing_df = pd.read_csv(exp_dir / f\"timing_{session_id}.csv\")\n",
    "#clients_df = pd.read_csv(exp_dir / f\"clients_{session_id}.csv\")\n",
    "\n",
    "clients_df[\"function\"] = clients_df[\"function\"].map(json.loads)"
   ]
  },
  {
   "cell_type": "code",
   "execution_count": null,
   "metadata": {
    "collapsed": false,
    "jupyter": {
     "outputs_hidden": false
    },
    "pycharm": {
     "name": "#%%\n"
    }
   },
   "outputs": [],
   "source": [
    "#timing_df['client_accs'] = timing_df['all_accuracy'].map(ast.literal_eval)#.map(lambda li: [float(l) for l in li])\n",
    "#timing_df = timing_df.explode('client_accs', ignore_index=True)\n",
    "#timing_df['client_accs'] = timing_df['client_accs'].astype(float)\n",
    "#timing_df['client_accs'] = timing_df['client_accs'].astype(float)"
   ]
  },
  {
   "cell_type": "code",
   "execution_count": null,
   "metadata": {
    "collapsed": false,
    "jupyter": {
     "outputs_hidden": false
    },
    "pycharm": {
     "name": "#%%\n"
    }
   },
   "outputs": [],
   "source": [
    "fig, ax = plt.subplots()\n",
    "sns.lineplot(x=\"round_id\", y=\"global_test_accuracy\", data=timing_df, ax=ax, label=\"Weighted Mean\")\n",
    "#sns.lineplot(x=\"round_id\", y=\"median_test_accuracy\", data=timing_df, ax=ax, label=\"Weighted Mean\")\n",
    "#sns.lineplot(x=\"round_id\", y=\"client_accs\", data=timing_df, ax=ax, label=\"Client Distribution\")\n",
    "#sns.lineplot(x=\"round_id\", y=\"seconds\", data=clients_df, ax=ax)"
   ]
  },
  {
   "cell_type": "code",
   "execution_count": null,
   "metadata": {},
   "outputs": [],
   "source": [
    "sns.set_theme(style=\"whitegrid\")\n",
    "fig, ax = plt.subplots(figsize=(5, 5))\n",
    "#sns.set_color_codes(\"muted\")\n",
    "#sns.set_color_codes(\"muted\")\n",
    "#sns.barplot(x=\"round_id\", y=\"round_seconds\", data=timing_df, ax=ax, label=\"Weighted Mean\", color=\"b\")\n",
    "#sns.barplot(x=\"round_id\", y=\"clients_finished_seconds\", data=timing_df, ax=ax, label=\"Total\", color=\"b\")\n",
    "#sns.barplot(x=\"round_id\", y=\"clients_finished_seconds\", data=timing_df, ax=ax, label=\"Clients\", color=\"r\")\n",
    "#sns.barplot(x=\"round_id\", y=\"aggregator_seconds\", data=timing_df, ax=ax, label=\"Aggregator\", color=\"g\")\n",
    "#timing_df[[\"clients_finished_seconds\", \"aggregator_seconds\", \"evaluator_seconds\"]].plot.bar(stacked=True, ax=ax)\n",
    "cold_starts = timing_df[timing_df.index == 0]\n",
    "warm_starts = timing_df[timing_df.index != 0]\n",
    "cold_starts_mean = cold_starts.mean(numeric_only=True).to_frame().T\n",
    "warm_starts_mean = warm_starts.mean(numeric_only=True).to_frame().T\n",
    "cold_starts_std = cold_starts.std(numeric_only=True).to_frame().T\n",
    "warm_starts_std = warm_starts.std(numeric_only=True).to_frame().T\n",
    "all_df = pd.concat((cold_starts_mean, warm_starts_mean))\n",
    "all_df[[\"clients_finished_seconds\", \"aggregator_seconds\"]].plot.bar(stacked=True, ax=ax)\n",
    "ax.set_xticklabels([\"Cold\", \"Warm\"], rotation=0)\n",
    "#warm_starts_mean[[\"clients_finished_seconds\", \"aggregator_seconds\", \"evaluator_seconds\"]].plot.bar(stacked=True, ax=ax)\n",
    "#timing_df[[\"clients_finished_seconds\", \"aggregator_seconds\", \"evaluator_seconds\"]].plot.bar(stacked=True, ax=ax)\n",
    "#timing_df[[\"clients_finished_seconds\", \"aggregator_seconds\", \"evaluator_seconds\"]].mean().plot.pie(subplots=True, ax=ax)"
   ]
  },
  {
   "cell_type": "code",
   "execution_count": null,
   "metadata": {
    "collapsed": false,
    "jupyter": {
     "outputs_hidden": false
    },
    "pycharm": {
     "name": "#%%\n"
    }
   },
   "outputs": [],
   "source": [
    "warm_starts_mean\n",
    "#fig, ax = plt.subplots()\n",
    "#sns.barplot(x=timing_df.index, y=\"round_seconds\", data=timing_df, ax=ax, color=\"b\")"
   ]
  },
  {
   "cell_type": "code",
   "execution_count": null,
   "outputs": [],
   "source": [
    "fig, ax = plt.subplots()\n",
    "sns.lineplot(x=\"round_id\", y=\"round_seconds\", data=timing_df, ax=ax, color=\"b\")"
   ],
   "metadata": {
    "collapsed": false,
    "pycharm": {
     "name": "#%%\n"
    }
   }
  },
  {
   "cell_type": "code",
   "execution_count": null,
   "metadata": {
    "collapsed": false,
    "jupyter": {
     "outputs_hidden": false
    },
    "pycharm": {
     "name": "#%%\n"
    }
   },
   "outputs": [],
   "source": [
    "sns.set_style('whitegrid')\n",
    "fig, ax = plt.subplots()\n",
    "df = timing_df.copy()\n",
    "df[\"time\"] = df[\"round_seconds\"].cumsum() / 3600\n",
    "sns.lineplot(x=\"round_id\", y=\"time\", data=df, ax=ax)\n",
    "ax.set_ylabel(\"Time (h)\")\n",
    "ax.set_xlabel(\"Round\")"
   ]
  },
  {
   "cell_type": "code",
   "execution_count": null,
   "metadata": {
    "collapsed": false,
    "jupyter": {
     "outputs_hidden": false
    },
    "pycharm": {
     "name": "#%%\n"
    }
   },
   "outputs": [],
   "source": [
    "fig, ax = plt.subplots(figsize=(20, 5))\n",
    "sns.boxplot(x=\"client_id\", y=\"seconds\", data=clients_df, ax=ax)"
   ]
  },
  {
   "cell_type": "code",
   "execution_count": null,
   "metadata": {
    "collapsed": false,
    "jupyter": {
     "outputs_hidden": false
    },
    "pycharm": {
     "name": "#%%\n"
    }
   },
   "outputs": [],
   "source": [
    "fig, ax = plt.subplots(figsize=(5, 5))\n",
    "sns.boxplot(y=\"seconds\", data=clients_df, showfliers=False, showbox=False, whis=[1.0,99.0], ax=ax)\n",
    "sns.violinplot(y=\"seconds\", data=clients_df, ax=ax)\n",
    "fig.savefig(\"/Users/andreas/desktop/dist-violin.pdf\")"
   ]
  },
  {
   "cell_type": "code",
   "execution_count": null,
   "metadata": {
    "collapsed": false,
    "jupyter": {
     "outputs_hidden": false
    },
    "pycharm": {
     "name": "#%%\n"
    }
   },
   "outputs": [],
   "source": [
    "fig, ax = plt.subplots(figsize=(5, 5))\n",
    "sns.boxplot(y=\"seconds\", data=clients_df, ax=ax)\n",
    "fig.savefig(\"/Users/andreas/desktop/dist-box.pdf\")"
   ]
  },
  {
   "cell_type": "code",
   "execution_count": null,
   "metadata": {
    "collapsed": false,
    "jupyter": {
     "outputs_hidden": false
    },
    "pycharm": {
     "name": "#%%\n"
    }
   },
   "outputs": [],
   "source": [
    "exp_dir = Path(\"/Users/andreas/workspace/thesis-code/out/fedkeeper-comp/\")\n",
    "fig, ax = plt.subplots()\n",
    "non_ldp_df = pd.read_csv(\n",
    "    exp_dir / \"fedkeeper_mnist_100_25_5_0.99_non_ldp\" / f\"timing_ab622373-4075-4bd2-b97d-4cf00a79440a.csv\")\n",
    "ldp_df = pd.read_csv(\n",
    "    exp_dir / \"fedkeeper_mnist_100_25_5_0.99_ldp\" / f\"timing_6d725adc-7e03-41d8-94a4-c135fd613adb.csv\")\n",
    "#sns.lineplot(x=\"round_id\", y=\"global_test_accuracy\",\n",
    "#             data=non_ldp_df,\n",
    "#             ax=ax,\n",
    "#             label=\"Non LDP\")\n",
    "#sns.lineplot(x=\"round_id\", y=\"global_test_accuracy\",\n",
    "#             data=ldp_df,\n",
    "#             ax=ax,\n",
    "#             label=\"LDP\")\n",
    "sns.lineplot(x=\"round_id\", y=\"clients_finished_seconds\",\n",
    "             data=non_ldp_df,\n",
    "             ax=ax,\n",
    "             label=\"Non LDP\")\n",
    "sns.lineplot(x=\"round_id\", y=\"clients_finished_seconds\",\n",
    "             data=ldp_df,\n",
    "             ax=ax,\n",
    "             label=\"LDP\")"
   ]
  },
  {
   "cell_type": "code",
   "execution_count": null,
   "metadata": {
    "collapsed": false,
    "jupyter": {
     "outputs_hidden": false
    },
    "pycharm": {
     "name": "#%%\n"
    }
   },
   "outputs": [],
   "source": [
    "#\n",
    "clients_df[\"function_type\"] = clients_df[\"function\"].map(lambda x: x[\"type\"])\n",
    "clients_df[\"function_host\"] = clients_df[\"function\"].map(lambda x: x[\"params\"][\"url\"].split(\"function\")[0])"
   ]
  },
  {
   "cell_type": "code",
   "execution_count": null,
   "outputs": [],
   "source": [
    "fig, ax = plt.subplots(figsize=(5, 5))\n",
    "sns.boxplot(x=\"function_host\", y=\"seconds\", data=clients_df, ax=ax)\n",
    "plt.xticks(rotation=45)\n",
    "fig.savefig(\"/Users/andreas/Desktop/time.pdf\")\n"
   ],
   "metadata": {
    "collapsed": false,
    "pycharm": {
     "name": "#%%\n"
    }
   }
  },
  {
   "cell_type": "code",
   "execution_count": null,
   "outputs": [],
   "source": [
    "timing_df"
   ],
   "metadata": {
    "collapsed": false,
    "pycharm": {
     "name": "#%%\n"
    }
   }
  },
  {
   "cell_type": "code",
   "execution_count": null,
   "outputs": [],
   "source": [],
   "metadata": {
    "collapsed": false,
    "pycharm": {
     "name": "#%%\n"
    }
   }
  }
 ],
 "metadata": {
  "kernelspec": {
   "display_name": "Python 3",
   "language": "python",
   "name": "python3"
  },
  "language_info": {
   "codemirror_mode": {
    "name": "ipython",
    "version": 3
   },
   "file_extension": ".py",
   "mimetype": "text/x-python",
   "name": "python",
   "nbconvert_exporter": "python",
   "pygments_lexer": "ipython3",
   "version": "3.8.2"
  }
 },
 "nbformat": 4,
 "nbformat_minor": 4
}