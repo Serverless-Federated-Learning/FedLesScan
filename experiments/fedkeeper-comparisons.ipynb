{
 "cells": [
  {
   "cell_type": "code",
   "execution_count": null,
   "metadata": {
    "collapsed": true
   },
   "outputs": [],
   "source": [
    "import os\n",
    "import ast\n",
    "from pathlib import Path\n",
    "\n",
    "import numpy as np\n",
    "import pandas as pd\n",
    "import matplotlib.pyplot as plt\n",
    "import seaborn as sns\n",
    "\n",
    "% matplotlib inline"
   ]
  },
  {
   "cell_type": "code",
   "execution_count": null,
   "outputs": [],
   "source": [
    "exp_dir = Path(\"/Users/andreas/workspace/thesis-code/experiments/fedkeeper/logs\")\n",
    "session_id = \"3c1dd162-a3b9-483a-b7da-faf5aa0a800d\"\n",
    "\n",
    "#Fedless Shakespeare 3c1dd162-a3b9-483a-b7da-faf5aa0a800d\n",
    "#Fedless MNIST cc1ee881-e81e-46fe-81e9-87872de160f4\n",
    "timing_df = pd.read_csv(exp_dir / f\"timing_{session_id}.csv\")\n",
    "clients_df = pd.read_csv(exp_dir / f\"clients_{session_id}.csv\")"
   ],
   "metadata": {
    "collapsed": false,
    "pycharm": {
     "name": "#%%\n"
    }
   }
  },
  {
   "cell_type": "code",
   "execution_count": null,
   "outputs": [],
   "source": [
    "#timing_df['client_accs'] = timing_df['all_accuracy'].map(ast.literal_eval)#.map(lambda li: [float(l) for l in li])\n",
    "#timing_df = timing_df.explode('client_accs', ignore_index=True)\n",
    "#timing_df['client_accs'] = timing_df['client_accs'].astype(float)\n",
    "#timing_df['client_accs'] = timing_df['client_accs'].astype(float)"
   ],
   "metadata": {
    "collapsed": false,
    "pycharm": {
     "name": "#%%\n"
    }
   }
  },
  {
   "cell_type": "code",
   "execution_count": null,
   "outputs": [],
   "source": [
    "fig, ax = plt.subplots()\n",
    "sns.lineplot(x=\"round_id\", y=\"global_test_accuracy\", data=timing_df, ax=ax, label=\"Weighted Mean\")\n",
    "#sns.lineplot(x=\"round_id\", y=\"client_accs\", data=timing_df, ax=ax, label=\"Client Distribution\")\n",
    "#sns.lineplot(x=\"round_id\", y=\"seconds\", data=clients_df, ax=ax)"
   ],
   "metadata": {
    "collapsed": false,
    "pycharm": {
     "name": "#%%\n"
    }
   }
  },
  {
   "cell_type": "code",
   "execution_count": null,
   "outputs": [],
   "source": [
    "fig, ax = plt.subplots()\n",
    "sns.barplot(x=\"round_id\", y=\"round_seconds\", data=timing_df, ax=ax)"
   ],
   "metadata": {
    "collapsed": false,
    "pycharm": {
     "name": "#%%\n"
    }
   }
  },
  {
   "cell_type": "code",
   "execution_count": null,
   "outputs": [],
   "source": [
    "fig, ax = plt.subplots(figsize=(20, 5))\n",
    "sns.barplot(x=\"round_id\", y=\"seconds\", data=clients_df, ax=ax)"
   ],
   "metadata": {
    "collapsed": false,
    "pycharm": {
     "name": "#%%\n"
    }
   }
  },
  {
   "cell_type": "code",
   "execution_count": null,
   "outputs": [],
   "source": [
    "exp_dir = Path(\"/Users/andreas/workspace/thesis-code/out/fedkeeper-comp/\")\n",
    "fig, ax = plt.subplots()\n",
    "non_ldp_df = pd.read_csv(\n",
    "    exp_dir / \"fedkeeper_mnist_100_25_5_0.99_non_ldp\" / f\"timing_ab622373-4075-4bd2-b97d-4cf00a79440a.csv\")\n",
    "ldp_df = pd.read_csv(\n",
    "    exp_dir / \"fedkeeper_mnist_100_25_5_0.99_ldp\" / f\"timing_6d725adc-7e03-41d8-94a4-c135fd613adb.csv\")\n",
    "#sns.lineplot(x=\"round_id\", y=\"global_test_accuracy\",\n",
    "#             data=non_ldp_df,\n",
    "#             ax=ax,\n",
    "#             label=\"Non LDP\")\n",
    "#sns.lineplot(x=\"round_id\", y=\"global_test_accuracy\",\n",
    "#             data=ldp_df,\n",
    "#             ax=ax,\n",
    "#             label=\"LDP\")\n",
    "sns.lineplot(x=\"round_id\", y=\"clients_finished_seconds\",\n",
    "             data=non_ldp_df,\n",
    "             ax=ax,\n",
    "             label=\"Non LDP\")\n",
    "sns.lineplot(x=\"round_id\", y=\"clients_finished_seconds\",\n",
    "             data=ldp_df,\n",
    "             ax=ax,\n",
    "             label=\"LDP\")\n"
   ],
   "metadata": {
    "collapsed": false,
    "pycharm": {
     "name": "#%%\n"
    }
   }
  }
 ],
 "metadata": {
  "kernelspec": {
   "display_name": "Python 3",
   "language": "python",
   "name": "python3"
  },
  "language_info": {
   "codemirror_mode": {
    "name": "ipython",
    "version": 2
   },
   "file_extension": ".py",
   "mimetype": "text/x-python",
   "name": "python",
   "nbconvert_exporter": "python",
   "pygments_lexer": "ipython2",
   "version": "2.7.6"
  }
 },
 "nbformat": 4,
 "nbformat_minor": 0
}