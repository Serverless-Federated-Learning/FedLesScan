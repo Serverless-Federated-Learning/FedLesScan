{
 "cells": [
  {
   "cell_type": "code",
   "execution_count": null,
   "metadata": {
    "collapsed": true
   },
   "outputs": [],
   "source": [
    "import numpy as np\n",
    "import matplotlib.pyplot as plt"
   ]
  },
  {
   "cell_type": "code",
   "execution_count": null,
   "outputs": [],
   "source": [
    "# https://cloud.google.com/functions/pricing\n",
    "\n",
    "# Memory (MB), CPU (GHz), Price/100ms ($)\n",
    "function_tiers = [\n",
    "    (128, 0.2, 0.000000231),\n",
    "    (256, 0.4, 0.000000463),\n",
    "    (512, 0.8, 0.000000925),\n",
    "    (1024, 1.4, 0.000001650),\n",
    "    (2048, 2.4, 0.000002900),\n",
    "    (4096, 4.8, 0.000005800),\n",
    "    (8192, 4.8, 0.000006800)\n",
    "]\n",
    "\n",
    "PRICE_EGRESS_PER_GB = 0.12\n",
    "INVOCATIONS_UNIT_PRICE = 0.0000004\n",
    "GB_SECOND_UNIT_PRICE = 0.0000025\n",
    "GHZ_SECOND_UNIT_PRICE = 0.0000100\n",
    "NETWORKING_UNIT_PRICE = 0.12\n",
    "\n",
    "\n",
    "def calc_function_cost(memory,\n",
    "                       cpu_ghz,\n",
    "                       invocations,\n",
    "                       function_runtime_seconds,\n",
    "                       function_egress_mb,\n",
    "                       substract_free_tier: bool = True):\n",
    "    gb_sec_per_invoc = (memory / 1024.0) * function_runtime_seconds\n",
    "    ghz_sec_per_invoc = cpu_ghz * function_runtime_seconds\n",
    "    gb_sec_per_month = gb_sec_per_invoc * invocations\n",
    "    ghz_sec_per_month = ghz_sec_per_invoc * invocations\n",
    "    egress_gb_per_month = invocations * function_egress_mb / 1024\n",
    "\n",
    "    if substract_free_tier:\n",
    "        invocations = max(0, invocations - 2_000_000)\n",
    "        gb_sec_per_month = max(0, gb_sec_per_month - 400_000)\n",
    "        ghz_sec_per_month = max(0, ghz_sec_per_month - 200_000)\n",
    "        egress_gb_per_month = max(0, egress_gb_per_month - 5)\n",
    "\n",
    "    return (invocations * INVOCATIONS_UNIT_PRICE + gb_sec_per_month * GB_SECOND_UNIT_PRICE\n",
    "            + ghz_sec_per_month * GHZ_SECOND_UNIT_PRICE +\n",
    "            egress_gb_per_month * NETWORKING_UNIT_PRICE)"
   ],
   "metadata": {
    "collapsed": false,
    "pycharm": {
     "name": "#%%\n"
    }
   }
  },
  {
   "cell_type": "code",
   "execution_count": null,
   "outputs": [],
   "source": [
    "calc_function_cost(\n",
    "    memory=128,\n",
    "    cpu_ghz=0.2,\n",
    "    invocations=10_000_000,\n",
    "    function_runtime_seconds=0.3,\n",
    "    function_egress_mb=0,\n",
    "    substract_free_tier=True\n",
    ")"
   ],
   "metadata": {
    "collapsed": false,
    "pycharm": {
     "name": "#%%\n"
    }
   }
  },
  {
   "cell_type": "code",
   "execution_count": null,
   "outputs": [],
   "source": [
    "calc_function_cost(\n",
    "    memory=256,\n",
    "    cpu_ghz=0.4,\n",
    "    invocations=50_000_000,\n",
    "    function_runtime_seconds=0.5,\n",
    "    function_egress_mb=0.005,\n",
    "    substract_free_tier=True\n",
    ")"
   ],
   "metadata": {
    "collapsed": false,
    "pycharm": {
     "name": "#%%\n"
    }
   }
  },
  {
   "cell_type": "code",
   "execution_count": null,
   "outputs": [],
   "source": [
    "calc_function_cost(\n",
    "    memory=2048,\n",
    "    cpu_ghz=2.4,\n",
    "    invocations=4_000,\n",
    "    function_runtime_seconds=8.0,\n",
    "    function_egress_mb=2_330_095 / 1024.0 / 1024.0\n",
    ")"
   ],
   "metadata": {
    "collapsed": false,
    "pycharm": {
     "name": "#%%\n"
    }
   }
  },
  {
   "cell_type": "code",
   "execution_count": null,
   "outputs": [],
   "source": [
    "mems, cpus, costs = [], [], []\n",
    "for mem, cpu, _ in function_tiers:\n",
    "    cost = calc_function_cost(\n",
    "        memory=mem,\n",
    "        cpu_ghz=cpu,\n",
    "        invocations=4_000,\n",
    "        function_runtime_seconds=5.0 + 20.0 / (cpu ** 2),\n",
    "        function_egress_mb=2_330_095 / 1024.0 / 1024.0,\n",
    "        substract_free_tier=False\n",
    "    )\n",
    "    mems.append(mem)\n",
    "    costs.append(cost)\n",
    "plt.plot(mems, costs)"
   ],
   "metadata": {
    "collapsed": false,
    "pycharm": {
     "name": "#%%\n"
    }
   }
  },
  {
   "cell_type": "code",
   "execution_count": null,
   "outputs": [],
   "source": [],
   "metadata": {
    "collapsed": false,
    "pycharm": {
     "name": "#%%\n"
    }
   }
  }
 ],
 "metadata": {
  "kernelspec": {
   "display_name": "Python 3",
   "language": "python",
   "name": "python3"
  },
  "language_info": {
   "codemirror_mode": {
    "name": "ipython",
    "version": 2
   },
   "file_extension": ".py",
   "mimetype": "text/x-python",
   "name": "python",
   "nbconvert_exporter": "python",
   "pygments_lexer": "ipython2",
   "version": "2.7.6"
  }
 },
 "nbformat": 4,
 "nbformat_minor": 0
}