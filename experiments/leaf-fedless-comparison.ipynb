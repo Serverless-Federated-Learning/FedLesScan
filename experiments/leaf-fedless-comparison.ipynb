{
 "cells": [
  {
   "cell_type": "code",
   "execution_count": 16,
   "metadata": {
    "tags": []
   },
   "outputs": [],
   "source": [
    "import os\n",
    "import sys\n",
    "import json\n",
    "from pathlib import Path\n",
    "\n",
    "import numpy as np\n",
    "import pandas as pd\n",
    "import matplotlib.pyplot as plt\n",
    "import seaborn as sns\n",
    "\n",
    "from IPython.core.display import HTML, display\n",
    "from ipywidgets import *\n",
    "\n",
    "from fedless.benchmark.fedkeeper import create_mnist_cnn\n",
    "from fedless.benchmark.leaf import create_femnist_cnn\n",
    "from fedless.serialization import NpzWeightsSerializer\n",
    "\n",
    "from plot_utils import process_flower_logs\n",
    "from plot_utils import calc_gcloud_function_cost\n",
    "\n",
    "%matplotlib inline"
   ]
  },
  {
   "cell_type": "code",
   "execution_count": 60,
   "metadata": {},
   "outputs": [],
   "source": [
    "SNS_DEFAULT_PALETTE = sns.color_palette(\"mako\")#, as_cmap=True)\n",
    "sns.set(#font=\"Helvetica\", #\"Franklin Gothic Book\",\n",
    "        rc={\n",
    " #‘axes.axisbelow’: False,\n",
    " \"axes.edgecolor\": \"lightgrey\",\n",
    " \"axes.facecolor\": \"None\",\n",
    " \"axes.grid\": True,\n",
    " #‘axes.labelcolor’: ‘dimgrey’,\n",
    " \"axes.spines.right\": False,\n",
    " \"axes.spines.top\": False,\n",
    "\"figure.autolayout\": True,\n",
    " #‘figure.facecolor’: ‘white’,\n",
    " #‘lines.solid_capstyle’: ‘round’,\n",
    " #‘patch.edgecolor’: ‘w’,\n",
    " #‘patch.force_edgecolor’: True,\n",
    " #‘text.color’: ‘dimgrey’,\n",
    " #‘xtick.bottom’: False,\n",
    " #‘xtick.color’: ‘dimgrey’,\n",
    " #‘xtick.direction’: ‘out’,\n",
    " #‘xtick.top’: False,\n",
    " #‘ytick.color’: ‘dimgrey’,\n",
    " #‘ytick.direction’: ‘out’,\n",
    " #‘ytick.left’: False,\n",
    " #‘ytick.right’: False})\n",
    "        })\n",
    "\n",
    "sns.set_context(\"paper\", rc={\"font.size\":16,\n",
    "                                \"axes.titlesize\":20,\n",
    "                                \"axes.labelsize\":18, \n",
    "                               \"xtick.labelsize\": 13,\n",
    "                               \"ytick.labelsize\": 13,})"
   ]
  },
  {
   "cell_type": "code",
   "execution_count": 36,
   "metadata": {},
   "outputs": [],
   "source": [
    "FLOWER_LOGS_FOLDER = Path(\"/Users/andreas/workspace/thesis-code/out/flower-logs\")"
   ]
  },
  {
   "cell_type": "code",
   "execution_count": 25,
   "metadata": {},
   "outputs": [],
   "source": [
    "flower_df = process_flower_logs(FLOWER_LOGS_FOLDER)"
   ]
  },
  {
   "cell_type": "code",
   "execution_count": 26,
   "metadata": {},
   "outputs": [],
   "source": [
    "fedless_dfs = []\n",
    "fedless_client_dfs = []\n",
    "for folder in Path(\"/Users/andreas/workspace/thesis-code/out/\").glob(\"fedless-*-flower-*\"):\n",
    "    dataset = folder.name.split(\"-\")[1]\n",
    "    clients_in_round = int(folder.name.split(\"-\")[3])\n",
    "    for timing_file in folder.glob(\"timing*.csv\"):\n",
    "        seed = timing_file.name.split(\"_\")[1].split(\".\")[0]\n",
    "        #config_file = timing_file.parent / f\"config_{seed}.json\"\n",
    "        #hyperparams = {}\n",
    "        #if config_file.exists():\n",
    "        #    config = json.loads(config_file.read_text())\n",
    "        #    hyperparams = config[\"clients\"][\"hyperparams\"]        \n",
    "#        \n",
    "        df = pd.read_csv(timing_file)\n",
    "        index = pd.MultiIndex.from_tuples(\n",
    "        [(\n",
    "            dataset,\n",
    "            clients_in_round,\n",
    "            #clients_total,\n",
    "            #local_epochs,\n",
    "            #batch_size,\n",
    "            seed\n",
    "        )] * len(df),\n",
    "        names=[\n",
    "            \"dataset\",\n",
    "            \"clients_in_round\",\n",
    "            #\"clients_total\",\n",
    "            #\"local_epochs\",\n",
    "            #\"batch_size\",\n",
    "            \"seed\"\n",
    "        ]\n",
    "        )\n",
    "        df = pd.DataFrame(df.values, index=index, columns=df.columns)\n",
    "        df.rename(columns = {\n",
    "            'round_id':'round', \n",
    "            'global_test_accuracy': 'accuracy',\n",
    "            'global_test_loss': 'loss',\n",
    "            'round_seconds': 'time',\n",
    "            'clients_finished_seconds': 'time_clients_fit'\n",
    "        }, inplace = True)\n",
    "        new_dtypes = {\n",
    "            \"session_id\": str, \n",
    "            \"round\": int, \n",
    "            \"accuracy\": float,\n",
    "            \"loss\": float,\n",
    "            \"time\": float,\n",
    "            \"time_clients_fit\": float,\n",
    "            \"num_clients_round\": int,\n",
    "            #\"time_since_start\": float, \n",
    "            #\"time_agg_eval\": float\n",
    "        }\n",
    "        if not df.empty:\n",
    "            df = df.astype(new_dtypes)\n",
    "        fedless_dfs.append(df)\n",
    "        \n",
    "        \n",
    "    for client_file in folder.glob(\"clients*.csv\"):\n",
    "        seed = client_file.name.split(\"_\")[1].split(\".\")[0]\n",
    "        df = pd.read_csv(client_file)\n",
    "        index = pd.MultiIndex.from_tuples(\n",
    "        [(\n",
    "            dataset,\n",
    "            clients_in_round,\n",
    "            seed\n",
    "        )] * len(df),\n",
    "        names=[\n",
    "            \"dataset\",\n",
    "            \"clients_in_round\",\n",
    "            \"seed\"\n",
    "        ]\n",
    "        )\n",
    "        df = pd.DataFrame(df.values, index=index, columns=df.columns)\n",
    "        #df.rename(columns = {\n",
    "        #    'round_id':'round', \n",
    "        #    'global_test_accuracy': 'accuracy',\n",
    "        #    'global_test_loss': 'loss',\n",
    "        #    'round_seconds': 'time',\n",
    "        #    'clients_finished_seconds': 'time_clients_fit'\n",
    "        #}, inplace = True)\n",
    "        new_dtypes = {\n",
    "            \"seconds\": float,\n",
    "            \"round\": int\n",
    "        }\n",
    "        if not df.empty:\n",
    "            df = df.astype(new_dtypes)\n",
    "        fedless_client_dfs.append(df)\n",
    "    \n",
    "fedless_df = pd.concat(fedless_dfs)\n",
    "fedless_client_df = pd.concat(fedless_client_dfs)"
   ]
  },
  {
   "cell_type": "markdown",
   "metadata": {},
   "source": [
    "## MNIST"
   ]
  },
  {
   "cell_type": "markdown",
   "metadata": {},
   "source": [
    "#### Accuracy over Rounds"
   ]
  },
  {
   "cell_type": "code",
   "execution_count": 61,
   "metadata": {},
   "outputs": [
    {
     "name": "stderr",
     "output_type": "stream",
     "text": [
      "<ipython-input-61-a7f7ad5d6221>:4: PerformanceWarning: indexing past lexsort depth may impact performance.\n",
      "  df_ = fedless_df.loc[(\"mnist\", clients_in_round)]\n",
      "<ipython-input-61-a7f7ad5d6221>:4: PerformanceWarning: indexing past lexsort depth may impact performance.\n",
      "  df_ = fedless_df.loc[(\"mnist\", clients_in_round)]\n",
      "<ipython-input-61-a7f7ad5d6221>:4: PerformanceWarning: indexing past lexsort depth may impact performance.\n",
      "  df_ = fedless_df.loc[(\"mnist\", clients_in_round)]\n",
      "<ipython-input-61-a7f7ad5d6221>:4: PerformanceWarning: indexing past lexsort depth may impact performance.\n",
      "  df_ = fedless_df.loc[(\"mnist\", clients_in_round)]\n",
      "<ipython-input-61-a7f7ad5d6221>:4: PerformanceWarning: indexing past lexsort depth may impact performance.\n",
      "  df_ = fedless_df.loc[(\"mnist\", clients_in_round)]\n"
     ]
    },
    {
     "data": {
      "image/png": "[encoded data removed]",
      "text/plain": [
       "<Figure size 432x288 with 1 Axes>"
      ]
     },
     "metadata": {},
     "output_type": "display_data"
    }
   ],
   "source": [
    "vals = []\n",
    "target = 0.90\n",
    "for clients_in_round in [5, 10, 25, 50, 75]:\n",
    "    df_ = fedless_df.loc[(\"mnist\", clients_in_round)]\n",
    "    for target in [0.9, 0.95, 0.98, 0.99]:\n",
    "        mean_round_until_target_fedless= df_[df_[\"accuracy\"] >= target].groupby(\"seed\").min(\"round\")[\"round\"].mean() \n",
    "        vals.append((target, mean_round_until_target_fedless, clients_in_round))\n",
    "df_ = pd.DataFrame(vals, columns=[\"target\", \"rounds\", \"n_clients\"])\n",
    "fig, ax = plt.subplots()\n",
    "\n",
    "sns.barplot(x=\"n_clients\", y=\"rounds\", data=df_, hue=\"target\", palette=SNS_DEFAULT_PALETTE, ax=ax)\n",
    "ax.set_xlabel(\"Clients\")\n",
    "ax.set_ylabel(\"Rounds\")\n",
    "fig.savefig(\"fedless-mnist-rounds-varying-clients.pdf\")"
   ]
  },
  {
   "cell_type": "code",
   "execution_count": 7,
   "metadata": {},
   "outputs": [
    {
     "name": "stderr",
     "output_type": "stream",
     "text": [
      "<ipython-input-7-ce6782200e1f>:7: PerformanceWarning: indexing past lexsort depth may impact performance.\n",
      "  df_ = fedless_df.loc[(\"mnist\", 75)]\n",
      "<ipython-input-7-ce6782200e1f>:7: PerformanceWarning: indexing past lexsort depth may impact performance.\n",
      "  df_ = fedless_df.loc[(\"mnist\", 75)]\n",
      "<ipython-input-7-ce6782200e1f>:7: PerformanceWarning: indexing past lexsort depth may impact performance.\n",
      "  df_ = fedless_df.loc[(\"mnist\", 75)]\n",
      "<ipython-input-7-ce6782200e1f>:7: PerformanceWarning: indexing past lexsort depth may impact performance.\n",
      "  df_ = fedless_df.loc[(\"mnist\", 75)]\n"
     ]
    },
    {
     "data": {
      "text/html": [
       "<div>\n",
       "<style scoped>\n",
       "    .dataframe tbody tr th:only-of-type {\n",
       "        vertical-align: middle;\n",
       "    }\n",
       "\n",
       "    .dataframe tbody tr th {\n",
       "        vertical-align: top;\n",
       "    }\n",
       "\n",
       "    .dataframe thead th {\n",
       "        text-align: right;\n",
       "    }\n",
       "</style>\n",
       "<table border=\"1\" class=\"dataframe\">\n",
       "  <thead>\n",
       "    <tr style=\"text-align: right;\">\n",
       "      <th>method</th>\n",
       "      <th>fedless</th>\n",
       "      <th>flower</th>\n",
       "    </tr>\n",
       "    <tr>\n",
       "      <th>target</th>\n",
       "      <th></th>\n",
       "      <th></th>\n",
       "    </tr>\n",
       "  </thead>\n",
       "  <tbody>\n",
       "    <tr>\n",
       "      <th>0.90</th>\n",
       "      <td>2.666667</td>\n",
       "      <td>4.333333</td>\n",
       "    </tr>\n",
       "    <tr>\n",
       "      <th>0.95</th>\n",
       "      <td>4.000000</td>\n",
       "      <td>6.000000</td>\n",
       "    </tr>\n",
       "    <tr>\n",
       "      <th>0.98</th>\n",
       "      <td>10.000000</td>\n",
       "      <td>12.666667</td>\n",
       "    </tr>\n",
       "    <tr>\n",
       "      <th>0.99</th>\n",
       "      <td>32.333333</td>\n",
       "      <td>37.333333</td>\n",
       "    </tr>\n",
       "  </tbody>\n",
       "</table>\n",
       "</div>"
      ],
      "text/plain": [
       "method    fedless     flower\n",
       "target                      \n",
       "0.90     2.666667   4.333333\n",
       "0.95     4.000000   6.000000\n",
       "0.98    10.000000  12.666667\n",
       "0.99    32.333333  37.333333"
      ]
     },
     "execution_count": 7,
     "metadata": {},
     "output_type": "execute_result"
    }
   ],
   "source": [
    "vals = []\n",
    "\n",
    "for target in [0.9, 0.95, 0.98, 0.99]:\n",
    "    df_ = flower_df.loc[(\"mnist\", 75, 100, 5)]\n",
    "    mean_round_until_target_flower = df_[df_[\"accuracy\"] >= target].groupby(\"seed\").min(\"round\")[\"round\"].mean()\n",
    "    vals.append((target, mean_round_until_target_flower, \"flower\"))\n",
    "    df_ = fedless_df.loc[(\"mnist\", 75)]\n",
    "    mean_round_until_target_fedless= df_[df_[\"accuracy\"] >= target].groupby(\"seed\").min(\"round\")[\"round\"].mean() \n",
    "    vals.append((target, mean_round_until_target_fedless, \"fedless\"))\n",
    "    \n",
    "\n",
    "df_ = pd.DataFrame(vals, columns=[\"target\", \"rounds\", \"method\"])\n",
    "sns.barplot(x=\"target\", y=\"rounds\", hue=\"method\", data=df_)\n",
    "df_.pivot(columns=\"method\", values=\"rounds\", index=\"target\")"
   ]
  },
  {
   "cell_type": "markdown",
   "metadata": {},
   "source": [
    "#### Round Durations"
   ]
  },
  {
   "cell_type": "code",
   "execution_count": 8,
   "metadata": {},
   "outputs": [
    {
     "name": "stderr",
     "output_type": "stream",
     "text": [
      "<ipython-input-8-d09e3bfd6871>:17: PerformanceWarning: indexing past lexsort depth may impact performance.\n",
      "  fls_df_ = fedless_df.loc[(\"mnist\", 75)]\n"
     ]
    },
    {
     "data": {
      "application/vnd.jupyter.widget-view+json": {
       "model_id": "7d808315b6ce4cffa573cf0b0913693c",
       "version_major": 2,
       "version_minor": 0
      },
      "text/plain": [
       "Canvas(toolbar=Toolbar(toolitems=[('Home', 'Reset original view', 'home', 'home'), ('Back', 'Back to previous …"
      ]
     },
     "metadata": {},
     "output_type": "display_data"
    },
    {
     "name": "stdout",
     "output_type": "stream",
     "text": [
      "Warm duration differnce mean\n",
      "          duration\n",
      "method            \n",
      "fedless  19.520810\n",
      "flower   12.018501\n",
      "Fedless Timings\n",
      "        seconds  round\n",
      "eval                  \n",
      "False  7.062003     16\n"
     ]
    },
    {
     "name": "stderr",
     "output_type": "stream",
     "text": [
      "<ipython-input-8-d09e3bfd6871>:56: PerformanceWarning: indexing past lexsort depth may impact performance.\n",
      "  sns.violinplot(y=\"seconds\", data=fedless_client_df.loc[(\"mnist\", 75)], ax=axarr[3])\n",
      "<ipython-input-8-d09e3bfd6871>:60: PerformanceWarning: indexing past lexsort depth may impact performance.\n",
      "  print(fedless_client_df.loc[(\"mnist\", 75)].groupby(\"eval\").median())\n"
     ]
    }
   ],
   "source": [
    "vals = []\n",
    "detail_vals = []\n",
    "\n",
    "flwr_df_ = flower_df.loc[(\"mnist\", 75, 100, 5)]\n",
    "flwr_cold_df_ = flwr_df_[flwr_df_[\"round\"] == 1]\n",
    "flwr_warm_df_ = flwr_df_[flwr_df_[\"round\"] > 1]\n",
    "for t in flwr_cold_df_[\"time\"]:\n",
    "    vals.append((\"flower\", \"cold\", \"round\", t))\n",
    "for t in flwr_warm_df_[\"time\"]:\n",
    "    vals.append((\"flower\", \"warm\", \"round\", t))\n",
    "for t in flwr_warm_df_[\"time_agg_eval\"]:\n",
    "    vals.append((\"flower\", \"warm\", \"agg_eval\", t))\n",
    "#for t in flwr_warm_df_[\"time_clients_fit\"]:\n",
    "#    vals.append((\"flower\", \"warm\", \"time_clients_fit\", t))\n",
    "\n",
    "\n",
    "fls_df_ = fedless_df.loc[(\"mnist\", 75)]\n",
    "fls_cold_df_ = fls_df_[fls_df_[\"round\"] == 1]\n",
    "fls_warm_df_ = fls_df_[fls_df_[\"round\"] > 1]\n",
    "for t in fls_cold_df_[\"time\"]:\n",
    "    vals.append((\"fedless\", \"cold\", \"round\", t))\n",
    "for t in fls_warm_df_[\"time\"]:\n",
    "    vals.append((\"fedless\", \"warm\", \"round\", t))\n",
    "for t in fls_warm_df_[\"aggregator_seconds\"]:\n",
    "    vals.append((\"fedless\", \"warm\", \"agg_eval\", t))\n",
    "#for t in fls_warm_df_[\"time_clients_fit\"]:\n",
    "#    vals.append((\"fedless\", \"warm\", \"time_clients_fit\", t))\n",
    "    \n",
    "\n",
    "\n",
    "df_ = pd.DataFrame(vals, columns=[\"method\", \"state\", \"task\", \"duration\"])\n",
    "    \n",
    "fig, axarr = plt.subplots(ncols=4, figsize=(16, 4))\n",
    "\n",
    "# Warm Durations\n",
    "df_warm_ = df_[(df_[\"state\"] == \"warm\") & (df_[\"task\"] == \"round\")]\n",
    "sns.barplot(x=\"method\", y=\"duration\", data=df_warm_, ax=axarr[0])\n",
    "axarr[0].set_title(\"Flower vs Fedless Round Durations\")\n",
    "\n",
    "# Cold vs Warm Fedless\n",
    "df_fedless_ = df_[(df_[\"method\"] == \"fedless\") & (df_[\"task\"] == \"round\")]\n",
    "sns.boxplot(x=\"state\", y=\"duration\", data=df_fedless_, ax=axarr[1])\n",
    "axarr[1].set_title(\"Fedless Round Durations\")\n",
    "#df_rounds_ = df_[(df_[\"task\"] == \"round\")]\n",
    "#sns.boxplot(x=\"method\", y=\"duration\", data=df_rounds_, ax=axarr[1], hue=\"state\")\n",
    "#axarr[1].set_title(\"Hot vs Warm Invocation\")\n",
    "\n",
    "# Timing Breakdown\n",
    "sns.barplot(x=\"method\", y=\"duration\", data=df_, ax=axarr[2], hue=\"task\")\n",
    "axarr[2].set_title(\"Round vs Aggregation Time\")\n",
    "\n",
    "#df_warm_.groupby([\"method\", \"state\"]).mean(\"duration\")\n",
    "print(f\"Warm duration differnce mean\")\n",
    "print(df_warm_.groupby(\"method\").mean())\n",
    "\n",
    "sns.violinplot(y=\"seconds\", data=fedless_client_df.loc[(\"mnist\", 75)], ax=axarr[3])\n",
    "axarr[3].set_title(\"Fedless Client Durations\")\n",
    "\n",
    "print(f\"Fedless Timings\")\n",
    "print(fedless_client_df.loc[(\"mnist\", 75)].groupby(\"eval\").median())"
   ]
  },
  {
   "cell_type": "code",
   "execution_count": 62,
   "metadata": {},
   "outputs": [
    {
     "data": {
      "image/png": "[encoded data removed]",
      "text/plain": [
       "<Figure size 432x288 with 1 Axes>"
      ]
     },
     "metadata": {},
     "output_type": "display_data"
    },
    {
     "data": {
      "application/vnd.jupyter.widget-view+json": {
       "model_id": "d96fd3eafa374d9a82e519bc71bc1af8",
       "version_major": 2,
       "version_minor": 0
      },
      "text/plain": [
       "interactive(children=(IntSlider(value=100, description='clients_per_round', max=200, min=5, step=5), IntSlider…"
      ]
     },
     "metadata": {},
     "output_type": "display_data"
    },
    {
     "data": {
      "text/plain": [
       "<function __main__.f(clients_per_round, clients_total)>"
      ]
     },
     "execution_count": 62,
     "metadata": {},
     "output_type": "execute_result"
    }
   ],
   "source": [
    "model_size = sys.getsizeof(NpzWeightsSerializer().serialize(create_mnist_cnn().get_weights())) / 10**6\n",
    "flwr_df_ = flower_df.loc[(\"mnist\", 75, 100, 5)]\n",
    "instance_runtime_orig = flwr_df_.groupby(\"seed\").max(\"time_since_start\").median()[\"time_since_start\"]\n",
    "\n",
    "\n",
    "x = np.linspace(0, 2 * np.pi)\n",
    "fig = plt.figure()\n",
    "ax = fig.add_subplot(1, 1, 1)\n",
    "#line, = ax.plot(x, np.sin(x))\n",
    "\n",
    "def f(clients_per_round, clients_total):\n",
    "    #selem = disk(int(Median_Size))\n",
    "    #with warnings.catch_warnings():\n",
    "    #    warnings.simplefilter(\"ignore\")\n",
    "    #    img_median = rank.median(img_gray, selem=selem) \n",
    "    \n",
    "    n_clients_per_round = clients_per_round\n",
    "    n_rounds = 5000 / n_clients_per_round\n",
    "    n_instances = clients_total\n",
    "    n_invocations = n_rounds * n_clients_per_round \n",
    "    instance_runtime = instance_runtime_orig / ((n_clients_per_round) / 75) # 3600 / n_clients_per_round\n",
    "\n",
    "\n",
    "    #ax_neu.imshow(img_median, cmap=\"gray\")\n",
    "    iaas = []\n",
    "    faas = []\n",
    "    \n",
    "    for n_invocations in range(1, 10000, 100) :\n",
    "        # 8192MB \t4.8 GHz \t$0.000006800\n",
    "        memory, cpu_ghz, _ = 2048, 2.4, 2.9e-06\n",
    "        #memory, cpu_ghz, _ = 8192, 4.8, 2.9e-06\n",
    "        faas_cost = calc_gcloud_function_cost(\n",
    "                                memory=memory, \n",
    "                                cpu_ghz=cpu_ghz,\n",
    "                                invocations=n_invocations,\n",
    "                                function_runtime_seconds=7.062003,\n",
    "                                function_egress_mb=model_size,\n",
    "                                substract_free_tier=False)\n",
    "\n",
    "        # Gcloud Instance\n",
    "        # e2-standard-2 \t2 \t8GB \t$0.086334  per hour\n",
    "        # n2-standard-2 \t2 \t8GB \t$0.097118\n",
    "        NETWORKING_UNIT_PRICE = 0.12\n",
    "\n",
    "        egress_cost = (n_invocations * model_size / 1024) * NETWORKING_UNIT_PRICE\n",
    "        instance_cost = n_instances * (instance_runtime / 3600) * 0.097118\n",
    "        iaas_cost = instance_cost + egress_cost\n",
    "        faas.append(faas_cost)\n",
    "        iaas.append(iaas_cost)\n",
    "        #print(instance_cost, egress_cost)\n",
    "        #print(f\"IaaS Cost: {iaas_cost}\")\n",
    "        #print(f\"FaaS Cost: {faas_cost}\")\n",
    "    faas = np.array(faas)\n",
    "    iaas = np.array(iaas)\n",
    "    break_even_point = np.abs(faas - iaas).argmin() * 100\n",
    "    print(f\"break_even_point: {break_even_point}, {break_even_point / n_clients_per_round} for {n_clients_per_round} clients per round\")\n",
    "    #[l.remove() for l in ax.lines]\n",
    "    #if ax.get_legend():\n",
    "    #    ax.get_legend().remove()\n",
    "    ax.clear()\n",
    "    ax.vlines(break_even_point, linestyles='dashed', color=\"red\", ymin=np.min(faas), ymax=np.max(faas))\n",
    "    ax.plot(list(range(1, 10000, 100)), faas, label=\"FaaS\")\n",
    "    ax.plot(list(range(1, 10000, 100)), iaas, label=\"IaaS\")\n",
    "    ax.legend()\n",
    "    \n",
    "    fig.canvas.draw()\n",
    "#    display(fig)\n",
    "    \n",
    "interact(f, clients_per_round=widgets.IntSlider(min=5,max=200,step=5,value=100), clients_total=widgets.IntSlider(min=20,max=1000,step=5,value=100))"
   ]
  },
  {
   "cell_type": "markdown",
   "metadata": {},
   "source": [
    "## FEMNIST"
   ]
  },
  {
   "cell_type": "markdown",
   "metadata": {},
   "source": [
    "#### Accuracy over Rounds"
   ]
  },
  {
   "cell_type": "code",
   "execution_count": 63,
   "metadata": {},
   "outputs": [
    {
     "name": "stderr",
     "output_type": "stream",
     "text": [
      "<ipython-input-63-6051785fd4c2>:7: PerformanceWarning: indexing past lexsort depth may impact performance.\n",
      "  df_ = fedless_df.loc[(\"femnist\", 75)]\n",
      "<ipython-input-63-6051785fd4c2>:7: PerformanceWarning: indexing past lexsort depth may impact performance.\n",
      "  df_ = fedless_df.loc[(\"femnist\", 75)]\n",
      "<ipython-input-63-6051785fd4c2>:7: PerformanceWarning: indexing past lexsort depth may impact performance.\n",
      "  df_ = fedless_df.loc[(\"femnist\", 75)]\n",
      "<ipython-input-63-6051785fd4c2>:7: PerformanceWarning: indexing past lexsort depth may impact performance.\n",
      "  df_ = fedless_df.loc[(\"femnist\", 75)]\n"
     ]
    },
    {
     "data": {
      "text/plain": [
       "<AxesSubplot:xlabel='round', ylabel='accuracy'>"
      ]
     },
     "execution_count": 63,
     "metadata": {},
     "output_type": "execute_result"
    },
    {
     "data": {
      "image/png": "[encoded data removed]",
      "text/plain": [
       "<Figure size 1152x288 with 2 Axes>"
      ]
     },
     "metadata": {},
     "output_type": "display_data"
    }
   ],
   "source": [
    "vals = []\n",
    "\n",
    "for target in [0.7, 0.75, 0.8, 0.81]:\n",
    "    df_ = flower_df.loc[(\"femnist\", 75, 100, 5)]\n",
    "    mean_round_until_target_flower = df_[df_[\"accuracy\"] >= target].groupby(\"seed\").min(\"round\")[\"round\"].mean()\n",
    "    vals.append((target, mean_round_until_target_flower, \"flower\"))\n",
    "    df_ = fedless_df.loc[(\"femnist\", 75)]\n",
    "    mean_round_until_target_fedless= df_[df_[\"accuracy\"] >= target].groupby(\"seed\").min(\"round\")[\"round\"].mean() \n",
    "    vals.append((target, mean_round_until_target_fedless, \"fedless\"))\n",
    "    \n",
    "fig, axarr = plt.subplots(ncols=2, figsize=(16, 4))\n",
    "df_ = pd.DataFrame(vals, columns=[\"target\", \"rounds\", \"method\"])\n",
    "sns.barplot(x=\"target\", y=\"rounds\", hue=\"method\", data=df_, ax=axarr[0])\n",
    "df_.pivot(columns=\"method\", values=\"rounds\", index=\"target\")\n",
    "\n",
    "df_ = flower_df.loc[(\"femnist\", slice(1,100), 100, 5)]\n",
    "sns.lineplot(x=\"round\", y=\"accuracy\",  data=df_, ax=axarr[1], hue=\"clients_in_round\")"
   ]
  },
  {
   "cell_type": "code",
   "execution_count": 11,
   "metadata": {},
   "outputs": [
    {
     "name": "stderr",
     "output_type": "stream",
     "text": [
      "<ipython-input-11-7b4f1ac793d1>:3: PerformanceWarning: indexing past lexsort depth may impact performance.\n",
      "  df_ = fedless_df.loc[(\"femnist\", clients_in_round)]\n",
      "<ipython-input-11-7b4f1ac793d1>:3: PerformanceWarning: indexing past lexsort depth may impact performance.\n",
      "  df_ = fedless_df.loc[(\"femnist\", clients_in_round)]\n",
      "<ipython-input-11-7b4f1ac793d1>:3: PerformanceWarning: indexing past lexsort depth may impact performance.\n",
      "  df_ = fedless_df.loc[(\"femnist\", clients_in_round)]\n"
     ]
    },
    {
     "data": {
      "text/plain": [
       "<AxesSubplot:xlabel='n_clients', ylabel='rounds'>"
      ]
     },
     "execution_count": 11,
     "metadata": {},
     "output_type": "execute_result"
    }
   ],
   "source": [
    "vals = []\n",
    "for clients_in_round in [25, 50, 75]:\n",
    "    df_ = fedless_df.loc[(\"femnist\", clients_in_round)]\n",
    "    for target in [0.7, 0.8, 0.81, 0.82, 0.83]:\n",
    "        mean_round_until_target_fedless= df_[df_[\"accuracy\"] >= target].groupby(\"seed\").min(\"round\")[\"round\"].mean() \n",
    "        vals.append((target, mean_round_until_target_fedless, clients_in_round))\n",
    "df_ = pd.DataFrame(vals, columns=[\"target\", \"rounds\", \"n_clients\"])\n",
    "sns.barplot(x=\"n_clients\", y=\"rounds\", data=df_, hue=\"target\", palette=SNS_DEFAULT_PALETTE)"
   ]
  },
  {
   "cell_type": "markdown",
   "metadata": {},
   "source": [
    "#### Round Durations"
   ]
  },
  {
   "cell_type": "code",
   "execution_count": 12,
   "metadata": {
    "tags": []
   },
   "outputs": [
    {
     "name": "stderr",
     "output_type": "stream",
     "text": [
      "<ipython-input-12-169392d5fe96>:17: PerformanceWarning: indexing past lexsort depth may impact performance.\n",
      "  fls_df_ = fedless_df.loc[(\"femnist\", 75)]\n"
     ]
    },
    {
     "data": {
      "application/vnd.jupyter.widget-view+json": {
       "model_id": "a643ed756c8a48a6b45c9362919173c0",
       "version_major": 2,
       "version_minor": 0
      },
      "text/plain": [
       "Canvas(toolbar=Toolbar(toolitems=[('Home', 'Reset original view', 'home', 'home'), ('Back', 'Back to previous …"
      ]
     },
     "metadata": {},
     "output_type": "display_data"
    },
    {
     "name": "stdout",
     "output_type": "stream",
     "text": [
      "Warm duration differnce mean\n",
      "          duration  pct-change\n",
      "method                        \n",
      "fedless  47.931538         NaN\n",
      "flower   27.351825   -0.429356\n",
      "Fedless Timings\n",
      "         seconds  round\n",
      "eval                   \n",
      "False  14.870215     46\n",
      "True    2.502864     47\n"
     ]
    },
    {
     "name": "stderr",
     "output_type": "stream",
     "text": [
      "<ipython-input-12-169392d5fe96>:55: PerformanceWarning: indexing past lexsort depth may impact performance.\n",
      "  sns.boxplot(x=\"eval\", y=\"seconds\", data=fedless_client_df.loc[(\"femnist\", 75)], ax=axarr[4])\n",
      "<ipython-input-12-169392d5fe96>:66: PerformanceWarning: indexing past lexsort depth may impact performance.\n",
      "  print(fedless_client_df.loc[(\"femnist\", 75)].groupby(\"eval\").median())\n"
     ]
    }
   ],
   "source": [
    "vals = []\n",
    "detail_vals = []\n",
    "\n",
    "flwr_df_ = flower_df.loc[(\"femnist\", 75, 100, 5)]\n",
    "flwr_cold_df_ = flwr_df_[flwr_df_[\"round\"] == 1]\n",
    "flwr_warm_df_ = flwr_df_[flwr_df_[\"round\"] > 1]\n",
    "for t in flwr_cold_df_[\"time\"]:\n",
    "    vals.append((\"flower\", \"cold\", \"round\", t))\n",
    "for t in flwr_warm_df_[\"time\"]:\n",
    "    vals.append((\"flower\", \"warm\", \"round\", t))\n",
    "for t in flwr_warm_df_[\"time_agg_eval\"]:\n",
    "    vals.append((\"flower\", \"warm\", \"agg_eval\", t))\n",
    "for t in flwr_warm_df_[\"time_clients_fit\"]:\n",
    "    vals.append((\"flower\", \"warm\", \"time_clients_fit\", t))\n",
    "\n",
    "\n",
    "fls_df_ = fedless_df.loc[(\"femnist\", 75)]\n",
    "fls_cold_df_ = fls_df_[fls_df_[\"round\"] == 1]\n",
    "fls_warm_df_ = fls_df_[fls_df_[\"round\"] > 1]\n",
    "for t in fls_cold_df_[\"time\"]:\n",
    "    vals.append((\"fedless\", \"cold\", \"round\", t))\n",
    "for t in fls_warm_df_[\"time\"]:\n",
    "    vals.append((\"fedless\", \"warm\", \"round\", t))\n",
    "for t in fls_warm_df_[\"aggregator_seconds\"]:\n",
    "    vals.append((\"fedless\", \"warm\", \"agg_eval\", t))\n",
    "for t in fls_warm_df_[\"time_clients_fit\"]:\n",
    "    vals.append((\"fedless\", \"warm\", \"time_clients_fit\", t))\n",
    "    \n",
    "\n",
    "df_ = pd.DataFrame(vals, columns=[\"method\", \"state\", \"task\", \"duration\"])\n",
    "    \n",
    "fig, axarr = plt.subplots(ncols=5, figsize=(25, 5))\n",
    "\n",
    "# Warm Durations\n",
    "df_warm_ = df_[(df_[\"state\"] == \"warm\") & (df_[\"task\"] == \"round\")]\n",
    "sns.barplot(x=\"method\", y=\"duration\", data=df_warm_, ax=axarr[0])\n",
    "#sns.violinplot(x=\"method\", y=\"duration\", data=df_warm_, ax=axarr[0])\n",
    "#sns.boxplot(x=\"method\", y=\"duration\", data=df_warm_, ax=axarr[0])\n",
    "axarr[0].set_ylim(0, 80)\n",
    "axarr[0].set_title(\"Flower vs Fedless Round Durations\")\n",
    "\n",
    "df_warm_ = df_[(df_[\"state\"] == \"warm\") & (df_[\"task\"] == \"time_clients_fit\")]\n",
    "sns.barplot(x=\"method\", y=\"duration\", data=df_warm_, ax=axarr[1])\n",
    "axarr[1].set_title(\"Flower vs Fedless Client Wait Time Durations\")\n",
    "\n",
    "# Cold vs Warm Fedless\n",
    "df_fedless_ = df_[(df_[\"method\"] == \"fedless\") & (df_[\"task\"] == \"round\")]\n",
    "sns.boxplot(x=\"state\", y=\"duration\", data=df_fedless_, ax=axarr[2])\n",
    "axarr[2].set_title(\"Fedless Round Durations\")\n",
    "\n",
    "# Timing Breakdown\n",
    "sns.barplot(x=\"method\", y=\"duration\", data=df_, ax=axarr[3], hue=\"task\")\n",
    "axarr[3].set_title(\"Round vs Aggregation Time\")\n",
    "\n",
    "sns.boxplot(x=\"eval\", y=\"seconds\", data=fedless_client_df.loc[(\"femnist\", 75)], ax=axarr[4])\n",
    "axarr[4].set_title(\"Fedless Client Durations\")\n",
    "\n",
    "#df_warm_.groupby([\"method\", \"state\"]).mean(\"duration\")\n",
    "print(f\"Warm duration differnce mean\")\n",
    "df_warm_ = df_[(df_[\"state\"] == \"warm\") & (df_[\"task\"] == \"round\")]\n",
    "table_df_ = df_warm_.groupby(\"method\").mean()\n",
    "table_df_[\"pct-change\"] = table_df_.pct_change()\n",
    "print(table_df_)\n",
    "\n",
    "print(f\"Fedless Timings\")\n",
    "print(fedless_client_df.loc[(\"femnist\", 75)].groupby(\"eval\").median())"
   ]
  },
  {
   "cell_type": "code",
   "execution_count": 13,
   "metadata": {},
   "outputs": [
    {
     "name": "stdout",
     "output_type": "stream",
     "text": [
      "break_even_point: 13116, 174.88 for 75 clients per round\n"
     ]
    },
    {
     "data": {
      "text/plain": [
       "<matplotlib.legend.Legend at 0x7fd55bd0b880>"
      ]
     },
     "execution_count": 13,
     "metadata": {},
     "output_type": "execute_result"
    }
   ],
   "source": [
    "n_rounds = 30\n",
    "n_clients_per_round = 75\n",
    "n_instances = 100\n",
    "n_invocations = n_rounds * n_clients_per_round \n",
    "\n",
    "model_size = sys.getsizeof(NpzWeightsSerializer().serialize(create_femnist_cnn().get_weights())) / 10**6\n",
    "flwr_df_ = flower_df.loc[(\"femnist\", 75, 100, 5)]\n",
    "instance_runtime = flwr_df_.groupby(\"seed\").max(\"time_since_start\").median()[\"time_since_start\"]\n",
    "\n",
    "iaas = []\n",
    "faas = []\n",
    "\n",
    "for n_invocations in range(1, 100000) :\n",
    "    # 8192MB \t4.8 GHz \t$0.000006800\n",
    "    memory, cpu_ghz, _ = 2048, 2.4, 2.9e-06\n",
    "    #memory, cpu_ghz, _ = 8192, 4.8, 2.9e-06\n",
    "    faas_cost = calc_gcloud_function_cost(\n",
    "                            memory=memory, \n",
    "                            cpu_ghz=cpu_ghz,\n",
    "                            invocations=n_invocations,\n",
    "                            function_runtime_seconds=17.373079,\n",
    "                            function_egress_mb=model_size,\n",
    "                            substract_free_tier=False)\n",
    "    \n",
    "    # Gcloud Instance\n",
    "    # e2-standard-2 \t2 \t8GB \t$0.086334  per hour\n",
    "    NETWORKING_UNIT_PRICE = 0.12\n",
    "    \n",
    "    egress_cost = (n_invocations * model_size / 1024) * NETWORKING_UNIT_PRICE\n",
    "    instance_cost = n_instances * (instance_runtime / 3600) * 0.086334\n",
    "    iaas_cost = instance_cost + egress_cost\n",
    "    faas.append(faas_cost)\n",
    "    iaas.append(iaas_cost)\n",
    "    #print(instance_cost, egress_cost)\n",
    "    #print(f\"IaaS Cost: {iaas_cost}\")\n",
    "    #print(f\"FaaS Cost: {faas_cost}\")\n",
    "faas = np.array(faas)\n",
    "iaas = np.array(iaas)\n",
    "break_even_point = np.abs(faas - iaas).argmin()\n",
    "print(f\"break_even_point: {break_even_point}, {break_even_point / 75} for {75} clients per round\")\n",
    "plt.vlines(break_even_point, linestyles='dashed', color=\"red\", ymin=np.min(faas), ymax=np.max(faas))\n",
    "plt.plot(list(range(1, 100000)), faas, label=\"FaaS\")\n",
    "plt.plot(list(range(1, 100000)), iaas, label=\"IaaS\")\n",
    "plt.legend()"
   ]
  },
  {
   "cell_type": "markdown",
   "metadata": {},
   "source": [
    "## SHAKESPEARE"
   ]
  },
  {
   "cell_type": "code",
   "execution_count": 14,
   "metadata": {},
   "outputs": [
    {
     "ename": "KeyError",
     "evalue": "('shakespeare', 25, 100, 1)",
     "output_type": "error",
     "traceback": [
      "\u001b[0;31m---------------------------------------------------------------------------\u001b[0m",
      "\u001b[0;31mKeyError\u001b[0m                                  Traceback (most recent call last)",
      "\u001b[0;32m<ipython-input-14-2884d72c0cde>\u001b[0m in \u001b[0;36m<module>\u001b[0;34m\u001b[0m\n\u001b[1;32m      2\u001b[0m \u001b[0;34m\u001b[0m\u001b[0m\n\u001b[1;32m      3\u001b[0m \u001b[0;32mfor\u001b[0m \u001b[0mtarget\u001b[0m \u001b[0;32min\u001b[0m \u001b[0;34m[\u001b[0m\u001b[0;36m0.3\u001b[0m\u001b[0;34m,\u001b[0m \u001b[0;36m0.4\u001b[0m\u001b[0;34m,\u001b[0m \u001b[0;36m0.45\u001b[0m\u001b[0;34m]\u001b[0m\u001b[0;34m:\u001b[0m\u001b[0;34m\u001b[0m\u001b[0;34m\u001b[0m\u001b[0m\n\u001b[0;32m----> 4\u001b[0;31m     \u001b[0mdf_\u001b[0m \u001b[0;34m=\u001b[0m \u001b[0mflower_df\u001b[0m\u001b[0;34m.\u001b[0m\u001b[0mloc\u001b[0m\u001b[0;34m[\u001b[0m\u001b[0;34m(\u001b[0m\u001b[0;34m\"shakespeare\"\u001b[0m\u001b[0;34m,\u001b[0m \u001b[0;36m25\u001b[0m\u001b[0;34m,\u001b[0m \u001b[0;36m100\u001b[0m\u001b[0;34m,\u001b[0m \u001b[0;36m1\u001b[0m\u001b[0;34m)\u001b[0m\u001b[0;34m]\u001b[0m\u001b[0;34m\u001b[0m\u001b[0;34m\u001b[0m\u001b[0m\n\u001b[0m\u001b[1;32m      5\u001b[0m     \u001b[0mmean_round_until_target_flower\u001b[0m \u001b[0;34m=\u001b[0m \u001b[0mdf_\u001b[0m\u001b[0;34m[\u001b[0m\u001b[0mdf_\u001b[0m\u001b[0;34m[\u001b[0m\u001b[0;34m\"accuracy\"\u001b[0m\u001b[0;34m]\u001b[0m \u001b[0;34m>=\u001b[0m \u001b[0mtarget\u001b[0m\u001b[0;34m]\u001b[0m\u001b[0;34m.\u001b[0m\u001b[0mgroupby\u001b[0m\u001b[0;34m(\u001b[0m\u001b[0;34m\"seed\"\u001b[0m\u001b[0;34m)\u001b[0m\u001b[0;34m.\u001b[0m\u001b[0mmin\u001b[0m\u001b[0;34m(\u001b[0m\u001b[0;34m\"round\"\u001b[0m\u001b[0;34m)\u001b[0m\u001b[0;34m[\u001b[0m\u001b[0;34m\"round\"\u001b[0m\u001b[0;34m]\u001b[0m\u001b[0;34m.\u001b[0m\u001b[0mmean\u001b[0m\u001b[0;34m(\u001b[0m\u001b[0;34m)\u001b[0m\u001b[0;34m\u001b[0m\u001b[0;34m\u001b[0m\u001b[0m\n\u001b[1;32m      6\u001b[0m     \u001b[0mvals\u001b[0m\u001b[0;34m.\u001b[0m\u001b[0mappend\u001b[0m\u001b[0;34m(\u001b[0m\u001b[0;34m(\u001b[0m\u001b[0mtarget\u001b[0m\u001b[0;34m,\u001b[0m \u001b[0mmean_round_until_target_flower\u001b[0m\u001b[0;34m,\u001b[0m \u001b[0;34m\"flower\"\u001b[0m\u001b[0;34m)\u001b[0m\u001b[0;34m)\u001b[0m\u001b[0;34m\u001b[0m\u001b[0;34m\u001b[0m\u001b[0m\n",
      "\u001b[0;32m~/workspace/thesis-code/.venv/lib/python3.8/site-packages/pandas/core/indexing.py\u001b[0m in \u001b[0;36m__getitem__\u001b[0;34m(self, key)\u001b[0m\n\u001b[1;32m    887\u001b[0m                     \u001b[0;31m# AttributeError for IntervalTree get_value\u001b[0m\u001b[0;34m\u001b[0m\u001b[0;34m\u001b[0m\u001b[0;34m\u001b[0m\u001b[0m\n\u001b[1;32m    888\u001b[0m                     \u001b[0;32mreturn\u001b[0m \u001b[0mself\u001b[0m\u001b[0;34m.\u001b[0m\u001b[0mobj\u001b[0m\u001b[0;34m.\u001b[0m\u001b[0m_get_value\u001b[0m\u001b[0;34m(\u001b[0m\u001b[0;34m*\u001b[0m\u001b[0mkey\u001b[0m\u001b[0;34m,\u001b[0m \u001b[0mtakeable\u001b[0m\u001b[0;34m=\u001b[0m\u001b[0mself\u001b[0m\u001b[0;34m.\u001b[0m\u001b[0m_takeable\u001b[0m\u001b[0;34m)\u001b[0m\u001b[0;34m\u001b[0m\u001b[0;34m\u001b[0m\u001b[0m\n\u001b[0;32m--> 889\u001b[0;31m             \u001b[0;32mreturn\u001b[0m \u001b[0mself\u001b[0m\u001b[0;34m.\u001b[0m\u001b[0m_getitem_tuple\u001b[0m\u001b[0;34m(\u001b[0m\u001b[0mkey\u001b[0m\u001b[0;34m)\u001b[0m\u001b[0;34m\u001b[0m\u001b[0;34m\u001b[0m\u001b[0m\n\u001b[0m\u001b[1;32m    890\u001b[0m         \u001b[0;32melse\u001b[0m\u001b[0;34m:\u001b[0m\u001b[0;34m\u001b[0m\u001b[0;34m\u001b[0m\u001b[0m\n\u001b[1;32m    891\u001b[0m             \u001b[0;31m# we by definition only have the 0th axis\u001b[0m\u001b[0;34m\u001b[0m\u001b[0;34m\u001b[0m\u001b[0;34m\u001b[0m\u001b[0m\n",
      "\u001b[0;32m~/workspace/thesis-code/.venv/lib/python3.8/site-packages/pandas/core/indexing.py\u001b[0m in \u001b[0;36m_getitem_tuple\u001b[0;34m(self, tup)\u001b[0m\n\u001b[1;32m   1058\u001b[0m     \u001b[0;32mdef\u001b[0m \u001b[0m_getitem_tuple\u001b[0m\u001b[0;34m(\u001b[0m\u001b[0mself\u001b[0m\u001b[0;34m,\u001b[0m \u001b[0mtup\u001b[0m\u001b[0;34m:\u001b[0m \u001b[0mTuple\u001b[0m\u001b[0;34m)\u001b[0m\u001b[0;34m:\u001b[0m\u001b[0;34m\u001b[0m\u001b[0;34m\u001b[0m\u001b[0m\n\u001b[1;32m   1059\u001b[0m         \u001b[0;32mwith\u001b[0m \u001b[0msuppress\u001b[0m\u001b[0;34m(\u001b[0m\u001b[0mIndexingError\u001b[0m\u001b[0;34m)\u001b[0m\u001b[0;34m:\u001b[0m\u001b[0;34m\u001b[0m\u001b[0;34m\u001b[0m\u001b[0m\n\u001b[0;32m-> 1060\u001b[0;31m             \u001b[0;32mreturn\u001b[0m \u001b[0mself\u001b[0m\u001b[0;34m.\u001b[0m\u001b[0m_getitem_lowerdim\u001b[0m\u001b[0;34m(\u001b[0m\u001b[0mtup\u001b[0m\u001b[0;34m)\u001b[0m\u001b[0;34m\u001b[0m\u001b[0;34m\u001b[0m\u001b[0m\n\u001b[0m\u001b[1;32m   1061\u001b[0m \u001b[0;34m\u001b[0m\u001b[0m\n\u001b[1;32m   1062\u001b[0m         \u001b[0;31m# no multi-index, so validate all of the indexers\u001b[0m\u001b[0;34m\u001b[0m\u001b[0;34m\u001b[0m\u001b[0;34m\u001b[0m\u001b[0m\n",
      "\u001b[0;32m~/workspace/thesis-code/.venv/lib/python3.8/site-packages/pandas/core/indexing.py\u001b[0m in \u001b[0;36m_getitem_lowerdim\u001b[0;34m(self, tup)\u001b[0m\n\u001b[1;32m    797\u001b[0m         \u001b[0;32mif\u001b[0m \u001b[0misinstance\u001b[0m\u001b[0;34m(\u001b[0m\u001b[0max0\u001b[0m\u001b[0;34m,\u001b[0m \u001b[0mABCMultiIndex\u001b[0m\u001b[0;34m)\u001b[0m \u001b[0;32mand\u001b[0m \u001b[0mself\u001b[0m\u001b[0;34m.\u001b[0m\u001b[0mname\u001b[0m \u001b[0;34m!=\u001b[0m \u001b[0;34m\"iloc\"\u001b[0m\u001b[0;34m:\u001b[0m\u001b[0;34m\u001b[0m\u001b[0;34m\u001b[0m\u001b[0m\n\u001b[1;32m    798\u001b[0m             \u001b[0;32mwith\u001b[0m \u001b[0msuppress\u001b[0m\u001b[0;34m(\u001b[0m\u001b[0mIndexingError\u001b[0m\u001b[0;34m)\u001b[0m\u001b[0;34m:\u001b[0m\u001b[0;34m\u001b[0m\u001b[0;34m\u001b[0m\u001b[0m\n\u001b[0;32m--> 799\u001b[0;31m                 \u001b[0;32mreturn\u001b[0m \u001b[0mself\u001b[0m\u001b[0;34m.\u001b[0m\u001b[0m_handle_lowerdim_multi_index_axis0\u001b[0m\u001b[0;34m(\u001b[0m\u001b[0mtup\u001b[0m\u001b[0;34m)\u001b[0m\u001b[0;34m\u001b[0m\u001b[0;34m\u001b[0m\u001b[0m\n\u001b[0m\u001b[1;32m    800\u001b[0m \u001b[0;34m\u001b[0m\u001b[0m\n\u001b[1;32m    801\u001b[0m         \u001b[0mself\u001b[0m\u001b[0;34m.\u001b[0m\u001b[0m_validate_key_length\u001b[0m\u001b[0;34m(\u001b[0m\u001b[0mtup\u001b[0m\u001b[0;34m)\u001b[0m\u001b[0;34m\u001b[0m\u001b[0;34m\u001b[0m\u001b[0m\n",
      "\u001b[0;32m~/workspace/thesis-code/.venv/lib/python3.8/site-packages/pandas/core/indexing.py\u001b[0m in \u001b[0;36m_handle_lowerdim_multi_index_axis0\u001b[0;34m(self, tup)\u001b[0m\n\u001b[1;32m   1086\u001b[0m             \u001b[0;31m# else IndexingError will be raised\u001b[0m\u001b[0;34m\u001b[0m\u001b[0;34m\u001b[0m\u001b[0;34m\u001b[0m\u001b[0m\n\u001b[1;32m   1087\u001b[0m             \u001b[0;32mif\u001b[0m \u001b[0mself\u001b[0m\u001b[0;34m.\u001b[0m\u001b[0mndim\u001b[0m \u001b[0;34m<\u001b[0m \u001b[0mlen\u001b[0m\u001b[0;34m(\u001b[0m\u001b[0mtup\u001b[0m\u001b[0;34m)\u001b[0m \u001b[0;34m<=\u001b[0m \u001b[0mself\u001b[0m\u001b[0;34m.\u001b[0m\u001b[0mobj\u001b[0m\u001b[0;34m.\u001b[0m\u001b[0mindex\u001b[0m\u001b[0;34m.\u001b[0m\u001b[0mnlevels\u001b[0m\u001b[0;34m:\u001b[0m\u001b[0;34m\u001b[0m\u001b[0;34m\u001b[0m\u001b[0m\n\u001b[0;32m-> 1088\u001b[0;31m                 \u001b[0;32mraise\u001b[0m \u001b[0mek\u001b[0m\u001b[0;34m\u001b[0m\u001b[0;34m\u001b[0m\u001b[0m\n\u001b[0m\u001b[1;32m   1089\u001b[0m \u001b[0;34m\u001b[0m\u001b[0m\n\u001b[1;32m   1090\u001b[0m         \u001b[0;32mraise\u001b[0m \u001b[0mIndexingError\u001b[0m\u001b[0;34m(\u001b[0m\u001b[0;34m\"No label returned\"\u001b[0m\u001b[0;34m)\u001b[0m\u001b[0;34m\u001b[0m\u001b[0;34m\u001b[0m\u001b[0m\n",
      "\u001b[0;32m~/workspace/thesis-code/.venv/lib/python3.8/site-packages/pandas/core/indexing.py\u001b[0m in \u001b[0;36m_handle_lowerdim_multi_index_axis0\u001b[0;34m(self, tup)\u001b[0m\n\u001b[1;32m   1078\u001b[0m         \u001b[0;32mtry\u001b[0m\u001b[0;34m:\u001b[0m\u001b[0;34m\u001b[0m\u001b[0;34m\u001b[0m\u001b[0m\n\u001b[1;32m   1079\u001b[0m             \u001b[0;31m# fast path for series or for tup devoid of slices\u001b[0m\u001b[0;34m\u001b[0m\u001b[0;34m\u001b[0m\u001b[0;34m\u001b[0m\u001b[0m\n\u001b[0;32m-> 1080\u001b[0;31m             \u001b[0;32mreturn\u001b[0m \u001b[0mself\u001b[0m\u001b[0;34m.\u001b[0m\u001b[0m_get_label\u001b[0m\u001b[0;34m(\u001b[0m\u001b[0mtup\u001b[0m\u001b[0;34m,\u001b[0m \u001b[0maxis\u001b[0m\u001b[0;34m=\u001b[0m\u001b[0maxis\u001b[0m\u001b[0;34m)\u001b[0m\u001b[0;34m\u001b[0m\u001b[0;34m\u001b[0m\u001b[0m\n\u001b[0m\u001b[1;32m   1081\u001b[0m         \u001b[0;32mexcept\u001b[0m \u001b[0;34m(\u001b[0m\u001b[0mTypeError\u001b[0m\u001b[0;34m,\u001b[0m \u001b[0mInvalidIndexError\u001b[0m\u001b[0;34m)\u001b[0m\u001b[0;34m:\u001b[0m\u001b[0;34m\u001b[0m\u001b[0;34m\u001b[0m\u001b[0m\n\u001b[1;32m   1082\u001b[0m             \u001b[0;31m# slices are unhashable\u001b[0m\u001b[0;34m\u001b[0m\u001b[0;34m\u001b[0m\u001b[0;34m\u001b[0m\u001b[0m\n",
      "\u001b[0;32m~/workspace/thesis-code/.venv/lib/python3.8/site-packages/pandas/core/indexing.py\u001b[0m in \u001b[0;36m_get_label\u001b[0;34m(self, label, axis)\u001b[0m\n\u001b[1;32m   1071\u001b[0m     \u001b[0;32mdef\u001b[0m \u001b[0m_get_label\u001b[0m\u001b[0;34m(\u001b[0m\u001b[0mself\u001b[0m\u001b[0;34m,\u001b[0m \u001b[0mlabel\u001b[0m\u001b[0;34m,\u001b[0m \u001b[0maxis\u001b[0m\u001b[0;34m:\u001b[0m \u001b[0mint\u001b[0m\u001b[0;34m)\u001b[0m\u001b[0;34m:\u001b[0m\u001b[0;34m\u001b[0m\u001b[0;34m\u001b[0m\u001b[0m\n\u001b[1;32m   1072\u001b[0m         \u001b[0;31m# GH#5667 this will fail if the label is not present in the axis.\u001b[0m\u001b[0;34m\u001b[0m\u001b[0;34m\u001b[0m\u001b[0;34m\u001b[0m\u001b[0m\n\u001b[0;32m-> 1073\u001b[0;31m         \u001b[0;32mreturn\u001b[0m \u001b[0mself\u001b[0m\u001b[0;34m.\u001b[0m\u001b[0mobj\u001b[0m\u001b[0;34m.\u001b[0m\u001b[0mxs\u001b[0m\u001b[0;34m(\u001b[0m\u001b[0mlabel\u001b[0m\u001b[0;34m,\u001b[0m \u001b[0maxis\u001b[0m\u001b[0;34m=\u001b[0m\u001b[0maxis\u001b[0m\u001b[0;34m)\u001b[0m\u001b[0;34m\u001b[0m\u001b[0;34m\u001b[0m\u001b[0m\n\u001b[0m\u001b[1;32m   1074\u001b[0m \u001b[0;34m\u001b[0m\u001b[0m\n\u001b[1;32m   1075\u001b[0m     \u001b[0;32mdef\u001b[0m \u001b[0m_handle_lowerdim_multi_index_axis0\u001b[0m\u001b[0;34m(\u001b[0m\u001b[0mself\u001b[0m\u001b[0;34m,\u001b[0m \u001b[0mtup\u001b[0m\u001b[0;34m:\u001b[0m \u001b[0mTuple\u001b[0m\u001b[0;34m)\u001b[0m\u001b[0;34m:\u001b[0m\u001b[0;34m\u001b[0m\u001b[0;34m\u001b[0m\u001b[0m\n",
      "\u001b[0;32m~/workspace/thesis-code/.venv/lib/python3.8/site-packages/pandas/core/generic.py\u001b[0m in \u001b[0;36mxs\u001b[0;34m(self, key, axis, level, drop_level)\u001b[0m\n\u001b[1;32m   3731\u001b[0m         \u001b[0;32mif\u001b[0m \u001b[0misinstance\u001b[0m\u001b[0;34m(\u001b[0m\u001b[0mindex\u001b[0m\u001b[0;34m,\u001b[0m \u001b[0mMultiIndex\u001b[0m\u001b[0;34m)\u001b[0m\u001b[0;34m:\u001b[0m\u001b[0;34m\u001b[0m\u001b[0;34m\u001b[0m\u001b[0m\n\u001b[1;32m   3732\u001b[0m             \u001b[0;32mtry\u001b[0m\u001b[0;34m:\u001b[0m\u001b[0;34m\u001b[0m\u001b[0;34m\u001b[0m\u001b[0m\n\u001b[0;32m-> 3733\u001b[0;31m                 loc, new_index = index._get_loc_level(\n\u001b[0m\u001b[1;32m   3734\u001b[0m                     \u001b[0mkey\u001b[0m\u001b[0;34m,\u001b[0m \u001b[0mlevel\u001b[0m\u001b[0;34m=\u001b[0m\u001b[0;36m0\u001b[0m\u001b[0;34m,\u001b[0m \u001b[0mdrop_level\u001b[0m\u001b[0;34m=\u001b[0m\u001b[0mdrop_level\u001b[0m\u001b[0;34m\u001b[0m\u001b[0;34m\u001b[0m\u001b[0m\n\u001b[1;32m   3735\u001b[0m                 )\n",
      "\u001b[0;32m~/workspace/thesis-code/.venv/lib/python3.8/site-packages/pandas/core/indexes/multi.py\u001b[0m in \u001b[0;36m_get_loc_level\u001b[0;34m(self, key, level, drop_level)\u001b[0m\n\u001b[1;32m   3038\u001b[0m                         \u001b[0;32mraise\u001b[0m \u001b[0mKeyError\u001b[0m\u001b[0;34m(\u001b[0m\u001b[0mkey\u001b[0m\u001b[0;34m)\u001b[0m \u001b[0;32mfrom\u001b[0m \u001b[0me\u001b[0m\u001b[0;34m\u001b[0m\u001b[0;34m\u001b[0m\u001b[0m\n\u001b[1;32m   3039\u001b[0m                 \u001b[0;32melse\u001b[0m\u001b[0;34m:\u001b[0m\u001b[0;34m\u001b[0m\u001b[0;34m\u001b[0m\u001b[0m\n\u001b[0;32m-> 3040\u001b[0;31m                     \u001b[0;32mreturn\u001b[0m \u001b[0mpartial_selection\u001b[0m\u001b[0;34m(\u001b[0m\u001b[0mkey\u001b[0m\u001b[0;34m)\u001b[0m\u001b[0;34m\u001b[0m\u001b[0;34m\u001b[0m\u001b[0m\n\u001b[0m\u001b[1;32m   3041\u001b[0m             \u001b[0;32melse\u001b[0m\u001b[0;34m:\u001b[0m\u001b[0;34m\u001b[0m\u001b[0;34m\u001b[0m\u001b[0m\n\u001b[1;32m   3042\u001b[0m                 \u001b[0mindexer\u001b[0m \u001b[0;34m=\u001b[0m \u001b[0;32mNone\u001b[0m\u001b[0;34m\u001b[0m\u001b[0;34m\u001b[0m\u001b[0m\n",
      "\u001b[0;32m~/workspace/thesis-code/.venv/lib/python3.8/site-packages/pandas/core/indexes/multi.py\u001b[0m in \u001b[0;36mpartial_selection\u001b[0;34m(key, indexer)\u001b[0m\n\u001b[1;32m   3025\u001b[0m                 \u001b[0;32mdef\u001b[0m \u001b[0mpartial_selection\u001b[0m\u001b[0;34m(\u001b[0m\u001b[0mkey\u001b[0m\u001b[0;34m,\u001b[0m \u001b[0mindexer\u001b[0m\u001b[0;34m=\u001b[0m\u001b[0;32mNone\u001b[0m\u001b[0;34m)\u001b[0m\u001b[0;34m:\u001b[0m\u001b[0;34m\u001b[0m\u001b[0;34m\u001b[0m\u001b[0m\n\u001b[1;32m   3026\u001b[0m                     \u001b[0;32mif\u001b[0m \u001b[0mindexer\u001b[0m \u001b[0;32mis\u001b[0m \u001b[0;32mNone\u001b[0m\u001b[0;34m:\u001b[0m\u001b[0;34m\u001b[0m\u001b[0;34m\u001b[0m\u001b[0m\n\u001b[0;32m-> 3027\u001b[0;31m                         \u001b[0mindexer\u001b[0m \u001b[0;34m=\u001b[0m \u001b[0mself\u001b[0m\u001b[0;34m.\u001b[0m\u001b[0mget_loc\u001b[0m\u001b[0;34m(\u001b[0m\u001b[0mkey\u001b[0m\u001b[0;34m)\u001b[0m\u001b[0;34m\u001b[0m\u001b[0;34m\u001b[0m\u001b[0m\n\u001b[0m\u001b[1;32m   3028\u001b[0m                     ilevels = [\n\u001b[1;32m   3029\u001b[0m                         \u001b[0mi\u001b[0m \u001b[0;32mfor\u001b[0m \u001b[0mi\u001b[0m \u001b[0;32min\u001b[0m \u001b[0mrange\u001b[0m\u001b[0;34m(\u001b[0m\u001b[0mlen\u001b[0m\u001b[0;34m(\u001b[0m\u001b[0mkey\u001b[0m\u001b[0;34m)\u001b[0m\u001b[0;34m)\u001b[0m \u001b[0;32mif\u001b[0m \u001b[0mkey\u001b[0m\u001b[0;34m[\u001b[0m\u001b[0mi\u001b[0m\u001b[0;34m]\u001b[0m \u001b[0;34m!=\u001b[0m \u001b[0mslice\u001b[0m\u001b[0;34m(\u001b[0m\u001b[0;32mNone\u001b[0m\u001b[0;34m,\u001b[0m \u001b[0;32mNone\u001b[0m\u001b[0;34m)\u001b[0m\u001b[0;34m\u001b[0m\u001b[0;34m\u001b[0m\u001b[0m\n",
      "\u001b[0;32m~/workspace/thesis-code/.venv/lib/python3.8/site-packages/pandas/core/indexes/multi.py\u001b[0m in \u001b[0;36mget_loc\u001b[0;34m(self, key, method)\u001b[0m\n\u001b[1;32m   2897\u001b[0m \u001b[0;34m\u001b[0m\u001b[0m\n\u001b[1;32m   2898\u001b[0m         \u001b[0;32mif\u001b[0m \u001b[0mstart\u001b[0m \u001b[0;34m==\u001b[0m \u001b[0mstop\u001b[0m\u001b[0;34m:\u001b[0m\u001b[0;34m\u001b[0m\u001b[0;34m\u001b[0m\u001b[0m\n\u001b[0;32m-> 2899\u001b[0;31m             \u001b[0;32mraise\u001b[0m \u001b[0mKeyError\u001b[0m\u001b[0;34m(\u001b[0m\u001b[0mkey\u001b[0m\u001b[0;34m)\u001b[0m\u001b[0;34m\u001b[0m\u001b[0;34m\u001b[0m\u001b[0m\n\u001b[0m\u001b[1;32m   2900\u001b[0m \u001b[0;34m\u001b[0m\u001b[0m\n\u001b[1;32m   2901\u001b[0m         \u001b[0;32mif\u001b[0m \u001b[0;32mnot\u001b[0m \u001b[0mfollow_key\u001b[0m\u001b[0;34m:\u001b[0m\u001b[0;34m\u001b[0m\u001b[0;34m\u001b[0m\u001b[0m\n",
      "\u001b[0;31mKeyError\u001b[0m: ('shakespeare', 25, 100, 1)"
     ]
    }
   ],
   "source": [
    "vals = []\n",
    "\n",
    "for target in [0.3, 0.4, 0.45]:\n",
    "    df_ = flower_df.loc[(\"shakespeare\", 25, 100, 1)]\n",
    "    mean_round_until_target_flower = df_[df_[\"accuracy\"] >= target].groupby(\"seed\").min(\"round\")[\"round\"].mean()\n",
    "    vals.append((target, mean_round_until_target_flower, \"flower\"))\n",
    "    df_ = fedless_df.loc[\"shakespeare\"]\n",
    "    mean_round_until_target_fedless= df_[df_[\"accuracy\"] >= target].groupby(\"seed\").min(\"round\")[\"round\"].mean() \n",
    "    vals.append((target, mean_round_until_target_fedless, \"fedless\"))\n",
    "    \n",
    "\n",
    "df_ = pd.DataFrame(vals, columns=[\"target\", \"rounds\", \"method\"])\n",
    "sns.barplot(x=\"target\", y=\"rounds\", hue=\"method\", data=df_)\n",
    "df_.pivot(columns=\"method\", values=\"rounds\", index=\"target\")"
   ]
  },
  {
   "cell_type": "code",
   "execution_count": null,
   "metadata": {},
   "outputs": [],
   "source": [
    "vals = []\n",
    "detail_vals = []\n",
    "\n",
    "flwr_df_ = flower_df.loc[(\"shakespeare\", 25, 100, 1)]\n",
    "flwr_cold_df_ = flwr_df_[flwr_df_[\"round\"] == 1]\n",
    "flwr_warm_df_ = flwr_df_[flwr_df_[\"round\"] > 1]\n",
    "for t in flwr_cold_df_[\"time\"]:\n",
    "    vals.append((\"flower\", \"cold\", \"round\", t))\n",
    "for t in flwr_warm_df_[\"time\"]:\n",
    "    vals.append((\"flower\", \"warm\", \"round\", t))\n",
    "for t in flwr_warm_df_[\"time_agg_eval\"]:\n",
    "    vals.append((\"flower\", \"warm\", \"agg_eval\", t))\n",
    "for t in flwr_warm_df_[\"time_clients_fit\"]:\n",
    "    vals.append((\"flower\", \"warm\", \"time_clients_fit\", t))\n",
    "\n",
    "\n",
    "fls_df_ = fedless_df.loc[\"shakespeare\"]\n",
    "fls_cold_df_ = fls_df_[fls_df_[\"round\"] == 1]\n",
    "fls_warm_df_ = fls_df_[fls_df_[\"round\"] > 1]\n",
    "for t in fls_cold_df_[\"time\"]:\n",
    "    vals.append((\"fedless\", \"cold\", \"round\", t))\n",
    "for t in fls_warm_df_[\"time\"]:\n",
    "    vals.append((\"fedless\", \"warm\", \"round\", t))\n",
    "for t in fls_warm_df_[\"aggregator_seconds\"]:\n",
    "    vals.append((\"fedless\", \"warm\", \"agg_eval\", t))\n",
    "for t in fls_warm_df_[\"time_clients_fit\"]:\n",
    "    vals.append((\"fedless\", \"warm\", \"time_clients_fit\", t))\n",
    "    \n",
    "\n",
    "df_ = pd.DataFrame(vals, columns=[\"method\", \"state\", \"task\", \"duration\"])\n",
    "    \n",
    "fig, axarr = plt.subplots(ncols=5, figsize=(25, 5))\n",
    "\n",
    "# Warm Durations\n",
    "df_warm_ = df_[(df_[\"state\"] == \"warm\") & (df_[\"task\"] == \"round\")]\n",
    "sns.barplot(x=\"method\", y=\"duration\", data=df_warm_, ax=axarr[0])\n",
    "#sns.violinplot(x=\"method\", y=\"duration\", data=df_warm_, ax=axarr[0])\n",
    "#sns.boxplot(x=\"method\", y=\"duration\", data=df_warm_, ax=axarr[0])\n",
    "#axarr[0].set_ylim(0, 80)\n",
    "axarr[0].set_title(\"Flower vs Fedless Round Durations\")\n",
    "\n",
    "df_warm_ = df_[(df_[\"state\"] == \"warm\") & (df_[\"task\"] == \"time_clients_fit\")]\n",
    "sns.barplot(x=\"method\", y=\"duration\", data=df_warm_, ax=axarr[1])\n",
    "axarr[1].set_title(\"Flower vs Fedless Client Wait Time Durations\")\n",
    "\n",
    "# Cold vs Warm Fedless\n",
    "df_fedless_ = df_[(df_[\"method\"] == \"fedless\") & (df_[\"task\"] == \"round\")]\n",
    "sns.boxplot(x=\"state\", y=\"duration\", data=df_fedless_, ax=axarr[2])\n",
    "axarr[2].set_title(\"Fedless Round Durations\")\n",
    "\n",
    "# Timing Breakdown\n",
    "sns.barplot(x=\"method\", y=\"duration\", data=df_, ax=axarr[3], hue=\"task\")\n",
    "axarr[3].set_title(\"Round vs Aggregation Time\")\n",
    "\n",
    "\n",
    "sns.boxplot(x=\"eval\", y=\"seconds\", data=fedless_client_df.loc[\"shakespeare\"], ax=axarr[4])\n",
    "axarr[4].set_title(\"Fedless Client Durations\")\n",
    "\n",
    "fig.savefig(\"/Users/andreas/Desktop/shakespeare.pdf\")\n",
    "\n",
    "#sns.lineplot(x=\"round\", y=\"seconds\", data=fedless_client_df.loc[\"shakespeare\"], ax=axarr[4])\n",
    "\n",
    "#df_warm_.groupby([\"method\", \"state\"]).mean(\"duration\")\n",
    "print(f\"Warm duration differnce mean\")\n",
    "df_warm_ = df_[(df_[\"state\"] == \"warm\") & (df_[\"task\"] == \"round\")]\n",
    "table_df_ = df_warm_.groupby(\"method\").mean()\n",
    "table_df_[\"pct-change\"] = table_df_.pct_change()\n",
    "print(table_df_)"
   ]
  },
  {
   "cell_type": "code",
   "execution_count": null,
   "metadata": {},
   "outputs": [],
   "source": [
    "sns.barplot(x=\"client_id\", y=\"seconds\", data=fedless_client_df.loc[\"shakespeare\"])"
   ]
  },
  {
   "cell_type": "code",
   "execution_count": null,
   "metadata": {},
   "outputs": [],
   "source": [
    "flwr_df_ = flower_df.loc[(\"mnist\", 75, 100, 5)]\n",
    "flwr_cold_df_ = flwr_df_[flwr_df_[\"round\"] == 1]\n",
    "flwr_warm_df_ = flwr_df_[flwr_df_[\"round\"] > 1]\n",
    "flwr_cold_df_"
   ]
  },
  {
   "cell_type": "code",
   "execution_count": null,
   "metadata": {},
   "outputs": [],
   "source": []
  }
 ],
 "metadata": {
  "kernelspec": {
   "display_name": "Python 3",
   "language": "python",
   "name": "python3"
  },
  "language_info": {
   "codemirror_mode": {
    "name": "ipython",
    "version": 3
   },
   "file_extension": ".py",
   "mimetype": "text/x-python",
   "name": "python",
   "nbconvert_exporter": "python",
   "pygments_lexer": "ipython3",
   "version": "3.8.2"
  }
 },
 "nbformat": 4,
 "nbformat_minor": 4
}
