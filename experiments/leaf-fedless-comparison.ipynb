{
 "cells": [
  {
   "cell_type": "code",
   "execution_count": 1,
   "metadata": {
    "tags": []
   },
   "outputs": [],
   "source": [
    "import os\n",
    "from pathlib import Path\n",
    "\n",
    "import numpy as np\n",
    "import pandas as pd\n",
    "import matplotlib.pyplot as plt\n",
    "import seaborn as sns\n",
    "\n",
    "from IPython.core.display import HTML\n",
    "\n",
    "from plot_utils import process_flower_logs"
   ]
  },
  {
   "cell_type": "code",
   "execution_count": 2,
   "metadata": {},
   "outputs": [],
   "source": [
    "FLOWER_LOGS_FOLDER = Path(\"/Users/andreas/workspace/thesis-code/out/flower-logs\")"
   ]
  },
  {
   "cell_type": "code",
   "execution_count": 3,
   "metadata": {},
   "outputs": [],
   "source": [
    "flower_df = process_flower_logs(FLOWER_LOGS_FOLDER)"
   ]
  },
  {
   "cell_type": "code",
   "execution_count": 4,
   "metadata": {},
   "outputs": [],
   "source": [
    "fedless_dfs = []\n",
    "fedless_client_dfs = []\n",
    "for folder in Path(\"/Users/andreas/workspace/thesis-code/out/\").glob(\"fedless-*-flower\"):\n",
    "    dataset = folder.name.split(\"-\")[1]\n",
    "    for timing_file in folder.glob(\"timing*.csv\"):\n",
    "        seed = timing_file.name.split(\"_\")[1].split(\".\")[0]\n",
    "        df = pd.read_csv(timing_file)\n",
    "        index = pd.MultiIndex.from_tuples(\n",
    "        [(\n",
    "            dataset,\n",
    "            #clients_in_round,\n",
    "            #clients_total,\n",
    "            #local_epochs,\n",
    "            #batch_size,\n",
    "            seed\n",
    "        )] * len(df),\n",
    "        names=[\n",
    "            \"dataset\",\n",
    "            #\"clients_in_round\",\n",
    "            #\"clients_total\",\n",
    "            #\"local_epochs\",\n",
    "            #\"batch_size\",\n",
    "            \"seed\"\n",
    "        ]\n",
    "        )\n",
    "        df = pd.DataFrame(df.values, index=index, columns=df.columns)\n",
    "        df.rename(columns = {\n",
    "            'round_id':'round', \n",
    "            'global_test_accuracy': 'accuracy',\n",
    "            'global_test_loss': 'loss',\n",
    "            'round_seconds': 'time',\n",
    "            'clients_finished_seconds': 'time_clients_fit'\n",
    "        }, inplace = True)\n",
    "        new_dtypes = {\n",
    "            \"session_id\": str, \n",
    "            \"round\": int, \n",
    "            \"accuracy\": float,\n",
    "            \"loss\": float,\n",
    "            \"time\": float,\n",
    "            \"time_clients_fit\": float,\n",
    "            \"num_clients_round\": int,\n",
    "            #\"time_since_start\": float, \n",
    "            #\"time_agg_eval\": float\n",
    "        }\n",
    "        if not df.empty:\n",
    "            df = df.astype(new_dtypes)\n",
    "        fedless_dfs.append(df)\n",
    "        \n",
    "        \n",
    "    for timing_file in folder.glob(\"clients*.csv\"):\n",
    "        seed = timing_file.name.split(\"_\")[1].split(\".\")[0]\n",
    "        df = pd.read_csv(timing_file)\n",
    "        index = pd.MultiIndex.from_tuples(\n",
    "        [(\n",
    "            dataset,\n",
    "            seed\n",
    "        )] * len(df),\n",
    "        names=[\n",
    "            \"dataset\",\n",
    "            \"seed\"\n",
    "        ]\n",
    "        )\n",
    "        df = pd.DataFrame(df.values, index=index, columns=df.columns)\n",
    "        #df.rename(columns = {\n",
    "        #    'round_id':'round', \n",
    "        #    'global_test_accuracy': 'accuracy',\n",
    "        #    'global_test_loss': 'loss',\n",
    "        #    'round_seconds': 'time',\n",
    "        #    'clients_finished_seconds': 'time_clients_fit'\n",
    "        #}, inplace = True)\n",
    "        new_dtypes = {\n",
    "            \"seconds\": float,\n",
    "            \"round\": int\n",
    "        }\n",
    "        if not df.empty:\n",
    "            df = df.astype(new_dtypes)\n",
    "        fedless_client_dfs.append(df)\n",
    "    \n",
    "fedless_df = pd.concat(fedless_dfs)\n",
    "fedless_client_df = pd.concat(fedless_client_dfs)"
   ]
  },
  {
   "cell_type": "markdown",
   "metadata": {},
   "source": [
    "## MNIST"
   ]
  },
  {
   "cell_type": "markdown",
   "metadata": {},
   "source": [
    "#### Accuracy over Rounds"
   ]
  },
  {
   "cell_type": "code",
   "execution_count": 5,
   "metadata": {},
   "outputs": [
    {
     "data": {
      "text/html": [
       "<div>\n",
       "<style scoped>\n",
       "    .dataframe tbody tr th:only-of-type {\n",
       "        vertical-align: middle;\n",
       "    }\n",
       "\n",
       "    .dataframe tbody tr th {\n",
       "        vertical-align: top;\n",
       "    }\n",
       "\n",
       "    .dataframe thead th {\n",
       "        text-align: right;\n",
       "    }\n",
       "</style>\n",
       "<table border=\"1\" class=\"dataframe\">\n",
       "  <thead>\n",
       "    <tr style=\"text-align: right;\">\n",
       "      <th>method</th>\n",
       "      <th>fedless</th>\n",
       "      <th>flower</th>\n",
       "    </tr>\n",
       "    <tr>\n",
       "      <th>target</th>\n",
       "      <th></th>\n",
       "      <th></th>\n",
       "    </tr>\n",
       "  </thead>\n",
       "  <tbody>\n",
       "    <tr>\n",
       "      <th>0.90</th>\n",
       "      <td>3.000000</td>\n",
       "      <td>4.000000</td>\n",
       "    </tr>\n",
       "    <tr>\n",
       "      <th>0.95</th>\n",
       "      <td>4.333333</td>\n",
       "      <td>5.333333</td>\n",
       "    </tr>\n",
       "    <tr>\n",
       "      <th>0.98</th>\n",
       "      <td>10.000000</td>\n",
       "      <td>12.333333</td>\n",
       "    </tr>\n",
       "    <tr>\n",
       "      <th>0.99</th>\n",
       "      <td>29.000000</td>\n",
       "      <td>35.000000</td>\n",
       "    </tr>\n",
       "  </tbody>\n",
       "</table>\n",
       "</div>"
      ],
      "text/plain": [
       "method    fedless     flower\n",
       "target                      \n",
       "0.90     3.000000   4.000000\n",
       "0.95     4.333333   5.333333\n",
       "0.98    10.000000  12.333333\n",
       "0.99    29.000000  35.000000"
      ]
     },
     "execution_count": 5,
     "metadata": {},
     "output_type": "execute_result"
    },
    {
     "data": {
      "image/png": "[encoded data removed]",
      "text/plain": [
       "<Figure size 432x288 with 1 Axes>"
      ]
     },
     "metadata": {
      "needs_background": "light"
     },
     "output_type": "display_data"
    }
   ],
   "source": [
    "vals = []\n",
    "\n",
    "for target in [0.9, 0.95, 0.98, 0.99]:\n",
    "    df_ = flower_df.loc[(\"mnist\", 75, 100, 5)]\n",
    "    mean_round_until_target_flower = df_[df_[\"accuracy\"] >= target].groupby(\"seed\").min(\"round\")[\"round\"].mean()\n",
    "    vals.append((target, mean_round_until_target_flower, \"flower\"))\n",
    "    df_ = fedless_df.loc[\"mnist\"]\n",
    "    mean_round_until_target_fedless= df_[df_[\"accuracy\"] >= target].groupby(\"seed\").min(\"round\")[\"round\"].mean() \n",
    "    vals.append((target, mean_round_until_target_fedless, \"fedless\"))\n",
    "    \n",
    "\n",
    "df_ = pd.DataFrame(vals, columns=[\"target\", \"rounds\", \"method\"])\n",
    "sns.barplot(x=\"target\", y=\"rounds\", hue=\"method\", data=df_)\n",
    "df_.pivot(columns=\"method\", values=\"rounds\", index=\"target\")"
   ]
  },
  {
   "cell_type": "markdown",
   "metadata": {},
   "source": [
    "#### Round Durations"
   ]
  },
  {
   "cell_type": "code",
   "execution_count": 6,
   "metadata": {},
   "outputs": [
    {
     "name": "stdout",
     "output_type": "stream",
     "text": [
      "Warm duration differnce mean\n",
      "          duration\n",
      "method            \n",
      "fedless  18.881022\n",
      "flower   12.084382\n"
     ]
    },
    {
     "data": {
      "text/plain": [
       "Text(0.5, 1.0, 'Fedless Client Durations')"
      ]
     },
     "execution_count": 6,
     "metadata": {},
     "output_type": "execute_result"
    },
    {
     "data": {
      "image/png": "[encoded data removed]",
      "text/plain": [
       "<Figure size 1152x288 with 4 Axes>"
      ]
     },
     "metadata": {
      "needs_background": "light"
     },
     "output_type": "display_data"
    }
   ],
   "source": [
    "vals = []\n",
    "detail_vals = []\n",
    "\n",
    "flwr_df_ = flower_df.loc[(\"mnist\", 75, 100, 5)]\n",
    "flwr_cold_df_ = flwr_df_[flwr_df_[\"round\"] == 1]\n",
    "flwr_warm_df_ = flwr_df_[flwr_df_[\"round\"] > 1]\n",
    "for t in flwr_cold_df_[\"time\"]:\n",
    "    vals.append((\"flower\", \"cold\", \"round\", t))\n",
    "for t in flwr_warm_df_[\"time\"]:\n",
    "    vals.append((\"flower\", \"warm\", \"round\", t))\n",
    "for t in flwr_warm_df_[\"time_agg_eval\"]:\n",
    "    vals.append((\"flower\", \"warm\", \"agg_eval\", t))\n",
    "#for t in flwr_warm_df_[\"time_clients_fit\"]:\n",
    "#    vals.append((\"flower\", \"warm\", \"time_clients_fit\", t))\n",
    "\n",
    "\n",
    "fls_df_ = fedless_df.loc[\"mnist\"]\n",
    "fls_cold_df_ = fls_df_[fls_df_[\"round\"] == 1]\n",
    "fls_warm_df_ = fls_df_[fls_df_[\"round\"] > 1]\n",
    "for t in fls_cold_df_[\"time\"]:\n",
    "    vals.append((\"fedless\", \"cold\", \"round\", t))\n",
    "for t in fls_warm_df_[\"time\"]:\n",
    "    vals.append((\"fedless\", \"warm\", \"round\", t))\n",
    "for t in fls_warm_df_[\"aggregator_seconds\"]:\n",
    "    vals.append((\"fedless\", \"warm\", \"agg_eval\", t))\n",
    "#for t in fls_warm_df_[\"time_clients_fit\"]:\n",
    "#    vals.append((\"fedless\", \"warm\", \"time_clients_fit\", t))\n",
    "    \n",
    "\n",
    "\n",
    "df_ = pd.DataFrame(vals, columns=[\"method\", \"state\", \"task\", \"duration\"])\n",
    "    \n",
    "fig, axarr = plt.subplots(ncols=4, figsize=(16, 4))\n",
    "\n",
    "# Warm Durations\n",
    "df_warm_ = df_[(df_[\"state\"] == \"warm\") & (df_[\"task\"] == \"round\")]\n",
    "sns.barplot(x=\"method\", y=\"duration\", data=df_warm_, ax=axarr[0])\n",
    "axarr[0].set_title(\"Flower vs Fedless Round Durations\")\n",
    "\n",
    "# Cold vs Warm Fedless\n",
    "df_fedless_ = df_[(df_[\"method\"] == \"fedless\") & (df_[\"task\"] == \"round\")]\n",
    "sns.boxplot(x=\"state\", y=\"duration\", data=df_fedless_, ax=axarr[1])\n",
    "axarr[1].set_title(\"Fedless Round Durations\")\n",
    "\n",
    "# Timing Breakdown\n",
    "sns.barplot(x=\"method\", y=\"duration\", data=df_, ax=axarr[2], hue=\"task\")\n",
    "axarr[2].set_title(\"Round vs Aggregation Time\")\n",
    "\n",
    "#df_warm_.groupby([\"method\", \"state\"]).mean(\"duration\")\n",
    "print(f\"Warm duration differnce mean\")\n",
    "print(df_warm_.groupby(\"method\").mean())\n",
    "\n",
    "sns.violinplot(y=\"seconds\", data=fedless_client_df.loc[\"mnist\"], ax=axarr[3])\n",
    "axarr[3].set_title(\"Fedless Client Durations\")"
   ]
  },
  {
   "cell_type": "markdown",
   "metadata": {},
   "source": [
    "## FEMNIST"
   ]
  },
  {
   "cell_type": "markdown",
   "metadata": {},
   "source": [
    "#### Accuracy over Rounds"
   ]
  },
  {
   "cell_type": "code",
   "execution_count": 7,
   "metadata": {},
   "outputs": [
    {
     "data": {
      "text/html": [
       "<div>\n",
       "<style scoped>\n",
       "    .dataframe tbody tr th:only-of-type {\n",
       "        vertical-align: middle;\n",
       "    }\n",
       "\n",
       "    .dataframe tbody tr th {\n",
       "        vertical-align: top;\n",
       "    }\n",
       "\n",
       "    .dataframe thead th {\n",
       "        text-align: right;\n",
       "    }\n",
       "</style>\n",
       "<table border=\"1\" class=\"dataframe\">\n",
       "  <thead>\n",
       "    <tr style=\"text-align: right;\">\n",
       "      <th>method</th>\n",
       "      <th>fedless</th>\n",
       "      <th>flower</th>\n",
       "    </tr>\n",
       "    <tr>\n",
       "      <th>target</th>\n",
       "      <th></th>\n",
       "      <th></th>\n",
       "    </tr>\n",
       "  </thead>\n",
       "  <tbody>\n",
       "    <tr>\n",
       "      <th>0.70</th>\n",
       "      <td>11.5</td>\n",
       "      <td>8.50</td>\n",
       "    </tr>\n",
       "    <tr>\n",
       "      <th>0.80</th>\n",
       "      <td>36.5</td>\n",
       "      <td>22.75</td>\n",
       "    </tr>\n",
       "    <tr>\n",
       "      <th>0.81</th>\n",
       "      <td>39.0</td>\n",
       "      <td>38.75</td>\n",
       "    </tr>\n",
       "    <tr>\n",
       "      <th>0.82</th>\n",
       "      <td>57.5</td>\n",
       "      <td>44.00</td>\n",
       "    </tr>\n",
       "  </tbody>\n",
       "</table>\n",
       "</div>"
      ],
      "text/plain": [
       "method  fedless  flower\n",
       "target                 \n",
       "0.70       11.5    8.50\n",
       "0.80       36.5   22.75\n",
       "0.81       39.0   38.75\n",
       "0.82       57.5   44.00"
      ]
     },
     "execution_count": 7,
     "metadata": {},
     "output_type": "execute_result"
    },
    {
     "data": {
      "image/png": "[encoded data removed]",
      "text/plain": [
       "<Figure size 432x288 with 1 Axes>"
      ]
     },
     "metadata": {
      "needs_background": "light"
     },
     "output_type": "display_data"
    }
   ],
   "source": [
    "vals = []\n",
    "\n",
    "for target in [0.7, 0.8, 0.81, 0.82]:\n",
    "    df_ = flower_df.loc[(\"femnist\", 75, 100, 5)]\n",
    "    mean_round_until_target_flower = df_[df_[\"accuracy\"] >= target].groupby(\"seed\").min(\"round\")[\"round\"].mean()\n",
    "    vals.append((target, mean_round_until_target_flower, \"flower\"))\n",
    "    df_ = fedless_df.loc[\"femnist\"]\n",
    "    mean_round_until_target_fedless= df_[df_[\"accuracy\"] >= target].groupby(\"seed\").min(\"round\")[\"round\"].mean() \n",
    "    vals.append((target, mean_round_until_target_fedless, \"fedless\"))\n",
    "    \n",
    "\n",
    "df_ = pd.DataFrame(vals, columns=[\"target\", \"rounds\", \"method\"])\n",
    "sns.barplot(x=\"target\", y=\"rounds\", hue=\"method\", data=df_)\n",
    "df_.pivot(columns=\"method\", values=\"rounds\", index=\"target\")"
   ]
  },
  {
   "cell_type": "markdown",
   "metadata": {},
   "source": [
    "#### Round Durations"
   ]
  },
  {
   "cell_type": "code",
   "execution_count": 8,
   "metadata": {},
   "outputs": [
    {
     "name": "stdout",
     "output_type": "stream",
     "text": [
      "Warm duration differnce mean\n",
      "          duration  pct-change\n",
      "method                        \n",
      "fedless  47.142465         NaN\n",
      "flower   25.678505     -0.4553\n"
     ]
    },
    {
     "data": {
      "image/png": "[encoded data removed]",
      "text/plain": [
       "<Figure size 1800x360 with 5 Axes>"
      ]
     },
     "metadata": {
      "needs_background": "light"
     },
     "output_type": "display_data"
    }
   ],
   "source": [
    "vals = []\n",
    "detail_vals = []\n",
    "\n",
    "flwr_df_ = flower_df.loc[(\"femnist\", 75, 100, 5)]\n",
    "flwr_cold_df_ = flwr_df_[flwr_df_[\"round\"] == 1]\n",
    "flwr_warm_df_ = flwr_df_[flwr_df_[\"round\"] > 1]\n",
    "for t in flwr_cold_df_[\"time\"]:\n",
    "    vals.append((\"flower\", \"cold\", \"round\", t))\n",
    "for t in flwr_warm_df_[\"time\"]:\n",
    "    vals.append((\"flower\", \"warm\", \"round\", t))\n",
    "for t in flwr_warm_df_[\"time_agg_eval\"]:\n",
    "    vals.append((\"flower\", \"warm\", \"agg_eval\", t))\n",
    "for t in flwr_warm_df_[\"time_clients_fit\"]:\n",
    "    vals.append((\"flower\", \"warm\", \"time_clients_fit\", t))\n",
    "\n",
    "\n",
    "fls_df_ = fedless_df.loc[\"femnist\"]\n",
    "fls_cold_df_ = fls_df_[fls_df_[\"round\"] == 1]\n",
    "fls_warm_df_ = fls_df_[fls_df_[\"round\"] > 1]\n",
    "for t in fls_cold_df_[\"time\"]:\n",
    "    vals.append((\"fedless\", \"cold\", \"round\", t))\n",
    "for t in fls_warm_df_[\"time\"]:\n",
    "    vals.append((\"fedless\", \"warm\", \"round\", t))\n",
    "for t in fls_warm_df_[\"aggregator_seconds\"]:\n",
    "    vals.append((\"fedless\", \"warm\", \"agg_eval\", t))\n",
    "for t in fls_warm_df_[\"time_clients_fit\"]:\n",
    "    vals.append((\"fedless\", \"warm\", \"time_clients_fit\", t))\n",
    "    \n",
    "\n",
    "df_ = pd.DataFrame(vals, columns=[\"method\", \"state\", \"task\", \"duration\"])\n",
    "    \n",
    "fig, axarr = plt.subplots(ncols=5, figsize=(25, 5))\n",
    "\n",
    "# Warm Durations\n",
    "df_warm_ = df_[(df_[\"state\"] == \"warm\") & (df_[\"task\"] == \"round\")]\n",
    "sns.barplot(x=\"method\", y=\"duration\", data=df_warm_, ax=axarr[0])\n",
    "#sns.violinplot(x=\"method\", y=\"duration\", data=df_warm_, ax=axarr[0])\n",
    "#sns.boxplot(x=\"method\", y=\"duration\", data=df_warm_, ax=axarr[0])\n",
    "axarr[0].set_ylim(0, 80)\n",
    "axarr[0].set_title(\"Flower vs Fedless Round Durations\")\n",
    "\n",
    "df_warm_ = df_[(df_[\"state\"] == \"warm\") & (df_[\"task\"] == \"time_clients_fit\")]\n",
    "sns.barplot(x=\"method\", y=\"duration\", data=df_warm_, ax=axarr[1])\n",
    "axarr[1].set_title(\"Flower vs Fedless Client Wait Time Durations\")\n",
    "\n",
    "# Cold vs Warm Fedless\n",
    "df_fedless_ = df_[(df_[\"method\"] == \"fedless\") & (df_[\"task\"] == \"round\")]\n",
    "sns.boxplot(x=\"state\", y=\"duration\", data=df_fedless_, ax=axarr[2])\n",
    "axarr[2].set_title(\"Fedless Round Durations\")\n",
    "\n",
    "# Timing Breakdown\n",
    "sns.barplot(x=\"method\", y=\"duration\", data=df_, ax=axarr[3], hue=\"task\")\n",
    "axarr[3].set_title(\"Round vs Aggregation Time\")\n",
    "\n",
    "\n",
    "sns.boxplot(x=\"eval\", y=\"seconds\", data=fedless_client_df.loc[\"femnist\"], ax=axarr[4])\n",
    "axarr[4].set_title(\"Fedless Client Durations\")\n",
    "\n",
    "#df_warm_.groupby([\"method\", \"state\"]).mean(\"duration\")\n",
    "print(f\"Warm duration differnce mean\")\n",
    "df_warm_ = df_[(df_[\"state\"] == \"warm\") & (df_[\"task\"] == \"round\")]\n",
    "table_df_ = df_warm_.groupby(\"method\").mean()\n",
    "table_df_[\"pct-change\"] = table_df_.pct_change()\n",
    "print(table_df_)"
   ]
  },
  {
   "cell_type": "code",
   "execution_count": null,
   "metadata": {},
   "outputs": [],
   "source": []
  },
  {
   "cell_type": "markdown",
   "metadata": {},
   "source": [
    "## SHAKESPEARE"
   ]
  },
  {
   "cell_type": "code",
   "execution_count": 9,
   "metadata": {},
   "outputs": [
    {
     "data": {
      "text/html": [
       "<div>\n",
       "<style scoped>\n",
       "    .dataframe tbody tr th:only-of-type {\n",
       "        vertical-align: middle;\n",
       "    }\n",
       "\n",
       "    .dataframe tbody tr th {\n",
       "        vertical-align: top;\n",
       "    }\n",
       "\n",
       "    .dataframe thead th {\n",
       "        text-align: right;\n",
       "    }\n",
       "</style>\n",
       "<table border=\"1\" class=\"dataframe\">\n",
       "  <thead>\n",
       "    <tr style=\"text-align: right;\">\n",
       "      <th>method</th>\n",
       "      <th>fedless</th>\n",
       "      <th>flower</th>\n",
       "    </tr>\n",
       "    <tr>\n",
       "      <th>target</th>\n",
       "      <th></th>\n",
       "      <th></th>\n",
       "    </tr>\n",
       "  </thead>\n",
       "  <tbody>\n",
       "    <tr>\n",
       "      <th>0.30</th>\n",
       "      <td>13.0</td>\n",
       "      <td>8.5</td>\n",
       "    </tr>\n",
       "    <tr>\n",
       "      <th>0.40</th>\n",
       "      <td>27.0</td>\n",
       "      <td>17.5</td>\n",
       "    </tr>\n",
       "    <tr>\n",
       "      <th>0.45</th>\n",
       "      <td>41.0</td>\n",
       "      <td>25.5</td>\n",
       "    </tr>\n",
       "  </tbody>\n",
       "</table>\n",
       "</div>"
      ],
      "text/plain": [
       "method  fedless  flower\n",
       "target                 \n",
       "0.30       13.0     8.5\n",
       "0.40       27.0    17.5\n",
       "0.45       41.0    25.5"
      ]
     },
     "execution_count": 9,
     "metadata": {},
     "output_type": "execute_result"
    },
    {
     "data": {
      "image/png": "[encoded data removed]",
      "text/plain": [
       "<Figure size 432x288 with 1 Axes>"
      ]
     },
     "metadata": {
      "needs_background": "light"
     },
     "output_type": "display_data"
    }
   ],
   "source": [
    "vals = []\n",
    "\n",
    "for target in [0.3, 0.4, 0.45]:\n",
    "    df_ = flower_df.loc[(\"shakespeare\", 25, 100, 1)]\n",
    "    mean_round_until_target_flower = df_[df_[\"accuracy\"] >= target].groupby(\"seed\").min(\"round\")[\"round\"].mean()\n",
    "    vals.append((target, mean_round_until_target_flower, \"flower\"))\n",
    "    df_ = fedless_df.loc[\"shakespeare\"]\n",
    "    mean_round_until_target_fedless= df_[df_[\"accuracy\"] >= target].groupby(\"seed\").min(\"round\")[\"round\"].mean() \n",
    "    vals.append((target, mean_round_until_target_fedless, \"fedless\"))\n",
    "    \n",
    "\n",
    "df_ = pd.DataFrame(vals, columns=[\"target\", \"rounds\", \"method\"])\n",
    "sns.barplot(x=\"target\", y=\"rounds\", hue=\"method\", data=df_)\n",
    "df_.pivot(columns=\"method\", values=\"rounds\", index=\"target\")"
   ]
  },
  {
   "cell_type": "code",
   "execution_count": 10,
   "metadata": {},
   "outputs": [
    {
     "name": "stdout",
     "output_type": "stream",
     "text": [
      "Warm duration differnce mean\n",
      "            duration  pct-change\n",
      "method                          \n",
      "fedless  1148.619022         NaN\n",
      "flower    262.596205   -0.771381\n"
     ]
    },
    {
     "data": {
      "image/png": "[encoded data removed]",
      "text/plain": [
       "<Figure size 1800x360 with 5 Axes>"
      ]
     },
     "metadata": {
      "needs_background": "light"
     },
     "output_type": "display_data"
    }
   ],
   "source": [
    "vals = []\n",
    "detail_vals = []\n",
    "\n",
    "flwr_df_ = flower_df.loc[(\"shakespeare\", 25, 100, 1)]\n",
    "flwr_cold_df_ = flwr_df_[flwr_df_[\"round\"] == 1]\n",
    "flwr_warm_df_ = flwr_df_[flwr_df_[\"round\"] > 1]\n",
    "for t in flwr_cold_df_[\"time\"]:\n",
    "    vals.append((\"flower\", \"cold\", \"round\", t))\n",
    "for t in flwr_warm_df_[\"time\"]:\n",
    "    vals.append((\"flower\", \"warm\", \"round\", t))\n",
    "for t in flwr_warm_df_[\"time_agg_eval\"]:\n",
    "    vals.append((\"flower\", \"warm\", \"agg_eval\", t))\n",
    "for t in flwr_warm_df_[\"time_clients_fit\"]:\n",
    "    vals.append((\"flower\", \"warm\", \"time_clients_fit\", t))\n",
    "\n",
    "\n",
    "fls_df_ = fedless_df.loc[\"shakespeare\"]\n",
    "fls_cold_df_ = fls_df_[fls_df_[\"round\"] == 1]\n",
    "fls_warm_df_ = fls_df_[fls_df_[\"round\"] > 1]\n",
    "for t in fls_cold_df_[\"time\"]:\n",
    "    vals.append((\"fedless\", \"cold\", \"round\", t))\n",
    "for t in fls_warm_df_[\"time\"]:\n",
    "    vals.append((\"fedless\", \"warm\", \"round\", t))\n",
    "for t in fls_warm_df_[\"aggregator_seconds\"]:\n",
    "    vals.append((\"fedless\", \"warm\", \"agg_eval\", t))\n",
    "for t in fls_warm_df_[\"time_clients_fit\"]:\n",
    "    vals.append((\"fedless\", \"warm\", \"time_clients_fit\", t))\n",
    "    \n",
    "\n",
    "df_ = pd.DataFrame(vals, columns=[\"method\", \"state\", \"task\", \"duration\"])\n",
    "    \n",
    "fig, axarr = plt.subplots(ncols=5, figsize=(25, 5))\n",
    "\n",
    "# Warm Durations\n",
    "df_warm_ = df_[(df_[\"state\"] == \"warm\") & (df_[\"task\"] == \"round\")]\n",
    "sns.barplot(x=\"method\", y=\"duration\", data=df_warm_, ax=axarr[0])\n",
    "#sns.violinplot(x=\"method\", y=\"duration\", data=df_warm_, ax=axarr[0])\n",
    "#sns.boxplot(x=\"method\", y=\"duration\", data=df_warm_, ax=axarr[0])\n",
    "#axarr[0].set_ylim(0, 80)\n",
    "axarr[0].set_title(\"Flower vs Fedless Round Durations\")\n",
    "\n",
    "df_warm_ = df_[(df_[\"state\"] == \"warm\") & (df_[\"task\"] == \"time_clients_fit\")]\n",
    "sns.barplot(x=\"method\", y=\"duration\", data=df_warm_, ax=axarr[1])\n",
    "axarr[1].set_title(\"Flower vs Fedless Client Wait Time Durations\")\n",
    "\n",
    "# Cold vs Warm Fedless\n",
    "df_fedless_ = df_[(df_[\"method\"] == \"fedless\") & (df_[\"task\"] == \"round\")]\n",
    "sns.boxplot(x=\"state\", y=\"duration\", data=df_fedless_, ax=axarr[2])\n",
    "axarr[2].set_title(\"Fedless Round Durations\")\n",
    "\n",
    "# Timing Breakdown\n",
    "sns.barplot(x=\"method\", y=\"duration\", data=df_, ax=axarr[3], hue=\"task\")\n",
    "axarr[3].set_title(\"Round vs Aggregation Time\")\n",
    "\n",
    "\n",
    "sns.boxplot(x=\"eval\", y=\"seconds\", data=fedless_client_df.loc[\"shakespeare\"], ax=axarr[4])\n",
    "axarr[4].set_title(\"Fedless Client Durations\")\n",
    "\n",
    "fig.savefig(\"/Users/andreas/Desktop/shakespeare.pdf\")\n",
    "\n",
    "#sns.lineplot(x=\"round\", y=\"seconds\", data=fedless_client_df.loc[\"shakespeare\"], ax=axarr[4])\n",
    "\n",
    "#df_warm_.groupby([\"method\", \"state\"]).mean(\"duration\")\n",
    "print(f\"Warm duration differnce mean\")\n",
    "df_warm_ = df_[(df_[\"state\"] == \"warm\") & (df_[\"task\"] == \"round\")]\n",
    "table_df_ = df_warm_.groupby(\"method\").mean()\n",
    "table_df_[\"pct-change\"] = table_df_.pct_change()\n",
    "print(table_df_)"
   ]
  },
  {
   "cell_type": "code",
   "execution_count": 11,
   "metadata": {},
   "outputs": [
    {
     "data": {
      "text/plain": [
       "<AxesSubplot:xlabel='client_id', ylabel='seconds'>"
      ]
     },
     "execution_count": 11,
     "metadata": {},
     "output_type": "execute_result"
    },
    {
     "data": {
      "image/png": "[encoded data removed]",
      "text/plain": [
       "<Figure size 432x288 with 1 Axes>"
      ]
     },
     "metadata": {
      "needs_background": "light"
     },
     "output_type": "display_data"
    }
   ],
   "source": [
    "sns.barplot(x=\"client_id\", y=\"seconds\", data=fedless_client_df.loc[\"shakespeare\"])"
   ]
  },
  {
   "cell_type": "code",
   "execution_count": 16,
   "metadata": {},
   "outputs": [
    {
     "data": {
      "text/html": [
       "<div>\n",
       "<style scoped>\n",
       "    .dataframe tbody tr th:only-of-type {\n",
       "        vertical-align: middle;\n",
       "    }\n",
       "\n",
       "    .dataframe tbody tr th {\n",
       "        vertical-align: top;\n",
       "    }\n",
       "\n",
       "    .dataframe thead th {\n",
       "        text-align: right;\n",
       "    }\n",
       "</style>\n",
       "<table border=\"1\" class=\"dataframe\">\n",
       "  <thead>\n",
       "    <tr style=\"text-align: right;\">\n",
       "      <th></th>\n",
       "      <th></th>\n",
       "      <th>round</th>\n",
       "      <th>loss</th>\n",
       "      <th>metrics</th>\n",
       "      <th>accuracy</th>\n",
       "      <th>time_since_start</th>\n",
       "      <th>time</th>\n",
       "      <th>time_agg_eval</th>\n",
       "      <th>time_eval</th>\n",
       "      <th>time_clients_fit</th>\n",
       "    </tr>\n",
       "    <tr>\n",
       "      <th>batch_size</th>\n",
       "      <th>seed</th>\n",
       "      <th></th>\n",
       "      <th></th>\n",
       "      <th></th>\n",
       "      <th></th>\n",
       "      <th></th>\n",
       "      <th></th>\n",
       "      <th></th>\n",
       "      <th></th>\n",
       "      <th></th>\n",
       "    </tr>\n",
       "  </thead>\n",
       "  <tbody>\n",
       "    <tr>\n",
       "      <th rowspan=\"3\" valign=\"top\">5</th>\n",
       "      <th>1127</th>\n",
       "      <td>1</td>\n",
       "      <td>2.292580</td>\n",
       "      <td>{'accuracy': 0.15929999947547913}</td>\n",
       "      <td>0.1593</td>\n",
       "      <td>125.950208</td>\n",
       "      <td>-1.626027e+09</td>\n",
       "      <td>6.246</td>\n",
       "      <td>NaN</td>\n",
       "      <td>NaN</td>\n",
       "    </tr>\n",
       "    <tr>\n",
       "      <th>11933</th>\n",
       "      <td>1</td>\n",
       "      <td>2.285734</td>\n",
       "      <td>{'accuracy': 0.2556999921798706}</td>\n",
       "      <td>0.2557</td>\n",
       "      <td>100.248937</td>\n",
       "      <td>-1.626026e+09</td>\n",
       "      <td>6.318</td>\n",
       "      <td>NaN</td>\n",
       "      <td>NaN</td>\n",
       "    </tr>\n",
       "    <tr>\n",
       "      <th>15152</th>\n",
       "      <td>1</td>\n",
       "      <td>2.289429</td>\n",
       "      <td>{'accuracy': 0.10740000009536743}</td>\n",
       "      <td>0.1074</td>\n",
       "      <td>119.794901</td>\n",
       "      <td>-1.626028e+09</td>\n",
       "      <td>5.987</td>\n",
       "      <td>NaN</td>\n",
       "      <td>NaN</td>\n",
       "    </tr>\n",
       "  </tbody>\n",
       "</table>\n",
       "</div>"
      ],
      "text/plain": [
       "                  round      loss                            metrics  \\\n",
       "batch_size seed                                                        \n",
       "5          1127       1  2.292580  {'accuracy': 0.15929999947547913}   \n",
       "           11933      1  2.285734   {'accuracy': 0.2556999921798706}   \n",
       "           15152      1  2.289429  {'accuracy': 0.10740000009536743}   \n",
       "\n",
       "                  accuracy  time_since_start          time  time_agg_eval  \\\n",
       "batch_size seed                                                             \n",
       "5          1127     0.1593        125.950208 -1.626027e+09          6.246   \n",
       "           11933    0.2557        100.248937 -1.626026e+09          6.318   \n",
       "           15152    0.1074        119.794901 -1.626028e+09          5.987   \n",
       "\n",
       "                  time_eval  time_clients_fit  \n",
       "batch_size seed                                \n",
       "5          1127         NaN               NaN  \n",
       "           11933        NaN               NaN  \n",
       "           15152        NaN               NaN  "
      ]
     },
     "execution_count": 16,
     "metadata": {},
     "output_type": "execute_result"
    }
   ],
   "source": [
    "flwr_df_ = flower_df.loc[(\"mnist\", 75, 100, 5)]\n",
    "flwr_cold_df_ = flwr_df_[flwr_df_[\"round\"] == 1]\n",
    "flwr_warm_df_ = flwr_df_[flwr_df_[\"round\"] > 1]\n",
    "flwr_cold_df_"
   ]
  },
  {
   "cell_type": "code",
   "execution_count": null,
   "metadata": {},
   "outputs": [],
   "source": []
  }
 ],
 "metadata": {
  "kernelspec": {
   "display_name": "Python 3",
   "language": "python",
   "name": "python3"
  },
  "language_info": {
   "codemirror_mode": {
    "name": "ipython",
    "version": 3
   },
   "file_extension": ".py",
   "mimetype": "text/x-python",
   "name": "python",
   "nbconvert_exporter": "python",
   "pygments_lexer": "ipython3",
   "version": "3.8.2"
  }
 },
 "nbformat": 4,
 "nbformat_minor": 4
}
