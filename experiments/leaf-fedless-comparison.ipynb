{
 "cells": [
  {
   "cell_type": "code",
   "execution_count": 11,
   "metadata": {
    "tags": []
   },
   "outputs": [],
   "source": [
    "import os\n",
    "import json\n",
    "from pathlib import Path\n",
    "\n",
    "import numpy as np\n",
    "import pandas as pd\n",
    "import matplotlib.pyplot as plt\n",
    "import seaborn as sns\n",
    "\n",
    "from IPython.core.display import HTML\n",
    "\n",
    "from plot_utils import process_flower_logs"
   ]
  },
  {
   "cell_type": "code",
   "execution_count": 12,
   "metadata": {},
   "outputs": [],
   "source": [
    "SNS_DEFAULT_PALETTE = sns.color_palette(\"mako\")#, as_cmap=True)"
   ]
  },
  {
   "cell_type": "code",
   "execution_count": 13,
   "metadata": {},
   "outputs": [],
   "source": [
    "FLOWER_LOGS_FOLDER = Path(\"/Users/andreas/workspace/thesis-code/out/flower-logs\")"
   ]
  },
  {
   "cell_type": "code",
   "execution_count": 14,
   "metadata": {},
   "outputs": [],
   "source": [
    "flower_df = process_flower_logs(FLOWER_LOGS_FOLDER)"
   ]
  },
  {
   "cell_type": "code",
   "execution_count": 15,
   "metadata": {},
   "outputs": [],
   "source": [
    "fedless_dfs = []\n",
    "fedless_client_dfs = []\n",
    "for folder in Path(\"/Users/andreas/workspace/thesis-code/out/\").glob(\"fedless-*-flower-*\"):\n",
    "    dataset = folder.name.split(\"-\")[1]\n",
    "    clients_in_round = int(folder.name.split(\"-\")[3])\n",
    "    for timing_file in folder.glob(\"timing*.csv\"):\n",
    "        seed = timing_file.name.split(\"_\")[1].split(\".\")[0]\n",
    "        #config_file = timing_file.parent / f\"config_{seed}.json\"\n",
    "        #hyperparams = {}\n",
    "        #if config_file.exists():\n",
    "        #    config = json.loads(config_file.read_text())\n",
    "        #    hyperparams = config[\"clients\"][\"hyperparams\"]        \n",
    "#        \n",
    "        df = pd.read_csv(timing_file)\n",
    "        index = pd.MultiIndex.from_tuples(\n",
    "        [(\n",
    "            dataset,\n",
    "            clients_in_round,\n",
    "            #clients_total,\n",
    "            #local_epochs,\n",
    "            #batch_size,\n",
    "            seed\n",
    "        )] * len(df),\n",
    "        names=[\n",
    "            \"dataset\",\n",
    "            \"clients_in_round\",\n",
    "            #\"clients_total\",\n",
    "            #\"local_epochs\",\n",
    "            #\"batch_size\",\n",
    "            \"seed\"\n",
    "        ]\n",
    "        )\n",
    "        df = pd.DataFrame(df.values, index=index, columns=df.columns)\n",
    "        df.rename(columns = {\n",
    "            'round_id':'round', \n",
    "            'global_test_accuracy': 'accuracy',\n",
    "            'global_test_loss': 'loss',\n",
    "            'round_seconds': 'time',\n",
    "            'clients_finished_seconds': 'time_clients_fit'\n",
    "        }, inplace = True)\n",
    "        new_dtypes = {\n",
    "            \"session_id\": str, \n",
    "            \"round\": int, \n",
    "            \"accuracy\": float,\n",
    "            \"loss\": float,\n",
    "            \"time\": float,\n",
    "            \"time_clients_fit\": float,\n",
    "            \"num_clients_round\": int,\n",
    "            #\"time_since_start\": float, \n",
    "            #\"time_agg_eval\": float\n",
    "        }\n",
    "        if not df.empty:\n",
    "            df = df.astype(new_dtypes)\n",
    "        fedless_dfs.append(df)\n",
    "        \n",
    "        \n",
    "    for timing_file in folder.glob(\"clients*.csv\"):\n",
    "        seed = timing_file.name.split(\"_\")[1].split(\".\")[0]\n",
    "        df = pd.read_csv(timing_file)\n",
    "        index = pd.MultiIndex.from_tuples(\n",
    "        [(\n",
    "            dataset,\n",
    "            seed\n",
    "        )] * len(df),\n",
    "        names=[\n",
    "            \"dataset\",\n",
    "            \"seed\"\n",
    "        ]\n",
    "        )\n",
    "        df = pd.DataFrame(df.values, index=index, columns=df.columns)\n",
    "        #df.rename(columns = {\n",
    "        #    'round_id':'round', \n",
    "        #    'global_test_accuracy': 'accuracy',\n",
    "        #    'global_test_loss': 'loss',\n",
    "        #    'round_seconds': 'time',\n",
    "        #    'clients_finished_seconds': 'time_clients_fit'\n",
    "        #}, inplace = True)\n",
    "        new_dtypes = {\n",
    "            \"seconds\": float,\n",
    "            \"round\": int\n",
    "        }\n",
    "        if not df.empty:\n",
    "            df = df.astype(new_dtypes)\n",
    "        fedless_client_dfs.append(df)\n",
    "    \n",
    "fedless_df = pd.concat(fedless_dfs)\n",
    "fedless_client_df = pd.concat(fedless_client_dfs)"
   ]
  },
  {
   "cell_type": "markdown",
   "metadata": {},
   "source": [
    "## MNIST"
   ]
  },
  {
   "cell_type": "markdown",
   "metadata": {},
   "source": [
    "#### Accuracy over Rounds"
   ]
  },
  {
   "cell_type": "code",
   "execution_count": 16,
   "metadata": {},
   "outputs": [
    {
     "name": "stderr",
     "output_type": "stream",
     "text": [
      "<ipython-input-16-7301d73befbc>:4: PerformanceWarning: indexing past lexsort depth may impact performance.\n",
      "  df_ = fedless_df.loc[(\"mnist\", clients_in_round)]\n",
      "<ipython-input-16-7301d73befbc>:4: PerformanceWarning: indexing past lexsort depth may impact performance.\n",
      "  df_ = fedless_df.loc[(\"mnist\", clients_in_round)]\n",
      "<ipython-input-16-7301d73befbc>:4: PerformanceWarning: indexing past lexsort depth may impact performance.\n",
      "  df_ = fedless_df.loc[(\"mnist\", clients_in_round)]\n",
      "<ipython-input-16-7301d73befbc>:4: PerformanceWarning: indexing past lexsort depth may impact performance.\n",
      "  df_ = fedless_df.loc[(\"mnist\", clients_in_round)]\n",
      "<ipython-input-16-7301d73befbc>:4: PerformanceWarning: indexing past lexsort depth may impact performance.\n",
      "  df_ = fedless_df.loc[(\"mnist\", clients_in_round)]\n"
     ]
    },
    {
     "data": {
      "text/plain": [
       "<AxesSubplot:xlabel='n_clients', ylabel='rounds'>"
      ]
     },
     "execution_count": 16,
     "metadata": {},
     "output_type": "execute_result"
    },
    {
     "data": {
      "image/png": "[encoded data removed]",
      "text/plain": [
       "<Figure size 432x288 with 1 Axes>"
      ]
     },
     "metadata": {
      "needs_background": "light"
     },
     "output_type": "display_data"
    }
   ],
   "source": [
    "vals = []\n",
    "target = 0.90\n",
    "for clients_in_round in [5, 10, 25, 50, 75]:\n",
    "    df_ = fedless_df.loc[(\"mnist\", clients_in_round)]\n",
    "    for target in [0.9, 0.95, 0.98, 0.99]:\n",
    "        mean_round_until_target_fedless= df_[df_[\"accuracy\"] >= target].groupby(\"seed\").min(\"round\")[\"round\"].mean() \n",
    "        vals.append((target, mean_round_until_target_fedless, clients_in_round))\n",
    "df_ = pd.DataFrame(vals, columns=[\"target\", \"rounds\", \"n_clients\"])\n",
    "sns.barplot(x=\"n_clients\", y=\"rounds\", data=df_, hue=\"target\", palette=SNS_DEFAULT_PALETTE)"
   ]
  },
  {
   "cell_type": "code",
   "execution_count": 17,
   "metadata": {},
   "outputs": [
    {
     "name": "stderr",
     "output_type": "stream",
     "text": [
      "<ipython-input-17-ce6782200e1f>:7: PerformanceWarning: indexing past lexsort depth may impact performance.\n",
      "  df_ = fedless_df.loc[(\"mnist\", 75)]\n",
      "<ipython-input-17-ce6782200e1f>:7: PerformanceWarning: indexing past lexsort depth may impact performance.\n",
      "  df_ = fedless_df.loc[(\"mnist\", 75)]\n",
      "<ipython-input-17-ce6782200e1f>:7: PerformanceWarning: indexing past lexsort depth may impact performance.\n",
      "  df_ = fedless_df.loc[(\"mnist\", 75)]\n",
      "<ipython-input-17-ce6782200e1f>:7: PerformanceWarning: indexing past lexsort depth may impact performance.\n",
      "  df_ = fedless_df.loc[(\"mnist\", 75)]\n"
     ]
    },
    {
     "data": {
      "text/html": [
       "<div>\n",
       "<style scoped>\n",
       "    .dataframe tbody tr th:only-of-type {\n",
       "        vertical-align: middle;\n",
       "    }\n",
       "\n",
       "    .dataframe tbody tr th {\n",
       "        vertical-align: top;\n",
       "    }\n",
       "\n",
       "    .dataframe thead th {\n",
       "        text-align: right;\n",
       "    }\n",
       "</style>\n",
       "<table border=\"1\" class=\"dataframe\">\n",
       "  <thead>\n",
       "    <tr style=\"text-align: right;\">\n",
       "      <th>method</th>\n",
       "      <th>fedless</th>\n",
       "      <th>flower</th>\n",
       "    </tr>\n",
       "    <tr>\n",
       "      <th>target</th>\n",
       "      <th></th>\n",
       "      <th></th>\n",
       "    </tr>\n",
       "  </thead>\n",
       "  <tbody>\n",
       "    <tr>\n",
       "      <th>0.90</th>\n",
       "      <td>2.666667</td>\n",
       "      <td>4.000000</td>\n",
       "    </tr>\n",
       "    <tr>\n",
       "      <th>0.95</th>\n",
       "      <td>4.000000</td>\n",
       "      <td>5.333333</td>\n",
       "    </tr>\n",
       "    <tr>\n",
       "      <th>0.98</th>\n",
       "      <td>10.000000</td>\n",
       "      <td>12.333333</td>\n",
       "    </tr>\n",
       "    <tr>\n",
       "      <th>0.99</th>\n",
       "      <td>32.333333</td>\n",
       "      <td>35.000000</td>\n",
       "    </tr>\n",
       "  </tbody>\n",
       "</table>\n",
       "</div>"
      ],
      "text/plain": [
       "method    fedless     flower\n",
       "target                      \n",
       "0.90     2.666667   4.000000\n",
       "0.95     4.000000   5.333333\n",
       "0.98    10.000000  12.333333\n",
       "0.99    32.333333  35.000000"
      ]
     },
     "execution_count": 17,
     "metadata": {},
     "output_type": "execute_result"
    },
    {
     "data": {
      "image/png": "[encoded data removed]",
      "text/plain": [
       "<Figure size 432x288 with 1 Axes>"
      ]
     },
     "metadata": {
      "needs_background": "light"
     },
     "output_type": "display_data"
    }
   ],
   "source": [
    "vals = []\n",
    "\n",
    "for target in [0.9, 0.95, 0.98, 0.99]:\n",
    "    df_ = flower_df.loc[(\"mnist\", 75, 100, 5)]\n",
    "    mean_round_until_target_flower = df_[df_[\"accuracy\"] >= target].groupby(\"seed\").min(\"round\")[\"round\"].mean()\n",
    "    vals.append((target, mean_round_until_target_flower, \"flower\"))\n",
    "    df_ = fedless_df.loc[(\"mnist\", 75)]\n",
    "    mean_round_until_target_fedless= df_[df_[\"accuracy\"] >= target].groupby(\"seed\").min(\"round\")[\"round\"].mean() \n",
    "    vals.append((target, mean_round_until_target_fedless, \"fedless\"))\n",
    "    \n",
    "\n",
    "df_ = pd.DataFrame(vals, columns=[\"target\", \"rounds\", \"method\"])\n",
    "sns.barplot(x=\"target\", y=\"rounds\", hue=\"method\", data=df_)\n",
    "df_.pivot(columns=\"method\", values=\"rounds\", index=\"target\")"
   ]
  },
  {
   "cell_type": "markdown",
   "metadata": {},
   "source": [
    "#### Round Durations"
   ]
  },
  {
   "cell_type": "code",
   "execution_count": 18,
   "metadata": {},
   "outputs": [
    {
     "name": "stderr",
     "output_type": "stream",
     "text": [
      "<ipython-input-18-f609bca64f8e>:17: PerformanceWarning: indexing past lexsort depth may impact performance.\n",
      "  fls_df_ = fedless_df.loc[(\"mnist\", 75)]\n"
     ]
    },
    {
     "name": "stdout",
     "output_type": "stream",
     "text": [
      "Warm duration differnce mean\n",
      "          duration\n",
      "method            \n",
      "fedless  19.520810\n",
      "flower   12.084382\n"
     ]
    },
    {
     "data": {
      "text/plain": [
       "Text(0.5, 1.0, 'Fedless Client Durations')"
      ]
     },
     "execution_count": 18,
     "metadata": {},
     "output_type": "execute_result"
    },
    {
     "data": {
      "image/png": "[encoded data removed]",
      "text/plain": [
       "<Figure size 1152x288 with 4 Axes>"
      ]
     },
     "metadata": {
      "needs_background": "light"
     },
     "output_type": "display_data"
    }
   ],
   "source": [
    "vals = []\n",
    "detail_vals = []\n",
    "\n",
    "flwr_df_ = flower_df.loc[(\"mnist\", 75, 100, 5)]\n",
    "flwr_cold_df_ = flwr_df_[flwr_df_[\"round\"] == 1]\n",
    "flwr_warm_df_ = flwr_df_[flwr_df_[\"round\"] > 1]\n",
    "for t in flwr_cold_df_[\"time\"]:\n",
    "    vals.append((\"flower\", \"cold\", \"round\", t))\n",
    "for t in flwr_warm_df_[\"time\"]:\n",
    "    vals.append((\"flower\", \"warm\", \"round\", t))\n",
    "for t in flwr_warm_df_[\"time_agg_eval\"]:\n",
    "    vals.append((\"flower\", \"warm\", \"agg_eval\", t))\n",
    "#for t in flwr_warm_df_[\"time_clients_fit\"]:\n",
    "#    vals.append((\"flower\", \"warm\", \"time_clients_fit\", t))\n",
    "\n",
    "\n",
    "fls_df_ = fedless_df.loc[(\"mnist\", 75)]\n",
    "fls_cold_df_ = fls_df_[fls_df_[\"round\"] == 1]\n",
    "fls_warm_df_ = fls_df_[fls_df_[\"round\"] > 1]\n",
    "for t in fls_cold_df_[\"time\"]:\n",
    "    vals.append((\"fedless\", \"cold\", \"round\", t))\n",
    "for t in fls_warm_df_[\"time\"]:\n",
    "    vals.append((\"fedless\", \"warm\", \"round\", t))\n",
    "for t in fls_warm_df_[\"aggregator_seconds\"]:\n",
    "    vals.append((\"fedless\", \"warm\", \"agg_eval\", t))\n",
    "#for t in fls_warm_df_[\"time_clients_fit\"]:\n",
    "#    vals.append((\"fedless\", \"warm\", \"time_clients_fit\", t))\n",
    "    \n",
    "\n",
    "\n",
    "df_ = pd.DataFrame(vals, columns=[\"method\", \"state\", \"task\", \"duration\"])\n",
    "    \n",
    "fig, axarr = plt.subplots(ncols=4, figsize=(16, 4))\n",
    "\n",
    "# Warm Durations\n",
    "df_warm_ = df_[(df_[\"state\"] == \"warm\") & (df_[\"task\"] == \"round\")]\n",
    "sns.barplot(x=\"method\", y=\"duration\", data=df_warm_, ax=axarr[0])\n",
    "axarr[0].set_title(\"Flower vs Fedless Round Durations\")\n",
    "\n",
    "# Cold vs Warm Fedless\n",
    "#df_fedless_ = df_[(df_[\"method\"] == \"fedless\") & (df_[\"task\"] == \"round\")]\n",
    "#sns.boxplot(x=\"state\", y=\"duration\", data=df_fedless_, ax=axarr[1])\n",
    "#axarr[1].set_title(\"Fedless Round Durations\")\n",
    "df_rounds_ = df_[(df_[\"task\"] == \"round\")]\n",
    "sns.boxplot(x=\"method\", y=\"duration\", data=df_rounds_, ax=axarr[1], hue=\"state\")\n",
    "axarr[1].set_title(\"Hot vs Warm Invocation\")\n",
    "\n",
    "# Timing Breakdown\n",
    "sns.barplot(x=\"method\", y=\"duration\", data=df_, ax=axarr[2], hue=\"task\")\n",
    "axarr[2].set_title(\"Round vs Aggregation Time\")\n",
    "\n",
    "#df_warm_.groupby([\"method\", \"state\"]).mean(\"duration\")\n",
    "print(f\"Warm duration differnce mean\")\n",
    "print(df_warm_.groupby(\"method\").mean())\n",
    "\n",
    "sns.violinplot(y=\"seconds\", data=fedless_client_df.loc[\"mnist\"], ax=axarr[3])\n",
    "axarr[3].set_title(\"Fedless Client Durations\")"
   ]
  },
  {
   "cell_type": "markdown",
   "metadata": {},
   "source": [
    "## FEMNIST"
   ]
  },
  {
   "cell_type": "markdown",
   "metadata": {},
   "source": [
    "#### Accuracy over Rounds"
   ]
  },
  {
   "cell_type": "code",
   "execution_count": 27,
   "metadata": {},
   "outputs": [
    {
     "data": {
      "text/html": [
       "<div>\n",
       "<style scoped>\n",
       "    .dataframe tbody tr th:only-of-type {\n",
       "        vertical-align: middle;\n",
       "    }\n",
       "\n",
       "    .dataframe tbody tr th {\n",
       "        vertical-align: top;\n",
       "    }\n",
       "\n",
       "    .dataframe thead th {\n",
       "        text-align: right;\n",
       "    }\n",
       "</style>\n",
       "<table border=\"1\" class=\"dataframe\">\n",
       "  <thead>\n",
       "    <tr style=\"text-align: right;\">\n",
       "      <th>method</th>\n",
       "      <th>flower</th>\n",
       "    </tr>\n",
       "    <tr>\n",
       "      <th>target</th>\n",
       "      <th></th>\n",
       "    </tr>\n",
       "  </thead>\n",
       "  <tbody>\n",
       "    <tr>\n",
       "      <th>0.70</th>\n",
       "      <td>8.500000</td>\n",
       "    </tr>\n",
       "    <tr>\n",
       "      <th>0.80</th>\n",
       "      <td>22.750000</td>\n",
       "    </tr>\n",
       "    <tr>\n",
       "      <th>0.81</th>\n",
       "      <td>38.750000</td>\n",
       "    </tr>\n",
       "    <tr>\n",
       "      <th>0.82</th>\n",
       "      <td>44.000000</td>\n",
       "    </tr>\n",
       "    <tr>\n",
       "      <th>0.83</th>\n",
       "      <td>52.000000</td>\n",
       "    </tr>\n",
       "    <tr>\n",
       "      <th>0.84</th>\n",
       "      <td>67.000000</td>\n",
       "    </tr>\n",
       "    <tr>\n",
       "      <th>0.85</th>\n",
       "      <td>72.666667</td>\n",
       "    </tr>\n",
       "    <tr>\n",
       "      <th>0.86</th>\n",
       "      <td>NaN</td>\n",
       "    </tr>\n",
       "  </tbody>\n",
       "</table>\n",
       "</div>"
      ],
      "text/plain": [
       "method     flower\n",
       "target           \n",
       "0.70     8.500000\n",
       "0.80    22.750000\n",
       "0.81    38.750000\n",
       "0.82    44.000000\n",
       "0.83    52.000000\n",
       "0.84    67.000000\n",
       "0.85    72.666667\n",
       "0.86          NaN"
      ]
     },
     "execution_count": 27,
     "metadata": {},
     "output_type": "execute_result"
    },
    {
     "data": {
      "image/png": "[encoded data removed]",
      "text/plain": [
       "<Figure size 432x288 with 1 Axes>"
      ]
     },
     "metadata": {
      "needs_background": "light"
     },
     "output_type": "display_data"
    }
   ],
   "source": [
    "vals = []\n",
    "\n",
    "for target in [0.7, 0.8, 0.81, 0.82, 0.83, 0.84, 0.85, 0.86]:\n",
    "    df_ = flower_df.loc[(\"femnist\", 75, 100, 5)]\n",
    "    mean_round_until_target_flower = df_[df_[\"accuracy\"] >= target].groupby(\"seed\").min(\"round\")[\"round\"].mean()\n",
    "    vals.append((target, mean_round_until_target_flower, \"flower\"))\n",
    "    #df_ = fedless_df.loc[\"femnist\"]\n",
    "    #mean_round_until_target_fedless= df_[df_[\"accuracy\"] >= target].groupby(\"seed\").min(\"round\")[\"round\"].mean() \n",
    "    #vals.append((target, mean_round_until_target_fedless, \"fedless\"))\n",
    "    \n",
    "\n",
    "df_ = pd.DataFrame(vals, columns=[\"target\", \"rounds\", \"method\"])\n",
    "sns.barplot(x=\"target\", y=\"rounds\", hue=\"method\", data=df_)\n",
    "df_.pivot(columns=\"method\", values=\"rounds\", index=\"target\")"
   ]
  },
  {
   "cell_type": "markdown",
   "metadata": {},
   "source": [
    "#### Round Durations"
   ]
  },
  {
   "cell_type": "code",
   "execution_count": 21,
   "metadata": {},
   "outputs": [],
   "source": [
    "vals = []\n",
    "detail_vals = []\n",
    "\n",
    "flwr_df_ = flower_df.loc[(\"femnist\", 75, 100, 5)]\n",
    "flwr_cold_df_ = flwr_df_[flwr_df_[\"round\"] == 1]\n",
    "flwr_warm_df_ = flwr_df_[flwr_df_[\"round\"] > 1]\n",
    "for t in flwr_cold_df_[\"time\"]:\n",
    "    vals.append((\"flower\", \"cold\", \"round\", t))\n",
    "for t in flwr_warm_df_[\"time\"]:\n",
    "    vals.append((\"flower\", \"warm\", \"round\", t))\n",
    "for t in flwr_warm_df_[\"time_agg_eval\"]:\n",
    "    vals.append((\"flower\", \"warm\", \"agg_eval\", t))\n",
    "for t in flwr_warm_df_[\"time_clients_fit\"]:\n",
    "    vals.append((\"flower\", \"warm\", \"time_clients_fit\", t))\n",
    "df_ = pd.DataFrame(vals, columns=[\"method\", \"state\", \"task\", \"duration\"])\n"
   ]
  },
  {
   "cell_type": "code",
   "execution_count": 19,
   "metadata": {},
   "outputs": [
    {
     "ename": "KeyError",
     "evalue": "'femnist'",
     "output_type": "error",
     "traceback": [
      "\u001b[0;31m---------------------------------------------------------------------------\u001b[0m",
      "\u001b[0;31mKeyError\u001b[0m                                  Traceback (most recent call last)",
      "\u001b[0;32m~/workspace/thesis-code/.venv/lib/python3.8/site-packages/pandas/core/indexes/base.py\u001b[0m in \u001b[0;36mget_loc\u001b[0;34m(self, key, method, tolerance)\u001b[0m\n\u001b[1;32m   3079\u001b[0m             \u001b[0;32mtry\u001b[0m\u001b[0;34m:\u001b[0m\u001b[0;34m\u001b[0m\u001b[0;34m\u001b[0m\u001b[0m\n\u001b[0;32m-> 3080\u001b[0;31m                 \u001b[0;32mreturn\u001b[0m \u001b[0mself\u001b[0m\u001b[0;34m.\u001b[0m\u001b[0m_engine\u001b[0m\u001b[0;34m.\u001b[0m\u001b[0mget_loc\u001b[0m\u001b[0;34m(\u001b[0m\u001b[0mcasted_key\u001b[0m\u001b[0;34m)\u001b[0m\u001b[0;34m\u001b[0m\u001b[0;34m\u001b[0m\u001b[0m\n\u001b[0m\u001b[1;32m   3081\u001b[0m             \u001b[0;32mexcept\u001b[0m \u001b[0mKeyError\u001b[0m \u001b[0;32mas\u001b[0m \u001b[0merr\u001b[0m\u001b[0;34m:\u001b[0m\u001b[0;34m\u001b[0m\u001b[0;34m\u001b[0m\u001b[0m\n",
      "\u001b[0;32mpandas/_libs/index.pyx\u001b[0m in \u001b[0;36mpandas._libs.index.IndexEngine.get_loc\u001b[0;34m()\u001b[0m\n",
      "\u001b[0;32mpandas/_libs/index.pyx\u001b[0m in \u001b[0;36mpandas._libs.index.IndexEngine.get_loc\u001b[0;34m()\u001b[0m\n",
      "\u001b[0;32mpandas/_libs/hashtable_class_helper.pxi\u001b[0m in \u001b[0;36mpandas._libs.hashtable.PyObjectHashTable.get_item\u001b[0;34m()\u001b[0m\n",
      "\u001b[0;32mpandas/_libs/hashtable_class_helper.pxi\u001b[0m in \u001b[0;36mpandas._libs.hashtable.PyObjectHashTable.get_item\u001b[0;34m()\u001b[0m\n",
      "\u001b[0;31mKeyError\u001b[0m: 'femnist'",
      "\nThe above exception was the direct cause of the following exception:\n",
      "\u001b[0;31mKeyError\u001b[0m                                  Traceback (most recent call last)",
      "\u001b[0;32m<ipython-input-19-bc70825383ad>\u001b[0m in \u001b[0;36m<module>\u001b[0;34m\u001b[0m\n\u001b[1;32m     15\u001b[0m \u001b[0;34m\u001b[0m\u001b[0m\n\u001b[1;32m     16\u001b[0m \u001b[0;34m\u001b[0m\u001b[0m\n\u001b[0;32m---> 17\u001b[0;31m \u001b[0mfls_df_\u001b[0m \u001b[0;34m=\u001b[0m \u001b[0mfedless_df\u001b[0m\u001b[0;34m.\u001b[0m\u001b[0mloc\u001b[0m\u001b[0;34m[\u001b[0m\u001b[0;34m\"femnist\"\u001b[0m\u001b[0;34m]\u001b[0m\u001b[0;34m\u001b[0m\u001b[0;34m\u001b[0m\u001b[0m\n\u001b[0m\u001b[1;32m     18\u001b[0m \u001b[0mfls_cold_df_\u001b[0m \u001b[0;34m=\u001b[0m \u001b[0mfls_df_\u001b[0m\u001b[0;34m[\u001b[0m\u001b[0mfls_df_\u001b[0m\u001b[0;34m[\u001b[0m\u001b[0;34m\"round\"\u001b[0m\u001b[0;34m]\u001b[0m \u001b[0;34m==\u001b[0m \u001b[0;36m1\u001b[0m\u001b[0;34m]\u001b[0m\u001b[0;34m\u001b[0m\u001b[0;34m\u001b[0m\u001b[0m\n\u001b[1;32m     19\u001b[0m \u001b[0mfls_warm_df_\u001b[0m \u001b[0;34m=\u001b[0m \u001b[0mfls_df_\u001b[0m\u001b[0;34m[\u001b[0m\u001b[0mfls_df_\u001b[0m\u001b[0;34m[\u001b[0m\u001b[0;34m\"round\"\u001b[0m\u001b[0;34m]\u001b[0m \u001b[0;34m>\u001b[0m \u001b[0;36m1\u001b[0m\u001b[0;34m]\u001b[0m\u001b[0;34m\u001b[0m\u001b[0;34m\u001b[0m\u001b[0m\n",
      "\u001b[0;32m~/workspace/thesis-code/.venv/lib/python3.8/site-packages/pandas/core/indexing.py\u001b[0m in \u001b[0;36m__getitem__\u001b[0;34m(self, key)\u001b[0m\n\u001b[1;32m    893\u001b[0m \u001b[0;34m\u001b[0m\u001b[0m\n\u001b[1;32m    894\u001b[0m             \u001b[0mmaybe_callable\u001b[0m \u001b[0;34m=\u001b[0m \u001b[0mcom\u001b[0m\u001b[0;34m.\u001b[0m\u001b[0mapply_if_callable\u001b[0m\u001b[0;34m(\u001b[0m\u001b[0mkey\u001b[0m\u001b[0;34m,\u001b[0m \u001b[0mself\u001b[0m\u001b[0;34m.\u001b[0m\u001b[0mobj\u001b[0m\u001b[0;34m)\u001b[0m\u001b[0;34m\u001b[0m\u001b[0;34m\u001b[0m\u001b[0m\n\u001b[0;32m--> 895\u001b[0;31m             \u001b[0;32mreturn\u001b[0m \u001b[0mself\u001b[0m\u001b[0;34m.\u001b[0m\u001b[0m_getitem_axis\u001b[0m\u001b[0;34m(\u001b[0m\u001b[0mmaybe_callable\u001b[0m\u001b[0;34m,\u001b[0m \u001b[0maxis\u001b[0m\u001b[0;34m=\u001b[0m\u001b[0maxis\u001b[0m\u001b[0;34m)\u001b[0m\u001b[0;34m\u001b[0m\u001b[0;34m\u001b[0m\u001b[0m\n\u001b[0m\u001b[1;32m    896\u001b[0m \u001b[0;34m\u001b[0m\u001b[0m\n\u001b[1;32m    897\u001b[0m     \u001b[0;32mdef\u001b[0m \u001b[0m_is_scalar_access\u001b[0m\u001b[0;34m(\u001b[0m\u001b[0mself\u001b[0m\u001b[0;34m,\u001b[0m \u001b[0mkey\u001b[0m\u001b[0;34m:\u001b[0m \u001b[0mTuple\u001b[0m\u001b[0;34m)\u001b[0m\u001b[0;34m:\u001b[0m\u001b[0;34m\u001b[0m\u001b[0;34m\u001b[0m\u001b[0m\n",
      "\u001b[0;32m~/workspace/thesis-code/.venv/lib/python3.8/site-packages/pandas/core/indexing.py\u001b[0m in \u001b[0;36m_getitem_axis\u001b[0;34m(self, key, axis)\u001b[0m\n\u001b[1;32m   1122\u001b[0m         \u001b[0;31m# fall thru to straight lookup\u001b[0m\u001b[0;34m\u001b[0m\u001b[0;34m\u001b[0m\u001b[0;34m\u001b[0m\u001b[0m\n\u001b[1;32m   1123\u001b[0m         \u001b[0mself\u001b[0m\u001b[0;34m.\u001b[0m\u001b[0m_validate_key\u001b[0m\u001b[0;34m(\u001b[0m\u001b[0mkey\u001b[0m\u001b[0;34m,\u001b[0m \u001b[0maxis\u001b[0m\u001b[0;34m)\u001b[0m\u001b[0;34m\u001b[0m\u001b[0;34m\u001b[0m\u001b[0m\n\u001b[0;32m-> 1124\u001b[0;31m         \u001b[0;32mreturn\u001b[0m \u001b[0mself\u001b[0m\u001b[0;34m.\u001b[0m\u001b[0m_get_label\u001b[0m\u001b[0;34m(\u001b[0m\u001b[0mkey\u001b[0m\u001b[0;34m,\u001b[0m \u001b[0maxis\u001b[0m\u001b[0;34m=\u001b[0m\u001b[0maxis\u001b[0m\u001b[0;34m)\u001b[0m\u001b[0;34m\u001b[0m\u001b[0;34m\u001b[0m\u001b[0m\n\u001b[0m\u001b[1;32m   1125\u001b[0m \u001b[0;34m\u001b[0m\u001b[0m\n\u001b[1;32m   1126\u001b[0m     \u001b[0;32mdef\u001b[0m \u001b[0m_get_slice_axis\u001b[0m\u001b[0;34m(\u001b[0m\u001b[0mself\u001b[0m\u001b[0;34m,\u001b[0m \u001b[0mslice_obj\u001b[0m\u001b[0;34m:\u001b[0m \u001b[0mslice\u001b[0m\u001b[0;34m,\u001b[0m \u001b[0maxis\u001b[0m\u001b[0;34m:\u001b[0m \u001b[0mint\u001b[0m\u001b[0;34m)\u001b[0m\u001b[0;34m:\u001b[0m\u001b[0;34m\u001b[0m\u001b[0;34m\u001b[0m\u001b[0m\n",
      "\u001b[0;32m~/workspace/thesis-code/.venv/lib/python3.8/site-packages/pandas/core/indexing.py\u001b[0m in \u001b[0;36m_get_label\u001b[0;34m(self, label, axis)\u001b[0m\n\u001b[1;32m   1071\u001b[0m     \u001b[0;32mdef\u001b[0m \u001b[0m_get_label\u001b[0m\u001b[0;34m(\u001b[0m\u001b[0mself\u001b[0m\u001b[0;34m,\u001b[0m \u001b[0mlabel\u001b[0m\u001b[0;34m,\u001b[0m \u001b[0maxis\u001b[0m\u001b[0;34m:\u001b[0m \u001b[0mint\u001b[0m\u001b[0;34m)\u001b[0m\u001b[0;34m:\u001b[0m\u001b[0;34m\u001b[0m\u001b[0;34m\u001b[0m\u001b[0m\n\u001b[1;32m   1072\u001b[0m         \u001b[0;31m# GH#5667 this will fail if the label is not present in the axis.\u001b[0m\u001b[0;34m\u001b[0m\u001b[0;34m\u001b[0m\u001b[0;34m\u001b[0m\u001b[0m\n\u001b[0;32m-> 1073\u001b[0;31m         \u001b[0;32mreturn\u001b[0m \u001b[0mself\u001b[0m\u001b[0;34m.\u001b[0m\u001b[0mobj\u001b[0m\u001b[0;34m.\u001b[0m\u001b[0mxs\u001b[0m\u001b[0;34m(\u001b[0m\u001b[0mlabel\u001b[0m\u001b[0;34m,\u001b[0m \u001b[0maxis\u001b[0m\u001b[0;34m=\u001b[0m\u001b[0maxis\u001b[0m\u001b[0;34m)\u001b[0m\u001b[0;34m\u001b[0m\u001b[0;34m\u001b[0m\u001b[0m\n\u001b[0m\u001b[1;32m   1074\u001b[0m \u001b[0;34m\u001b[0m\u001b[0m\n\u001b[1;32m   1075\u001b[0m     \u001b[0;32mdef\u001b[0m \u001b[0m_handle_lowerdim_multi_index_axis0\u001b[0m\u001b[0;34m(\u001b[0m\u001b[0mself\u001b[0m\u001b[0;34m,\u001b[0m \u001b[0mtup\u001b[0m\u001b[0;34m:\u001b[0m \u001b[0mTuple\u001b[0m\u001b[0;34m)\u001b[0m\u001b[0;34m:\u001b[0m\u001b[0;34m\u001b[0m\u001b[0;34m\u001b[0m\u001b[0m\n",
      "\u001b[0;32m~/workspace/thesis-code/.venv/lib/python3.8/site-packages/pandas/core/generic.py\u001b[0m in \u001b[0;36mxs\u001b[0;34m(self, key, axis, level, drop_level)\u001b[0m\n\u001b[1;32m   3731\u001b[0m         \u001b[0;32mif\u001b[0m \u001b[0misinstance\u001b[0m\u001b[0;34m(\u001b[0m\u001b[0mindex\u001b[0m\u001b[0;34m,\u001b[0m \u001b[0mMultiIndex\u001b[0m\u001b[0;34m)\u001b[0m\u001b[0;34m:\u001b[0m\u001b[0;34m\u001b[0m\u001b[0;34m\u001b[0m\u001b[0m\n\u001b[1;32m   3732\u001b[0m             \u001b[0;32mtry\u001b[0m\u001b[0;34m:\u001b[0m\u001b[0;34m\u001b[0m\u001b[0;34m\u001b[0m\u001b[0m\n\u001b[0;32m-> 3733\u001b[0;31m                 loc, new_index = index._get_loc_level(\n\u001b[0m\u001b[1;32m   3734\u001b[0m                     \u001b[0mkey\u001b[0m\u001b[0;34m,\u001b[0m \u001b[0mlevel\u001b[0m\u001b[0;34m=\u001b[0m\u001b[0;36m0\u001b[0m\u001b[0;34m,\u001b[0m \u001b[0mdrop_level\u001b[0m\u001b[0;34m=\u001b[0m\u001b[0mdrop_level\u001b[0m\u001b[0;34m\u001b[0m\u001b[0;34m\u001b[0m\u001b[0m\n\u001b[1;32m   3735\u001b[0m                 )\n",
      "\u001b[0;32m~/workspace/thesis-code/.venv/lib/python3.8/site-packages/pandas/core/indexes/multi.py\u001b[0m in \u001b[0;36m_get_loc_level\u001b[0;34m(self, key, level, drop_level)\u001b[0m\n\u001b[1;32m   3066\u001b[0m                 \u001b[0;32mreturn\u001b[0m \u001b[0mindexer\u001b[0m\u001b[0;34m,\u001b[0m \u001b[0mmaybe_mi_droplevels\u001b[0m\u001b[0;34m(\u001b[0m\u001b[0mindexer\u001b[0m\u001b[0;34m,\u001b[0m \u001b[0milevels\u001b[0m\u001b[0;34m,\u001b[0m \u001b[0mdrop_level\u001b[0m\u001b[0;34m)\u001b[0m\u001b[0;34m\u001b[0m\u001b[0;34m\u001b[0m\u001b[0m\n\u001b[1;32m   3067\u001b[0m         \u001b[0;32melse\u001b[0m\u001b[0;34m:\u001b[0m\u001b[0;34m\u001b[0m\u001b[0;34m\u001b[0m\u001b[0m\n\u001b[0;32m-> 3068\u001b[0;31m             \u001b[0mindexer\u001b[0m \u001b[0;34m=\u001b[0m \u001b[0mself\u001b[0m\u001b[0;34m.\u001b[0m\u001b[0m_get_level_indexer\u001b[0m\u001b[0;34m(\u001b[0m\u001b[0mkey\u001b[0m\u001b[0;34m,\u001b[0m \u001b[0mlevel\u001b[0m\u001b[0;34m=\u001b[0m\u001b[0mlevel\u001b[0m\u001b[0;34m)\u001b[0m\u001b[0;34m\u001b[0m\u001b[0;34m\u001b[0m\u001b[0m\n\u001b[0m\u001b[1;32m   3069\u001b[0m             \u001b[0;32mreturn\u001b[0m \u001b[0mindexer\u001b[0m\u001b[0;34m,\u001b[0m \u001b[0mmaybe_mi_droplevels\u001b[0m\u001b[0;34m(\u001b[0m\u001b[0mindexer\u001b[0m\u001b[0;34m,\u001b[0m \u001b[0;34m[\u001b[0m\u001b[0mlevel\u001b[0m\u001b[0;34m]\u001b[0m\u001b[0;34m,\u001b[0m \u001b[0mdrop_level\u001b[0m\u001b[0;34m)\u001b[0m\u001b[0;34m\u001b[0m\u001b[0;34m\u001b[0m\u001b[0m\n\u001b[1;32m   3070\u001b[0m \u001b[0;34m\u001b[0m\u001b[0m\n",
      "\u001b[0;32m~/workspace/thesis-code/.venv/lib/python3.8/site-packages/pandas/core/indexes/multi.py\u001b[0m in \u001b[0;36m_get_level_indexer\u001b[0;34m(self, key, level, indexer)\u001b[0m\n\u001b[1;32m   3156\u001b[0m         \u001b[0;32melse\u001b[0m\u001b[0;34m:\u001b[0m\u001b[0;34m\u001b[0m\u001b[0;34m\u001b[0m\u001b[0m\n\u001b[1;32m   3157\u001b[0m \u001b[0;34m\u001b[0m\u001b[0m\n\u001b[0;32m-> 3158\u001b[0;31m             \u001b[0midx\u001b[0m \u001b[0;34m=\u001b[0m \u001b[0mself\u001b[0m\u001b[0;34m.\u001b[0m\u001b[0m_get_loc_single_level_index\u001b[0m\u001b[0;34m(\u001b[0m\u001b[0mlevel_index\u001b[0m\u001b[0;34m,\u001b[0m \u001b[0mkey\u001b[0m\u001b[0;34m)\u001b[0m\u001b[0;34m\u001b[0m\u001b[0;34m\u001b[0m\u001b[0m\n\u001b[0m\u001b[1;32m   3159\u001b[0m \u001b[0;34m\u001b[0m\u001b[0m\n\u001b[1;32m   3160\u001b[0m             \u001b[0;32mif\u001b[0m \u001b[0mlevel\u001b[0m \u001b[0;34m>\u001b[0m \u001b[0;36m0\u001b[0m \u001b[0;32mor\u001b[0m \u001b[0mself\u001b[0m\u001b[0;34m.\u001b[0m\u001b[0mlexsort_depth\u001b[0m \u001b[0;34m==\u001b[0m \u001b[0;36m0\u001b[0m\u001b[0;34m:\u001b[0m\u001b[0;34m\u001b[0m\u001b[0;34m\u001b[0m\u001b[0m\n",
      "\u001b[0;32m~/workspace/thesis-code/.venv/lib/python3.8/site-packages/pandas/core/indexes/multi.py\u001b[0m in \u001b[0;36m_get_loc_single_level_index\u001b[0;34m(self, level_index, key)\u001b[0m\n\u001b[1;32m   2807\u001b[0m             \u001b[0;32mreturn\u001b[0m \u001b[0;34m-\u001b[0m\u001b[0;36m1\u001b[0m\u001b[0;34m\u001b[0m\u001b[0;34m\u001b[0m\u001b[0m\n\u001b[1;32m   2808\u001b[0m         \u001b[0;32melse\u001b[0m\u001b[0;34m:\u001b[0m\u001b[0;34m\u001b[0m\u001b[0;34m\u001b[0m\u001b[0m\n\u001b[0;32m-> 2809\u001b[0;31m             \u001b[0;32mreturn\u001b[0m \u001b[0mlevel_index\u001b[0m\u001b[0;34m.\u001b[0m\u001b[0mget_loc\u001b[0m\u001b[0;34m(\u001b[0m\u001b[0mkey\u001b[0m\u001b[0;34m)\u001b[0m\u001b[0;34m\u001b[0m\u001b[0;34m\u001b[0m\u001b[0m\n\u001b[0m\u001b[1;32m   2810\u001b[0m \u001b[0;34m\u001b[0m\u001b[0m\n\u001b[1;32m   2811\u001b[0m     \u001b[0;32mdef\u001b[0m \u001b[0mget_loc\u001b[0m\u001b[0;34m(\u001b[0m\u001b[0mself\u001b[0m\u001b[0;34m,\u001b[0m \u001b[0mkey\u001b[0m\u001b[0;34m,\u001b[0m \u001b[0mmethod\u001b[0m\u001b[0;34m=\u001b[0m\u001b[0;32mNone\u001b[0m\u001b[0;34m)\u001b[0m\u001b[0;34m:\u001b[0m\u001b[0;34m\u001b[0m\u001b[0;34m\u001b[0m\u001b[0m\n",
      "\u001b[0;32m~/workspace/thesis-code/.venv/lib/python3.8/site-packages/pandas/core/indexes/base.py\u001b[0m in \u001b[0;36mget_loc\u001b[0;34m(self, key, method, tolerance)\u001b[0m\n\u001b[1;32m   3080\u001b[0m                 \u001b[0;32mreturn\u001b[0m \u001b[0mself\u001b[0m\u001b[0;34m.\u001b[0m\u001b[0m_engine\u001b[0m\u001b[0;34m.\u001b[0m\u001b[0mget_loc\u001b[0m\u001b[0;34m(\u001b[0m\u001b[0mcasted_key\u001b[0m\u001b[0;34m)\u001b[0m\u001b[0;34m\u001b[0m\u001b[0;34m\u001b[0m\u001b[0m\n\u001b[1;32m   3081\u001b[0m             \u001b[0;32mexcept\u001b[0m \u001b[0mKeyError\u001b[0m \u001b[0;32mas\u001b[0m \u001b[0merr\u001b[0m\u001b[0;34m:\u001b[0m\u001b[0;34m\u001b[0m\u001b[0;34m\u001b[0m\u001b[0m\n\u001b[0;32m-> 3082\u001b[0;31m                 \u001b[0;32mraise\u001b[0m \u001b[0mKeyError\u001b[0m\u001b[0;34m(\u001b[0m\u001b[0mkey\u001b[0m\u001b[0;34m)\u001b[0m \u001b[0;32mfrom\u001b[0m \u001b[0merr\u001b[0m\u001b[0;34m\u001b[0m\u001b[0;34m\u001b[0m\u001b[0m\n\u001b[0m\u001b[1;32m   3083\u001b[0m \u001b[0;34m\u001b[0m\u001b[0m\n\u001b[1;32m   3084\u001b[0m         \u001b[0;32mif\u001b[0m \u001b[0mtolerance\u001b[0m \u001b[0;32mis\u001b[0m \u001b[0;32mnot\u001b[0m \u001b[0;32mNone\u001b[0m\u001b[0;34m:\u001b[0m\u001b[0;34m\u001b[0m\u001b[0;34m\u001b[0m\u001b[0m\n",
      "\u001b[0;31mKeyError\u001b[0m: 'femnist'"
     ]
    }
   ],
   "source": [
    "vals = []\n",
    "detail_vals = []\n",
    "\n",
    "flwr_df_ = flower_df.loc[(\"femnist\", 75, 100, 5)]\n",
    "flwr_cold_df_ = flwr_df_[flwr_df_[\"round\"] == 1]\n",
    "flwr_warm_df_ = flwr_df_[flwr_df_[\"round\"] > 1]\n",
    "for t in flwr_cold_df_[\"time\"]:\n",
    "    vals.append((\"flower\", \"cold\", \"round\", t))\n",
    "for t in flwr_warm_df_[\"time\"]:\n",
    "    vals.append((\"flower\", \"warm\", \"round\", t))\n",
    "for t in flwr_warm_df_[\"time_agg_eval\"]:\n",
    "    vals.append((\"flower\", \"warm\", \"agg_eval\", t))\n",
    "for t in flwr_warm_df_[\"time_clients_fit\"]:\n",
    "    vals.append((\"flower\", \"warm\", \"time_clients_fit\", t))\n",
    "\n",
    "\n",
    "fls_df_ = fedless_df.loc[\"femnist\"]\n",
    "fls_cold_df_ = fls_df_[fls_df_[\"round\"] == 1]\n",
    "fls_warm_df_ = fls_df_[fls_df_[\"round\"] > 1]\n",
    "for t in fls_cold_df_[\"time\"]:\n",
    "    vals.append((\"fedless\", \"cold\", \"round\", t))\n",
    "for t in fls_warm_df_[\"time\"]:\n",
    "    vals.append((\"fedless\", \"warm\", \"round\", t))\n",
    "for t in fls_warm_df_[\"aggregator_seconds\"]:\n",
    "    vals.append((\"fedless\", \"warm\", \"agg_eval\", t))\n",
    "for t in fls_warm_df_[\"time_clients_fit\"]:\n",
    "    vals.append((\"fedless\", \"warm\", \"time_clients_fit\", t))\n",
    "    \n",
    "\n",
    "df_ = pd.DataFrame(vals, columns=[\"method\", \"state\", \"task\", \"duration\"])\n",
    "    \n",
    "fig, axarr = plt.subplots(ncols=5, figsize=(25, 5))\n",
    "\n",
    "# Warm Durations\n",
    "df_warm_ = df_[(df_[\"state\"] == \"warm\") & (df_[\"task\"] == \"round\")]\n",
    "sns.barplot(x=\"method\", y=\"duration\", data=df_warm_, ax=axarr[0])\n",
    "#sns.violinplot(x=\"method\", y=\"duration\", data=df_warm_, ax=axarr[0])\n",
    "#sns.boxplot(x=\"method\", y=\"duration\", data=df_warm_, ax=axarr[0])\n",
    "axarr[0].set_ylim(0, 80)\n",
    "axarr[0].set_title(\"Flower vs Fedless Round Durations\")\n",
    "\n",
    "df_warm_ = df_[(df_[\"state\"] == \"warm\") & (df_[\"task\"] == \"time_clients_fit\")]\n",
    "sns.barplot(x=\"method\", y=\"duration\", data=df_warm_, ax=axarr[1])\n",
    "axarr[1].set_title(\"Flower vs Fedless Client Wait Time Durations\")\n",
    "\n",
    "# Cold vs Warm Fedless\n",
    "df_fedless_ = df_[(df_[\"method\"] == \"fedless\") & (df_[\"task\"] == \"round\")]\n",
    "sns.boxplot(x=\"state\", y=\"duration\", data=df_fedless_, ax=axarr[2])\n",
    "axarr[2].set_title(\"Fedless Round Durations\")\n",
    "\n",
    "# Timing Breakdown\n",
    "sns.barplot(x=\"method\", y=\"duration\", data=df_, ax=axarr[3], hue=\"task\")\n",
    "axarr[3].set_title(\"Round vs Aggregation Time\")\n",
    "\n",
    "\n",
    "sns.boxplot(x=\"eval\", y=\"seconds\", data=fedless_client_df.loc[\"femnist\"], ax=axarr[4])\n",
    "axarr[4].set_title(\"Fedless Client Durations\")\n",
    "\n",
    "#df_warm_.groupby([\"method\", \"state\"]).mean(\"duration\")\n",
    "print(f\"Warm duration differnce mean\")\n",
    "df_warm_ = df_[(df_[\"state\"] == \"warm\") & (df_[\"task\"] == \"round\")]\n",
    "table_df_ = df_warm_.groupby(\"method\").mean()\n",
    "table_df_[\"pct-change\"] = table_df_.pct_change()\n",
    "print(table_df_)"
   ]
  },
  {
   "cell_type": "code",
   "execution_count": null,
   "metadata": {},
   "outputs": [],
   "source": []
  },
  {
   "cell_type": "markdown",
   "metadata": {},
   "source": [
    "## SHAKESPEARE"
   ]
  },
  {
   "cell_type": "code",
   "execution_count": null,
   "metadata": {},
   "outputs": [],
   "source": [
    "vals = []\n",
    "\n",
    "for target in [0.3, 0.4, 0.45]:\n",
    "    df_ = flower_df.loc[(\"shakespeare\", 25, 100, 1)]\n",
    "    mean_round_until_target_flower = df_[df_[\"accuracy\"] >= target].groupby(\"seed\").min(\"round\")[\"round\"].mean()\n",
    "    vals.append((target, mean_round_until_target_flower, \"flower\"))\n",
    "    df_ = fedless_df.loc[\"shakespeare\"]\n",
    "    mean_round_until_target_fedless= df_[df_[\"accuracy\"] >= target].groupby(\"seed\").min(\"round\")[\"round\"].mean() \n",
    "    vals.append((target, mean_round_until_target_fedless, \"fedless\"))\n",
    "    \n",
    "\n",
    "df_ = pd.DataFrame(vals, columns=[\"target\", \"rounds\", \"method\"])\n",
    "sns.barplot(x=\"target\", y=\"rounds\", hue=\"method\", data=df_)\n",
    "df_.pivot(columns=\"method\", values=\"rounds\", index=\"target\")"
   ]
  },
  {
   "cell_type": "code",
   "execution_count": null,
   "metadata": {},
   "outputs": [],
   "source": [
    "vals = []\n",
    "detail_vals = []\n",
    "\n",
    "flwr_df_ = flower_df.loc[(\"shakespeare\", 25, 100, 1)]\n",
    "flwr_cold_df_ = flwr_df_[flwr_df_[\"round\"] == 1]\n",
    "flwr_warm_df_ = flwr_df_[flwr_df_[\"round\"] > 1]\n",
    "for t in flwr_cold_df_[\"time\"]:\n",
    "    vals.append((\"flower\", \"cold\", \"round\", t))\n",
    "for t in flwr_warm_df_[\"time\"]:\n",
    "    vals.append((\"flower\", \"warm\", \"round\", t))\n",
    "for t in flwr_warm_df_[\"time_agg_eval\"]:\n",
    "    vals.append((\"flower\", \"warm\", \"agg_eval\", t))\n",
    "for t in flwr_warm_df_[\"time_clients_fit\"]:\n",
    "    vals.append((\"flower\", \"warm\", \"time_clients_fit\", t))\n",
    "\n",
    "\n",
    "fls_df_ = fedless_df.loc[\"shakespeare\"]\n",
    "fls_cold_df_ = fls_df_[fls_df_[\"round\"] == 1]\n",
    "fls_warm_df_ = fls_df_[fls_df_[\"round\"] > 1]\n",
    "for t in fls_cold_df_[\"time\"]:\n",
    "    vals.append((\"fedless\", \"cold\", \"round\", t))\n",
    "for t in fls_warm_df_[\"time\"]:\n",
    "    vals.append((\"fedless\", \"warm\", \"round\", t))\n",
    "for t in fls_warm_df_[\"aggregator_seconds\"]:\n",
    "    vals.append((\"fedless\", \"warm\", \"agg_eval\", t))\n",
    "for t in fls_warm_df_[\"time_clients_fit\"]:\n",
    "    vals.append((\"fedless\", \"warm\", \"time_clients_fit\", t))\n",
    "    \n",
    "\n",
    "df_ = pd.DataFrame(vals, columns=[\"method\", \"state\", \"task\", \"duration\"])\n",
    "    \n",
    "fig, axarr = plt.subplots(ncols=5, figsize=(25, 5))\n",
    "\n",
    "# Warm Durations\n",
    "df_warm_ = df_[(df_[\"state\"] == \"warm\") & (df_[\"task\"] == \"round\")]\n",
    "sns.barplot(x=\"method\", y=\"duration\", data=df_warm_, ax=axarr[0])\n",
    "#sns.violinplot(x=\"method\", y=\"duration\", data=df_warm_, ax=axarr[0])\n",
    "#sns.boxplot(x=\"method\", y=\"duration\", data=df_warm_, ax=axarr[0])\n",
    "#axarr[0].set_ylim(0, 80)\n",
    "axarr[0].set_title(\"Flower vs Fedless Round Durations\")\n",
    "\n",
    "df_warm_ = df_[(df_[\"state\"] == \"warm\") & (df_[\"task\"] == \"time_clients_fit\")]\n",
    "sns.barplot(x=\"method\", y=\"duration\", data=df_warm_, ax=axarr[1])\n",
    "axarr[1].set_title(\"Flower vs Fedless Client Wait Time Durations\")\n",
    "\n",
    "# Cold vs Warm Fedless\n",
    "df_fedless_ = df_[(df_[\"method\"] == \"fedless\") & (df_[\"task\"] == \"round\")]\n",
    "sns.boxplot(x=\"state\", y=\"duration\", data=df_fedless_, ax=axarr[2])\n",
    "axarr[2].set_title(\"Fedless Round Durations\")\n",
    "\n",
    "# Timing Breakdown\n",
    "sns.barplot(x=\"method\", y=\"duration\", data=df_, ax=axarr[3], hue=\"task\")\n",
    "axarr[3].set_title(\"Round vs Aggregation Time\")\n",
    "\n",
    "\n",
    "sns.boxplot(x=\"eval\", y=\"seconds\", data=fedless_client_df.loc[\"shakespeare\"], ax=axarr[4])\n",
    "axarr[4].set_title(\"Fedless Client Durations\")\n",
    "\n",
    "fig.savefig(\"/Users/andreas/Desktop/shakespeare.pdf\")\n",
    "\n",
    "#sns.lineplot(x=\"round\", y=\"seconds\", data=fedless_client_df.loc[\"shakespeare\"], ax=axarr[4])\n",
    "\n",
    "#df_warm_.groupby([\"method\", \"state\"]).mean(\"duration\")\n",
    "print(f\"Warm duration differnce mean\")\n",
    "df_warm_ = df_[(df_[\"state\"] == \"warm\") & (df_[\"task\"] == \"round\")]\n",
    "table_df_ = df_warm_.groupby(\"method\").mean()\n",
    "table_df_[\"pct-change\"] = table_df_.pct_change()\n",
    "print(table_df_)"
   ]
  },
  {
   "cell_type": "code",
   "execution_count": null,
   "metadata": {},
   "outputs": [],
   "source": [
    "sns.barplot(x=\"client_id\", y=\"seconds\", data=fedless_client_df.loc[\"shakespeare\"])"
   ]
  },
  {
   "cell_type": "code",
   "execution_count": null,
   "metadata": {},
   "outputs": [],
   "source": [
    "flwr_df_ = flower_df.loc[(\"mnist\", 75, 100, 5)]\n",
    "flwr_cold_df_ = flwr_df_[flwr_df_[\"round\"] == 1]\n",
    "flwr_warm_df_ = flwr_df_[flwr_df_[\"round\"] > 1]\n",
    "flwr_cold_df_"
   ]
  },
  {
   "cell_type": "code",
   "execution_count": null,
   "metadata": {},
   "outputs": [],
   "source": []
  }
 ],
 "metadata": {
  "kernelspec": {
   "display_name": "Python 3",
   "language": "python",
   "name": "python3"
  },
  "language_info": {
   "codemirror_mode": {
    "name": "ipython",
    "version": 3
   },
   "file_extension": ".py",
   "mimetype": "text/x-python",
   "name": "python",
   "nbconvert_exporter": "python",
   "pygments_lexer": "ipython3",
   "version": "3.8.2"
  }
 },
 "nbformat": 4,
 "nbformat_minor": 4
}
