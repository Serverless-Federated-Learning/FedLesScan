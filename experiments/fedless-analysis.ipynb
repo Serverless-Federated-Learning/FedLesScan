{
 "cells": [
  {
   "cell_type": "code",
   "execution_count": null,
   "metadata": {
    "tags": []
   },
   "outputs": [],
   "source": [
    "import os\n",
    "import json\n",
    "from pathlib import Path\n",
    "\n",
    "import numpy as np\n",
    "import pandas as pd\n",
    "import matplotlib.pyplot as plt\n",
    "import seaborn as sns\n",
    "\n",
    "from IPython.core.display import HTML\n",
    "\n",
    "from plot_utils import process_flower_logs"
   ]
  },
  {
   "cell_type": "code",
   "execution_count": null,
   "metadata": {},
   "outputs": [],
   "source": [
    "SNS_DEFAULT_PALETTE = sns.color_palette(\"Paired\")#, as_cmap=True)"
   ]
  },
  {
   "cell_type": "code",
   "execution_count": null,
   "metadata": {},
   "outputs": [],
   "source": [
    "fedless_dfs = []\n",
    "fedless_client_dfs = []\n",
    "for folder in Path(\"/Users/andreas/workspace/thesis-code/out/\").glob(\"fedless-mnist-*-*-*\"):\n",
    "    tokens = folder.name.split(\"-\")\n",
    "    dataset = tokens[1]\n",
    "    clients_total = int(tokens[2])\n",
    "    clients_in_round = int(tokens[3])\n",
    "    local_epochs = int(tokens[4])\n",
    "    batch_size = int(tokens[5])\n",
    "    lr = int(tokens[6])\n",
    "    for timing_file in folder.glob(\"timing*.csv\"):\n",
    "        seed = timing_file.name.split(\"_\")[1].split(\".\")[0]\n",
    "        #config_file = timing_file.parent / f\"config_{seed}.json\"\n",
    "        #hyperparams = {}\n",
    "        #if config_file.exists():\n",
    "        #    config = json.loads(config_file.read_text())\n",
    "        #    hyperparams = config[\"clients\"][\"hyperparams\"]        \n",
    "#        \n",
    "        df = pd.read_csv(timing_file)\n",
    "        index = pd.MultiIndex.from_tuples(\n",
    "        [(\n",
    "            dataset,\n",
    "            clients_in_round,\n",
    "            clients_total,\n",
    "            local_epochs,\n",
    "            batch_size,\n",
    "            lr,\n",
    "            seed\n",
    "        )] * len(df),\n",
    "        names=[\n",
    "            \"dataset\",\n",
    "            \"clients_in_round\",\n",
    "            \"clients_total\",\n",
    "            \"local_epochs\",\n",
    "            \"batch_size\",\n",
    "            \"lr\",\n",
    "            \"seed\"\n",
    "        ]\n",
    "        )\n",
    "        df = pd.DataFrame(df.values, index=index, columns=df.columns)\n",
    "        df.rename(columns = {\n",
    "            'round_id':'round', \n",
    "            'global_test_accuracy': 'accuracy',\n",
    "            'global_test_loss': 'loss',\n",
    "            'round_seconds': 'time',\n",
    "            'clients_finished_seconds': 'time_clients_fit'\n",
    "        }, inplace = True)\n",
    "        new_dtypes = {\n",
    "            \"session_id\": str, \n",
    "            \"round\": int, \n",
    "            \"accuracy\": float,\n",
    "            \"loss\": float,\n",
    "            \"time\": float,\n",
    "            \"time_clients_fit\": float,\n",
    "            \"num_clients_round\": int,\n",
    "            #\"time_since_start\": float, \n",
    "            #\"time_agg_eval\": float\n",
    "        }\n",
    "        if not df.empty:\n",
    "            df = df.astype(new_dtypes)\n",
    "        fedless_dfs.append(df)\n",
    "        \n",
    "        \n",
    "    for client_file in folder.glob(\"clients*.csv\"):\n",
    "        seed = client_file.name.split(\"_\")[1].split(\".\")[0]\n",
    "        df = pd.read_csv(client_file)\n",
    "        index = pd.MultiIndex.from_tuples(\n",
    "        [(\n",
    "            dataset,\n",
    "            clients_in_round,\n",
    "            clients_total,\n",
    "            local_epochs,\n",
    "            batch_size,\n",
    "            lr,\n",
    "            seed\n",
    "        )] * len(df),\n",
    "        names=[\n",
    "             \"dataset\",\n",
    "            \"clients_in_round\",\n",
    "            \"clients_total\",\n",
    "            \"local_epochs\",\n",
    "            \"batch_size\",\n",
    "            \"lr\",\n",
    "            \"seed\"\n",
    "        ]\n",
    "        )\n",
    "        df = pd.DataFrame(df.values, index=index, columns=df.columns)\n",
    "        #df.rename(columns = {\n",
    "        #    'round_id':'round', \n",
    "        #    'global_test_accuracy': 'accuracy',\n",
    "        #    'global_test_loss': 'loss',\n",
    "        #    'round_seconds': 'time',\n",
    "        #    'clients_finished_seconds': 'time_clients_fit'\n",
    "        #}, inplace = True)\n",
    "        new_dtypes = {\n",
    "            \"seconds\": float,\n",
    "            \"round\": int\n",
    "        }\n",
    "        if not df.empty:\n",
    "            df = df.astype(new_dtypes)\n",
    "        fedless_client_dfs.append(df)\n",
    "    \n",
    "fedless_df = pd.concat(fedless_dfs)\n",
    "fedless_client_df = pd.concat(fedless_client_dfs)"
   ]
  },
  {
   "cell_type": "markdown",
   "metadata": {},
   "source": [
    "## MNIST"
   ]
  },
  {
   "cell_type": "code",
   "execution_count": null,
   "metadata": {},
   "outputs": [],
   "source": [
    "df_ = fedless_df.loc[(\"mnist\", 100)]\n",
    "\n",
    "sns.lineplot(x=\"round\", y=\"accuracy\", data=df_, palette=SNS_DEFAULT_PALETTE)"
   ]
  },
  {
   "cell_type": "code",
   "execution_count": null,
   "metadata": {},
   "outputs": [],
   "source": [
    "df_ = fedless_df.loc[(\"mnist\", 100)]\n",
    "df_[\"time_remaininig\"] = df_[\"time\"] - df_[\"time_clients_fit\"] - df_[\"aggregator_seconds\"]\n",
    "df_warm_ = df_[df_[\"round\"] > 0]\n",
    "\n",
    "vals = []\n",
    "cols = [\"aggregator_seconds\", \"time_clients_fit\"]#, \"time_remaininig\"]\n",
    "for col in cols:\n",
    "    vals.append((col, df_warm_[col].mean()))\n",
    "\n",
    "timing_df_ = pd.DataFrame(vals, columns=[\"type\", \"seconds\"])\n",
    " # , \"Rest\"\n",
    "timing_df_.plot.pie(y=\"seconds\", labels=[\"Aggregation and Evaluation\", \"Client Training\"], autopct='%1.1f%%', shadow=True, startangle=90, explode=[0.0, 0.1])\n",
    "#ax1.axis('equal')  # Equal aspect ratio ensures that pie is drawn as a circle."
   ]
  },
  {
   "cell_type": "code",
   "execution_count": null,
   "metadata": {},
   "outputs": [],
   "source": [
    "df_ = fedless_client_df.loc[(\"mnist\", 100)]\n",
    "df_ = df_[df_[\"eval\"] == False]\n",
    "df_[\"state\"] = df_[\"round\"].map(lambda r: \"cold\" if (r < 1) else \"warm\")\n",
    "df_[\"fun_obj\"] = df_[\"function\"].map(lambda x: json.loads(x))\n",
    "df_[\"provider\"] = df_[\"fun_obj\"].map(lambda x: x[\"type\"] if x[\"type\"] != \"openwhisk-web\" else (\"ibm\" if \"ibm\" in x[\"params\"][\"endpoint\"] else \"lrz\"))\n",
    "\n",
    "\n",
    "fig, axarr = plt.subplots(ncols=2, figsize=(12, 4))\n",
    "sns.boxplot(x=\"provider\", y=\"seconds\", data=df_, showfliers=False, palette=SNS_DEFAULT_PALETTE, ax=axarr[0])\n",
    "sns.barplot(x=\"state\", y=\"seconds\", data=df_, palette=SNS_DEFAULT_PALETTE, ax=axarr[1]) # showfliers=False"
   ]
  },
  {
   "cell_type": "markdown",
   "metadata": {},
   "source": [
    "## FEMNIST"
   ]
  },
  {
   "cell_type": "markdown",
   "metadata": {},
   "source": [
    "#### Accuracy over Rounds"
   ]
  },
  {
   "cell_type": "code",
   "execution_count": null,
   "metadata": {},
   "outputs": [],
   "source": []
  }
 ],
 "metadata": {
  "kernelspec": {
   "display_name": "Python 3",
   "language": "python",
   "name": "python3"
  },
  "language_info": {
   "codemirror_mode": {
    "name": "ipython",
    "version": 3
   },
   "file_extension": ".py",
   "mimetype": "text/x-python",
   "name": "python",
   "nbconvert_exporter": "python",
   "pygments_lexer": "ipython3",
   "version": "3.8.2"
  }
 },
 "nbformat": 4,
 "nbformat_minor": 4
}