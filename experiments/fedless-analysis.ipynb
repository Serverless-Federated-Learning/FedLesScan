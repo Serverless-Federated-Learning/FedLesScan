{
 "cells": [
  {
   "cell_type": "code",
   "execution_count": null,
   "metadata": {
    "tags": []
   },
   "outputs": [],
   "source": [
    "import os\n",
    "import sys\n",
    "import json\n",
    "from pathlib import Path\n",
    "\n",
    "import numpy as n\n",
    "import pandas as pd\n",
    "import matplotlib.pyplot as plt\n",
    "import seaborn as sns\n",
    "\n",
    "from IPython.core.display import HTML\n",
    "\n",
    "from plot_utils import process_flower_logs"
   ]
  },
  {
   "cell_type": "code",
   "execution_count": null,
   "metadata": {},
   "outputs": [],
   "source": [
    "SNS_DEFAULT_PALETTE = sns.color_palette(\"Paired\")#, as_cmap=True)"
   ]
  },
  {
   "cell_type": "code",
   "execution_count": null,
   "metadata": {},
   "outputs": [],
   "source": [
    "fedless_dfs = []\n",
    "fedless_client_dfs = []\n",
    "for folder in Path(\"/Users/andreas/workspace/thesis-code/out/\").glob(\"fedless-*-*-*-*-*-*\"):\n",
    "    tokens = folder.name.split(\"-\")\n",
    "    dataset = tokens[1]\n",
    "    clients_total = int(tokens[2])\n",
    "    clients_in_round = int(tokens[3])\n",
    "    local_epochs = int(tokens[4])\n",
    "    batch_size = int(tokens[5])\n",
    "    lr = int(tokens[6])\n",
    "    for timing_file in folder.glob(\"timing*.csv\"):\n",
    "        seed = timing_file.name.split(\"_\")[1].split(\".\")[0]\n",
    "        #config_file = timing_file.parent / f\"config_{seed}.json\"\n",
    "        #hyperparams = {}\n",
    "        #if config_file.exists():\n",
    "        #    config = json.loads(config_file.read_text())\n",
    "        #    hyperparams = config[\"clients\"][\"hyperparams\"]        \n",
    "#        \n",
    "        df = pd.read_csv(timing_file)\n",
    "        index = pd.MultiIndex.from_tuples(\n",
    "        [(\n",
    "            dataset,\n",
    "            clients_in_round,\n",
    "            clients_total,\n",
    "            local_epochs,\n",
    "            batch_size,\n",
    "            lr,\n",
    "            seed\n",
    "        )] * len(df),\n",
    "        names=[\n",
    "            \"dataset\",\n",
    "            \"clients_in_round\",\n",
    "            \"clients_total\",\n",
    "            \"local_epochs\",\n",
    "            \"batch_size\",\n",
    "            \"lr\",\n",
    "            \"seed\"\n",
    "        ]\n",
    "        )\n",
    "        df = pd.DataFrame(df.values, index=index, columns=df.columns)\n",
    "        df.rename(columns = {\n",
    "            'round_id':'round', \n",
    "            'global_test_accuracy': 'accuracy',\n",
    "            'global_test_loss': 'loss',\n",
    "            'round_seconds': 'time',\n",
    "            'clients_finished_seconds': 'time_clients_fit'\n",
    "        }, inplace = True)\n",
    "        new_dtypes = {\n",
    "            \"session_id\": str, \n",
    "            \"round\": int, \n",
    "            \"accuracy\": float,\n",
    "            \"loss\": float,\n",
    "            \"time\": float,\n",
    "            \"time_clients_fit\": float,\n",
    "            \"num_clients_round\": int,\n",
    "            #\"time_since_start\": float, \n",
    "            #\"time_agg_eval\": float\n",
    "        }\n",
    "        if not df.empty:\n",
    "            df = df.astype(new_dtypes)\n",
    "        fedless_dfs.append(df)\n",
    "        \n",
    "        \n",
    "    for client_file in folder.glob(\"clients*.csv\"):\n",
    "        seed = client_file.name.split(\"_\")[1].split(\".\")[0]\n",
    "        df = pd.read_csv(client_file)\n",
    "        index = pd.MultiIndex.from_tuples(\n",
    "        [(\n",
    "            dataset,\n",
    "            clients_in_round,\n",
    "            clients_total,\n",
    "            local_epochs,\n",
    "            batch_size,\n",
    "            lr,\n",
    "            seed\n",
    "        )] * len(df),\n",
    "        names=[\n",
    "             \"dataset\",\n",
    "            \"clients_in_round\",\n",
    "            \"clients_total\",\n",
    "            \"local_epochs\",\n",
    "            \"batch_size\",\n",
    "            \"lr\",\n",
    "            \"seed\"\n",
    "        ]\n",
    "        )\n",
    "        df = pd.DataFrame(df.values, index=index, columns=df.columns)\n",
    "        #df.rename(columns = {\n",
    "        #    'round_id':'round', \n",
    "        #    'global_test_accuracy': 'accuracy',\n",
    "        #    'global_test_loss': 'loss',\n",
    "        #    'round_seconds': 'time',\n",
    "        #    'clients_finished_seconds': 'time_clients_fit'\n",
    "        #}, inplace = True)\n",
    "        new_dtypes = {\n",
    "            \"seconds\": float,\n",
    "            \"round\": int\n",
    "        }\n",
    "        if not df.empty:\n",
    "            df = df.astype(new_dtypes)\n",
    "        fedless_client_dfs.append(df)\n",
    "    \n",
    "fedless_df = pd.concat(fedless_dfs)\n",
    "fedless_client_df = pd.concat(fedless_client_dfs)\n",
    "fedless_client_df[\"state\"] = fedless_client_df[\"round\"].map(lambda r: \"cold\" if (r < 1) else \"warm\")\n",
    "fedless_client_df[\"fun_obj\"] = fedless_client_df[\"function\"].map(lambda x: json.loads(x))\n",
    "fedless_client_df[\"provider\"] = fedless_client_df[\"fun_obj\"].map(lambda x: x[\"type\"] if x[\"type\"] != \"openwhisk-web\" else (\"ibm\" if \"ibm\" in x[\"params\"][\"endpoint\"] else \"lrz\"))"
   ]
  },
  {
   "cell_type": "markdown",
   "metadata": {},
   "source": [
    "## MNIST"
   ]
  },
  {
   "cell_type": "code",
   "execution_count": null,
   "metadata": {},
   "outputs": [],
   "source": [
    "df_ = fedless_df.loc[(\"mnist\", 100)]\n",
    "\n",
    "sns.lineplot(x=\"round\", y=\"accuracy\", data=df_, palette=SNS_DEFAULT_PALETTE)"
   ]
  },
  {
   "cell_type": "code",
   "execution_count": null,
   "metadata": {},
   "outputs": [],
   "source": [
    "df_ = fedless_df.loc[(\"mnist\", 100)]\n",
    "df_[\"time_remaininig\"] = df_[\"time\"] - df_[\"time_clients_fit\"] - df_[\"aggregator_seconds\"]\n",
    "df_warm_ = df_[df_[\"round\"] > 0]\n",
    "\n",
    "vals = []\n",
    "cols = [\"aggregator_seconds\", \"time_clients_fit\"]#, \"time_remaininig\"]\n",
    "for col in cols:\n",
    "    vals.append((col, df_warm_[col].mean()))\n",
    "\n",
    "timing_df_ = pd.DataFrame(vals, columns=[\"type\", \"seconds\"])\n",
    " # , \"Rest\"\n",
    "timing_df_.plot.pie(y=\"seconds\", labels=[\"Aggregation and Evaluation\", \"Client Training\"], autopct='%1.1f%%', shadow=True, startangle=90, explode=[0.0, 0.1])\n",
    "#ax1.axis('equal')  # Equal aspect ratio ensures that pie is drawn as a circle."
   ]
  },
  {
   "cell_type": "code",
   "execution_count": null,
   "metadata": {},
   "outputs": [],
   "source": [
    "df_ = fedless_client_df.loc[(\"mnist\", 100)]\n",
    "df_ = df_[df_[\"eval\"] == False]\n",
    "df_[\"state\"] = df_[\"round\"].map(lambda r: \"cold\" if (r < 1) else \"warm\")\n",
    "df_[\"fun_obj\"] = df_[\"function\"].map(lambda x: json.loads(x))\n",
    "df_[\"provider\"] = df_[\"fun_obj\"].map(lambda x: x[\"type\"] if x[\"type\"] != \"openwhisk-web\" else (\"ibm\" if \"ibm\" in x[\"params\"][\"endpoint\"] else \"lrz\"))\n",
    "\n",
    "\n",
    "fig, axarr = plt.subplots(ncols=2, figsize=(12, 4))\n",
    "sns.boxplot(x=\"provider\", y=\"seconds\", data=df_, showfliers=False, palette=SNS_DEFAULT_PALETTE, ax=axarr[0])\n",
    "sns.barplot(x=\"state\", y=\"seconds\", data=df_, palette=SNS_DEFAULT_PALETTE, ax=axarr[1]) # showfliers=False"
   ]
  },
  {
   "cell_type": "code",
   "execution_count": null,
   "metadata": {},
   "outputs": [],
   "source": [
    "provider_runtimes = df_.groupby(\"provider\").median(\"seconds\")\n",
    "print(provider_runtimes)\n",
    "\n",
    "df_.groupby([\"provider\", \"seed\"]).size().groupby(\"provider\").mean()"
   ]
  },
  {
   "cell_type": "code",
   "execution_count": null,
   "metadata": {},
   "outputs": [],
   "source": [
    "# Pricing\n",
    "from plot_utils import GCLOUD_FUNCTION_TIERS, calc_gcloud_function_cost, calc_lambda_function_cost\n",
    "from fedless.benchmark.fedkeeper import create_mnist_cnn\n",
    "from fedless.serialization import NpzWeightsSerializer\n",
    "\n",
    "\n",
    "model_size = sys.getsizeof(NpzWeightsSerializer().serialize(create_mnist_cnn().get_weights())) / 10**6\n",
    "memory, cpu_ghz, _ = 2048, 2.4, 2.9e-06\n",
    "gcloud_cost = calc_gcloud_function_cost(\n",
    "                        memory=memory, \n",
    "                        cpu_ghz=cpu_ghz,\n",
    "                        invocations=7259,\n",
    "                        function_runtime_seconds=3.281925,\n",
    "                        function_egress_mb=model_size,\n",
    "                        substract_free_tier=False)\n",
    "lambda_cost = calc_lambda_function_cost(\n",
    "    memory=2048,\n",
    "    invocations=7259.000000,\n",
    "    function_runtime_seconds=3.301694,\n",
    "    function_egress_mb=model_size,\n",
    "    num_active_instances=170,\n",
    "    substract_free_tier=False)\n",
    "\n",
    "sns.barplot(x=[\"gcloud\", \"lambda\"], y=[gcloud_cost, lambda_cost])"
   ]
  },
  {
   "cell_type": "markdown",
   "metadata": {},
   "source": [
    "## FEMNIST"
   ]
  },
  {
   "cell_type": "markdown",
   "metadata": {},
   "source": [
    "#### Accuracy over Rounds"
   ]
  },
  {
   "cell_type": "code",
   "execution_count": null,
   "metadata": {},
   "outputs": [],
   "source": [
    "df_ = fedless_df.loc[(\"femnist\", 100)]\n",
    "\n",
    "sns.lineplot(x=\"round\", y=\"accuracy\", data=df_, palette=SNS_DEFAULT_PALETTE)"
   ]
  },
  {
   "cell_type": "code",
   "execution_count": null,
   "metadata": {},
   "outputs": [],
   "source": [
    "df_ = fedless_df.loc[(\"femnist\", 100)]\n",
    "df_[\"time_remaininig\"] = df_[\"time\"] - df_[\"time_clients_fit\"] - df_[\"aggregator_seconds\"]\n",
    "df_warm_ = df_[df_[\"round\"] > 0]\n",
    "\n",
    "vals = []\n",
    "cols = [\"aggregator_seconds\", \"time_clients_fit\", \"time_remaininig\"]\n",
    "for col in cols:\n",
    "    vals.append((col, df_warm_[col].mean()))\n",
    "\n",
    "timing_df_ = pd.DataFrame(vals, columns=[\"type\", \"seconds\"])\n",
    "\n",
    "fig, axarr = plt.subplots(ncols=2, figsize=(10, 5))\n",
    "\n",
    "timing_df_.plot.pie(y=\"seconds\", labels=[\"Aggregation and Evaluation\", \"Client Training\", \"Evaluation\"], autopct='%.1fs', \n",
    "                    shadow=True, startangle=90, explode=[0.0, 0.0, 0.0], ax=axarr[0],\n",
    "                    normalize=True)\n",
    "sns.violinplot(y=\"time\", ax=axarr[1], data=df_warm_)\n",
    "#sns.boxplot(y=\"time\", ax=axarr[1], data=df_warm_, showcaps=False,widths=0.06, patch_artist=True)\n",
    "df_warm_[[\"aggregator_seconds\", \"time_clients_fit\", \"time_remaininig\"]]\n",
    "#ax1.axis('equal')  # Equal aspect ratio ensures that pie is drawn as a circle."
   ]
  },
  {
   "cell_type": "code",
   "execution_count": null,
   "metadata": {},
   "outputs": [],
   "source": [
    "df_ = fedless_client_df.loc[(\"femnist\", 100)]\n",
    "df_ = df_[df_[\"eval\"] == False]\n",
    "\n",
    "fig, axarr = plt.subplots(ncols=2, figsize=(12, 4))\n",
    "sns.boxplot(x=\"provider\", y=\"seconds\", data=df_, showfliers=False, palette=SNS_DEFAULT_PALETTE, ax=axarr[0])\n",
    "sns.barplot(x=\"state\", y=\"seconds\", data=df_, palette=SNS_DEFAULT_PALETTE, ax=axarr[1]) # showfliers=False"
   ]
  },
  {
   "cell_type": "code",
   "execution_count": null,
   "metadata": {},
   "outputs": [],
   "source": [
    "df_ = fedless_client_df.loc[(\"femnist\", 100)]\n",
    "df_ = df_[df_[\"eval\"] == False]\n",
    "provider_runtimes = df_.groupby(\"provider\").median(\"seconds\")\n",
    "print(provider_runtimes)\n",
    "\n",
    "df_.groupby([\"provider\", \"seed\"]).size().groupby(\"provider\").mean()"
   ]
  },
  {
   "cell_type": "code",
   "execution_count": null,
   "metadata": {},
   "outputs": [],
   "source": [
    "# Pricing\n",
    "from plot_utils import GCLOUD_FUNCTION_TIERS, calc_gcloud_function_cost\n",
    "from fedless.benchmark.leaf import create_femnist_cnn\n",
    "from fedless.serialization import NpzWeightsSerializer\n",
    "\n",
    "model_size = sys.getsizeof(NpzWeightsSerializer().serialize(create_femnist_cnn().get_weights())) / 10**6\n",
    "memory, cpu_ghz, _ = 2048, 2.4, 2.9e-06\n",
    "calc_gcloud_function_cost(\n",
    "                        memory=memory, \n",
    "                        cpu_ghz=cpu_ghz,\n",
    "                        invocations=5794.428571,\n",
    "                        function_runtime_seconds=14.084828,\n",
    "                        function_egress_mb=model_size,\n",
    "                        substract_free_tier=False)"
   ]
  },
  {
   "cell_type": "code",
   "execution_count": null,
   "metadata": {},
   "outputs": [],
   "source": []
  },
  {
   "cell_type": "code",
   "execution_count": null,
   "metadata": {},
   "outputs": [],
   "source": []
  }
 ],
 "metadata": {
  "kernelspec": {
   "display_name": "Python 3",
   "language": "python",
   "name": "python3"
  },
  "language_info": {
   "codemirror_mode": {
    "name": "ipython",
    "version": 3
   },
   "file_extension": ".py",
   "mimetype": "text/x-python",
   "name": "python",
   "nbconvert_exporter": "python",
   "pygments_lexer": "ipython3",
   "version": "3.8.2"
  }
 },
 "nbformat": 4,
 "nbformat_minor": 4
}
