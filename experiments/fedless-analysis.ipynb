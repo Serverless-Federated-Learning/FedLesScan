{
 "cells": [
  {
   "cell_type": "code",
   "execution_count": 91,
   "metadata": {
    "tags": []
   },
   "outputs": [],
   "source": [
    "import os\n",
    "import sys\n",
    "import json\n",
    "from pathlib import Path\n",
    "\n",
    "import numpy as n\n",
    "import pandas as pd\n",
    "import matplotlib.pyplot as plt\n",
    "import seaborn as sns\n",
    "\n",
    "from IPython.core.display import HTML\n",
    "\n",
    "from plot_utils import process_flower_logs"
   ]
  },
  {
   "cell_type": "code",
   "execution_count": 92,
   "metadata": {},
   "outputs": [],
   "source": [
    "SNS_DEFAULT_PALETTE = sns.color_palette(\"Paired\")#, as_cmap=True)"
   ]
  },
  {
   "cell_type": "code",
   "execution_count": 104,
   "metadata": {},
   "outputs": [],
   "source": [
    "fedless_dfs = []\n",
    "fedless_client_dfs = []\n",
    "for folder in Path(\"/Users/andreas/workspace/thesis-code/out/\").glob(\"fedless-*-*-*-*-*-*\"):\n",
    "    tokens = folder.name.split(\"-\")\n",
    "    dataset = tokens[1]\n",
    "    clients_total = int(tokens[2])\n",
    "    clients_in_round = int(tokens[3])\n",
    "    local_epochs = int(tokens[4])\n",
    "    batch_size = int(tokens[5])\n",
    "    lr = int(tokens[6])\n",
    "    for timing_file in folder.glob(\"timing*.csv\"):\n",
    "        seed = timing_file.name.split(\"_\")[1].split(\".\")[0]\n",
    "        #config_file = timing_file.parent / f\"config_{seed}.json\"\n",
    "        #hyperparams = {}\n",
    "        #if config_file.exists():\n",
    "        #    config = json.loads(config_file.read_text())\n",
    "        #    hyperparams = config[\"clients\"][\"hyperparams\"]        \n",
    "#        \n",
    "        df = pd.read_csv(timing_file)\n",
    "        index = pd.MultiIndex.from_tuples(\n",
    "        [(\n",
    "            dataset,\n",
    "            clients_in_round,\n",
    "            clients_total,\n",
    "            local_epochs,\n",
    "            batch_size,\n",
    "            lr,\n",
    "            seed\n",
    "        )] * len(df),\n",
    "        names=[\n",
    "            \"dataset\",\n",
    "            \"clients_in_round\",\n",
    "            \"clients_total\",\n",
    "            \"local_epochs\",\n",
    "            \"batch_size\",\n",
    "            \"lr\",\n",
    "            \"seed\"\n",
    "        ]\n",
    "        )\n",
    "        df = pd.DataFrame(df.values, index=index, columns=df.columns)\n",
    "        df.rename(columns = {\n",
    "            'round_id':'round', \n",
    "            'global_test_accuracy': 'accuracy',\n",
    "            'global_test_loss': 'loss',\n",
    "            'round_seconds': 'time',\n",
    "            'clients_finished_seconds': 'time_clients_fit'\n",
    "        }, inplace = True)\n",
    "        new_dtypes = {\n",
    "            \"session_id\": str, \n",
    "            \"round\": int, \n",
    "            \"accuracy\": float,\n",
    "            \"loss\": float,\n",
    "            \"time\": float,\n",
    "            \"time_clients_fit\": float,\n",
    "            \"num_clients_round\": int,\n",
    "            #\"time_since_start\": float, \n",
    "            #\"time_agg_eval\": float\n",
    "        }\n",
    "        if not df.empty:\n",
    "            df = df.astype(new_dtypes)\n",
    "        fedless_dfs.append(df)\n",
    "        \n",
    "        \n",
    "    for client_file in folder.glob(\"clients*.csv\"):\n",
    "        seed = client_file.name.split(\"_\")[1].split(\".\")[0]\n",
    "        df = pd.read_csv(client_file)\n",
    "        index = pd.MultiIndex.from_tuples(\n",
    "        [(\n",
    "            dataset,\n",
    "            int(clients_in_round),\n",
    "            int(clients_total),\n",
    "            int(local_epochs),\n",
    "            int(batch_size),\n",
    "            lr,\n",
    "            seed\n",
    "        )] * len(df),\n",
    "        names=[\n",
    "             \"dataset\",\n",
    "            \"clients_in_round\",\n",
    "            \"clients_total\",\n",
    "            \"local_epochs\",\n",
    "            \"batch_size\",\n",
    "            \"lr\",\n",
    "            \"seed\"\n",
    "        ]\n",
    "        )\n",
    "        df = pd.DataFrame(df.values, index=index, columns=df.columns)\n",
    "        #df.rename(columns = {\n",
    "        #    'round_id':'round', \n",
    "        #    'global_test_accuracy': 'accuracy',\n",
    "        #    'global_test_loss': 'loss',\n",
    "        #    'round_seconds': 'time',\n",
    "        #    'clients_finished_seconds': 'time_clients_fit'\n",
    "        #}, inplace = True)\n",
    "        new_dtypes = {\n",
    "            \"seconds\": float,\n",
    "            \"round\": int\n",
    "        }\n",
    "        if not df.empty:\n",
    "            df = df.astype(new_dtypes)\n",
    "        fedless_client_dfs.append(df)\n",
    "    \n",
    "fedless_df = pd.concat(fedless_dfs).sort_index()\n",
    "fedless_client_df = pd.concat(fedless_client_dfs)\n",
    "fedless_client_df[\"state\"] = fedless_client_df[\"round\"].map(lambda r: \"cold\" if (r < 1) else \"warm\")\n",
    "fedless_client_df[\"fun_obj\"] = fedless_client_df[\"function\"].map(lambda x: json.loads(x))\n",
    "fedless_client_df[\"provider\"] = fedless_client_df[\"fun_obj\"].map(lambda x: x[\"type\"] if x[\"type\"] != \"openwhisk-web\" else (\"ibm\" if \"ibm\" in x[\"params\"][\"endpoint\"] else \"lrz\"))"
   ]
  },
  {
   "cell_type": "markdown",
   "metadata": {},
   "source": [
    "## MNIST"
   ]
  },
  {
   "cell_type": "code",
   "execution_count": 105,
   "metadata": {},
   "outputs": [
    {
     "data": {
      "text/html": [
       "<div>\n",
       "<style scoped>\n",
       "    .dataframe tbody tr th:only-of-type {\n",
       "        vertical-align: middle;\n",
       "    }\n",
       "\n",
       "    .dataframe tbody tr th {\n",
       "        vertical-align: top;\n",
       "    }\n",
       "\n",
       "    .dataframe thead th {\n",
       "        text-align: right;\n",
       "    }\n",
       "</style>\n",
       "<table border=\"1\" class=\"dataframe\">\n",
       "  <thead>\n",
       "    <tr style=\"text-align: right;\">\n",
       "      <th></th>\n",
       "      <th>round</th>\n",
       "      <th>time</th>\n",
       "      <th>time_clients_fit</th>\n",
       "      <th>num_clients_round</th>\n",
       "      <th>accuracy</th>\n",
       "      <th>loss</th>\n",
       "    </tr>\n",
       "    <tr>\n",
       "      <th>clients_in_round</th>\n",
       "      <th></th>\n",
       "      <th></th>\n",
       "      <th></th>\n",
       "      <th></th>\n",
       "      <th></th>\n",
       "      <th></th>\n",
       "    </tr>\n",
       "  </thead>\n",
       "  <tbody>\n",
       "    <tr>\n",
       "      <th>25</th>\n",
       "      <td>76.000000</td>\n",
       "      <td>21.323905</td>\n",
       "      <td>14.741226</td>\n",
       "      <td>25.0</td>\n",
       "      <td>0.990200</td>\n",
       "      <td>0.035045</td>\n",
       "    </tr>\n",
       "    <tr>\n",
       "      <th>100</th>\n",
       "      <td>84.333333</td>\n",
       "      <td>19.840954</td>\n",
       "      <td>10.757056</td>\n",
       "      <td>100.0</td>\n",
       "      <td>0.990033</td>\n",
       "      <td>0.039715</td>\n",
       "    </tr>\n",
       "    <tr>\n",
       "      <th>200</th>\n",
       "      <td>78.000000</td>\n",
       "      <td>23.781940</td>\n",
       "      <td>12.484561</td>\n",
       "      <td>200.0</td>\n",
       "      <td>0.990133</td>\n",
       "      <td>0.039448</td>\n",
       "    </tr>\n",
       "  </tbody>\n",
       "</table>\n",
       "</div>"
      ],
      "text/plain": [
       "                      round       time  time_clients_fit  num_clients_round  \\\n",
       "clients_in_round                                                              \n",
       "25                76.000000  21.323905         14.741226               25.0   \n",
       "100               84.333333  19.840954         10.757056              100.0   \n",
       "200               78.000000  23.781940         12.484561              200.0   \n",
       "\n",
       "                  accuracy      loss  \n",
       "clients_in_round                      \n",
       "25                0.990200  0.035045  \n",
       "100               0.990033  0.039715  \n",
       "200               0.990133  0.039448  "
      ]
     },
     "execution_count": 105,
     "metadata": {},
     "output_type": "execute_result"
    }
   ],
   "source": [
    "df_ = fedless_df.loc[(\"mnist\", slice(1, 200)), :]\n",
    "df_ = df_[df_[\"accuracy\"] >= 0.99]\n",
    "#sns.lineplot(x=\"round\", y=\"accuracy\", data=df_, hue=\"clients_in_round\")\n",
    "df_.groupby([\"clients_in_round\", \"seed\"]).min(\"round\").groupby(\"clients_in_round\").mean()"
   ]
  },
  {
   "cell_type": "code",
   "execution_count": 111,
   "metadata": {},
   "outputs": [
    {
     "name": "stderr",
     "output_type": "stream",
     "text": [
      "<ipython-input-111-5faf294476b4>:2: SettingWithCopyWarning: \n",
      "A value is trying to be set on a copy of a slice from a DataFrame.\n",
      "Try using .loc[row_indexer,col_indexer] = value instead\n",
      "\n",
      "See the caveats in the documentation: https://pandas.pydata.org/pandas-docs/stable/user_guide/indexing.html#returning-a-view-versus-a-copy\n",
      "  df_[\"time_remaininig\"] = df_[\"time\"] - df_[\"time_clients_fit\"] - df_[\"aggregator_seconds\"]\n"
     ]
    },
    {
     "data": {
      "text/plain": [
       "<AxesSubplot:ylabel='seconds'>"
      ]
     },
     "execution_count": 111,
     "metadata": {},
     "output_type": "execute_result"
    },
    {
     "data": {
      "image/png": "[encoded data removed]",
      "text/plain": [
       "<Figure size 432x288 with 1 Axes>"
      ]
     },
     "metadata": {},
     "output_type": "display_data"
    }
   ],
   "source": [
    "df_ = fedless_df.loc[(\"mnist\", slice(100, 100)), :]\n",
    "df_[\"time_remaininig\"] = df_[\"time\"] - df_[\"time_clients_fit\"] - df_[\"aggregator_seconds\"]\n",
    "df_warm_ = df_[df_[\"round\"] > 0]\n",
    "\n",
    "vals = []\n",
    "cols = [\"aggregator_seconds\", \"time_clients_fit\"]#, \"time_remaininig\"]\n",
    "for col in cols:\n",
    "    vals.append((col, df_warm_[col].mean()))\n",
    "\n",
    "timing_df_ = pd.DataFrame(vals, columns=[\"type\", \"seconds\"])\n",
    " # , \"Rest\"\n",
    "timing_df_.plot.pie(y=\"seconds\", labels=[\"Aggregation and Evaluation\", \"Client Training\"], autopct='%1.1f%%', shadow=True, startangle=90, explode=[0.0, 0.1],\n",
    "                   x=\"clients_in_round\")\n",
    "#ax1.axis('equal')  # Equal aspect ratio ensures that pie is drawn as a circle."
   ]
  },
  {
   "cell_type": "code",
   "execution_count": 112,
   "metadata": {},
   "outputs": [
    {
     "name": "stderr",
     "output_type": "stream",
     "text": [
      "<ipython-input-112-982f1a0c4771>:1: PerformanceWarning: indexing past lexsort depth may impact performance.\n",
      "  df_ = fedless_client_df.loc[(\"mnist\", 100)]\n"
     ]
    },
    {
     "data": {
      "text/plain": [
       "<AxesSubplot:xlabel='state', ylabel='seconds'>"
      ]
     },
     "execution_count": 112,
     "metadata": {},
     "output_type": "execute_result"
    },
    {
     "data": {
      "image/png": "[encoded data removed]",
      "text/plain": [
       "<Figure size 864x288 with 2 Axes>"
      ]
     },
     "metadata": {
      "needs_background": "light"
     },
     "output_type": "display_data"
    }
   ],
   "source": [
    "df_ = fedless_client_df.loc[(\"mnist\", 100)]\n",
    "df_ = df_[df_[\"eval\"] == False]\n",
    "df_[\"state\"] = df_[\"round\"].map(lambda r: \"cold\" if (r < 1) else \"warm\")\n",
    "df_[\"fun_obj\"] = df_[\"function\"].map(lambda x: json.loads(x))\n",
    "df_[\"provider\"] = df_[\"fun_obj\"].map(lambda x: x[\"type\"] if x[\"type\"] != \"openwhisk-web\" else (\"ibm\" if \"ibm\" in x[\"params\"][\"endpoint\"] else \"lrz\"))\n",
    "\n",
    "\n",
    "fig, axarr = plt.subplots(ncols=2, figsize=(12, 4))\n",
    "sns.boxplot(x=\"provider\", y=\"seconds\", data=df_, showfliers=False, palette=SNS_DEFAULT_PALETTE, ax=axarr[0])\n",
    "sns.barplot(x=\"state\", y=\"seconds\", data=df_, palette=SNS_DEFAULT_PALETTE, ax=axarr[1]) # showfliers=False"
   ]
  },
  {
   "cell_type": "code",
   "execution_count": null,
   "metadata": {},
   "outputs": [],
   "source": [
    "provider_runtimes = df_.groupby(\"provider\").median(\"seconds\")\n",
    "print(provider_runtimes)\n",
    "\n",
    "df_.groupby([\"provider\", \"seed\"]).size().groupby(\"provider\").mean()"
   ]
  },
  {
   "cell_type": "code",
   "execution_count": null,
   "metadata": {},
   "outputs": [],
   "source": [
    "# Pricing\n",
    "from plot_utils import GCLOUD_FUNCTION_TIERS, calc_gcloud_function_cost, calc_lambda_function_cost\n",
    "from fedless.benchmark.fedkeeper import create_mnist_cnn\n",
    "from fedless.serialization import NpzWeightsSerializer\n",
    "\n",
    "\n",
    "model_size = sys.getsizeof(NpzWeightsSerializer().serialize(create_mnist_cnn().get_weights())) / 10**6\n",
    "memory, cpu_ghz, _ = 2048, 2.4, 2.9e-06\n",
    "gcloud_cost = calc_gcloud_function_cost(\n",
    "                        memory=memory, \n",
    "                        cpu_ghz=cpu_ghz,\n",
    "                        invocations=7259,\n",
    "                        function_runtime_seconds=3.281925,\n",
    "                        function_egress_mb=model_size,\n",
    "                        substract_free_tier=False)\n",
    "lambda_cost = calc_lambda_function_cost(\n",
    "    memory=2048,\n",
    "    invocations=7259.000000,\n",
    "    function_runtime_seconds=3.301694,\n",
    "    function_egress_mb=model_size,\n",
    "    num_active_instances=170,\n",
    "    substract_free_tier=False)\n",
    "\n",
    "sns.barplot(x=[\"gcloud\", \"lambda\"], y=[gcloud_cost, lambda_cost])"
   ]
  },
  {
   "cell_type": "markdown",
   "metadata": {},
   "source": [
    "## FEMNIST"
   ]
  },
  {
   "cell_type": "markdown",
   "metadata": {},
   "source": [
    "#### Accuracy over Rounds"
   ]
  },
  {
   "cell_type": "code",
   "execution_count": null,
   "metadata": {},
   "outputs": [],
   "source": [
    "df_ = fedless_df.loc[(\"femnist\", 100)]\n",
    "\n",
    "sns.lineplot(x=\"round\", y=\"accuracy\", data=df_, palette=SNS_DEFAULT_PALETTE)"
   ]
  },
  {
   "cell_type": "code",
   "execution_count": null,
   "metadata": {},
   "outputs": [],
   "source": [
    "df_ = fedless_df.loc[(\"femnist\", 100)]\n",
    "df_[\"time_remaininig\"] = df_[\"time\"] - df_[\"time_clients_fit\"] - df_[\"aggregator_seconds\"]\n",
    "df_warm_ = df_[df_[\"round\"] > 0]\n",
    "\n",
    "vals = []\n",
    "cols = [\"aggregator_seconds\", \"time_clients_fit\", \"time_remaininig\"]\n",
    "for col in cols:\n",
    "    vals.append((col, df_warm_[col].mean()))\n",
    "\n",
    "timing_df_ = pd.DataFrame(vals, columns=[\"type\", \"seconds\"])\n",
    "\n",
    "fig, axarr = plt.subplots(ncols=2, figsize=(10, 5))\n",
    "\n",
    "timing_df_.plot.pie(y=\"seconds\", labels=[\"Aggregation and Evaluation\", \"Client Training\", \"Evaluation\"], autopct='%.1fs', \n",
    "                    shadow=True, startangle=90, explode=[0.0, 0.0, 0.0], ax=axarr[0],\n",
    "                    normalize=True)\n",
    "sns.violinplot(y=\"time\", ax=axarr[1], data=df_warm_)\n",
    "#sns.boxplot(y=\"time\", ax=axarr[1], data=df_warm_, showcaps=False,widths=0.06, patch_artist=True)\n",
    "df_warm_[[\"aggregator_seconds\", \"time_clients_fit\", \"time_remaininig\"]]\n",
    "#ax1.axis('equal')  # Equal aspect ratio ensures that pie is drawn as a circle."
   ]
  },
  {
   "cell_type": "code",
   "execution_count": null,
   "metadata": {},
   "outputs": [],
   "source": [
    "df_ = fedless_client_df.loc[(\"femnist\", 100)]\n",
    "df_ = df_[df_[\"eval\"] == False]\n",
    "\n",
    "fig, axarr = plt.subplots(ncols=2, figsize=(12, 4))\n",
    "sns.boxplot(x=\"provider\", y=\"seconds\", data=df_, showfliers=False, palette=SNS_DEFAULT_PALETTE, ax=axarr[0])\n",
    "sns.barplot(x=\"state\", y=\"seconds\", data=df_, palette=SNS_DEFAULT_PALETTE, ax=axarr[1]) # showfliers=False"
   ]
  },
  {
   "cell_type": "code",
   "execution_count": null,
   "metadata": {},
   "outputs": [],
   "source": [
    "df_ = fedless_client_df.loc[(\"femnist\", 100)]\n",
    "df_ = df_[df_[\"eval\"] == False]\n",
    "provider_runtimes = df_.groupby(\"provider\").median(\"seconds\")\n",
    "print(provider_runtimes)\n",
    "\n",
    "df_.groupby([\"provider\", \"seed\"]).size().groupby(\"provider\").mean()"
   ]
  },
  {
   "cell_type": "code",
   "execution_count": 2,
   "metadata": {},
   "outputs": [
    {
     "data": {
      "text/plain": [
       "9.0842876171875"
      ]
     },
     "execution_count": 2,
     "metadata": {},
     "output_type": "execute_result"
    }
   ],
   "source": [
    "# Pricing\n",
    "from plot_utils import GCLOUD_FUNCTION_TIERS, calc_gcloud_function_cost\n",
    "from fedless.benchmark.leaf import create_femnist_cnn, create_shakespeare_lstm\n",
    "from fedless.serialization import NpzWeightsSerializer\n",
    "\n",
    "#model_size = sys.getsizeof(NpzWeightsSerializer().serialize(create_femnist_cnn().get_weights())) / 10**6\n",
    "model_size = sys.getsizeof(NpzWeightsSerializer().serialize(create_shakespeare_lstm().get_weights())) / 10**6\n",
    "memory, cpu_ghz, _ = 2048, 2.4, 2.9e-06\n",
    "calc_gcloud_function_cost(\n",
    "                        memory=memory, \n",
    "                        cpu_ghz=cpu_ghz,\n",
    "                        invocations=1000,\n",
    "                        function_runtime_seconds=300,\n",
    "                        function_egress_mb=model_size,\n",
    "                        substract_free_tier=False)"
   ]
  },
  {
   "cell_type": "code",
   "execution_count": null,
   "metadata": {},
   "outputs": [],
   "source": []
  },
  {
   "cell_type": "code",
   "execution_count": 5,
   "metadata": {},
   "outputs": [
    {
     "data": {
      "text/plain": [
       "6.1842876171875005"
      ]
     },
     "execution_count": 5,
     "metadata": {},
     "output_type": "execute_result"
    }
   ],
   "source": [
    "# Pricing\n",
    "from plot_utils import GCLOUD_FUNCTION_TIERS, calc_gcloud_function_cost\n",
    "from fedless.benchmark.leaf import create_femnist_cnn, create_shakespeare_lstm\n",
    "from fedless.serialization import NpzWeightsSerializer\n",
    "\n",
    "#model_size = sys.getsizeof(NpzWeightsSerializer().serialize(create_femnist_cnn().get_weights())) / 10**6\n",
    "model_size = sys.getsizeof(NpzWeightsSerializer().serialize(create_shakespeare_lstm().get_weights())) / 10**6\n",
    "memory, cpu_ghz, _ = 2048, 2.4, 2.9e-06\n",
    "calc_gcloud_function_cost(\n",
    "                        memory=memory, \n",
    "                        cpu_ghz=cpu_ghz,\n",
    "                        invocations=1000,\n",
    "                        function_runtime_seconds=200,\n",
    "                        function_egress_mb=model_size,\n",
    "                        substract_free_tier=False)"
   ]
  },
  {
   "cell_type": "code",
   "execution_count": null,
   "metadata": {},
   "outputs": [],
   "source": []
  }
 ],
 "metadata": {
  "kernelspec": {
   "display_name": "Python 3",
   "language": "python",
   "name": "python3"
  },
  "language_info": {
   "codemirror_mode": {
    "name": "ipython",
    "version": 3
   },
   "file_extension": ".py",
   "mimetype": "text/x-python",
   "name": "python",
   "nbconvert_exporter": "python",
   "pygments_lexer": "ipython3",
   "version": "3.8.2"
  }
 },
 "nbformat": 4,
 "nbformat_minor": 4
}
