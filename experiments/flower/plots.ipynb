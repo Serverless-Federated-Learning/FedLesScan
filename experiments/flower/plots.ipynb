{
 "cells": [
  {
   "cell_type": "code",
   "execution_count": 180,
   "metadata": {
    "collapsed": true
   },
   "outputs": [
    {
     "name": "stderr",
     "output_type": "stream",
     "text": [
      "UsageError: Line magic function `%` not found.\n"
     ]
    }
   ],
   "source": [
    "from pathlib import Path\n",
    "from typing import Dict\n",
    "\n",
    "import pandas as pd\n",
    "import matplotlib.pyplot as plt\n",
    "import seaborn as sns\n",
    "import numpy as np\n",
    "\n",
    "\n",
    "\n",
    "\n",
    "% matplotlib inline"
   ]
  },
  {
   "cell_type": "code",
   "execution_count": 181,
   "outputs": [
    {
     "data": {
      "text/plain": "    round      loss                           metrics  accuracy  \\\n0       1  2.196335  {'accuracy': 0.6226999759674072}    0.6227   \n1       2  0.928164  {'accuracy': 0.8087999820709229}    0.8088   \n2       3  0.293507  {'accuracy': 0.9057000279426575}    0.9057   \n3       4  0.160993  {'accuracy': 0.9485999941825867}    0.9486   \n4       5  0.125611  {'accuracy': 0.9577999711036682}    0.9578   \n5       6  0.103944  {'accuracy': 0.9656999707221985}    0.9657   \n6       7  0.090298  {'accuracy': 0.9711999893188477}    0.9712   \n7       8  0.080933  {'accuracy': 0.9735999703407288}    0.9736   \n8       9  0.072337  {'accuracy': 0.9754999876022339}    0.9755   \n9      10  0.066566  {'accuracy': 0.9778000116348267}    0.9778   \n10     11  0.062210  {'accuracy': 0.9793999791145325}    0.9794   \n11     12  0.058138    {'accuracy': 0.98089998960495}    0.9809   \n12     13  0.055533  {'accuracy': 0.9819999933242798}    0.9820   \n13     14  0.052471  {'accuracy': 0.9835000038146973}    0.9835   \n14     15  0.049070  {'accuracy': 0.9850000143051147}    0.9850   \n15     16  0.048448  {'accuracy': 0.9855999946594238}    0.9856   \n16     17  0.046375  {'accuracy': 0.9865000247955322}    0.9865   \n17     18  0.045401  {'accuracy': 0.9869999885559082}    0.9870   \n18     19  0.044040  {'accuracy': 0.9866999983787537}    0.9867   \n19     20  0.043740  {'accuracy': 0.9871000051498413}    0.9871   \n20     21  0.042601   {'accuracy': 0.987500011920929}    0.9875   \n21     22  0.041541  {'accuracy': 0.9879000186920166}    0.9879   \n22     23  0.040956  {'accuracy': 0.9879000186920166}    0.9879   \n23     24  0.040155  {'accuracy': 0.9886000156402588}    0.9886   \n24     25  0.039698  {'accuracy': 0.9886000156402588}    0.9886   \n25     26  0.039604  {'accuracy': 0.9889000058174133}    0.9889   \n26     27  0.039103  {'accuracy': 0.9890000224113464}    0.9890   \n27     28  0.038733  {'accuracy': 0.9894000291824341}    0.9894   \n28     29  0.038939  {'accuracy': 0.9891999959945679}    0.9892   \n29     30  0.039295   {'accuracy': 0.989300012588501}    0.9893   \n30     31  0.038033  {'accuracy': 0.9890000224113464}    0.9890   \n31     32  0.038404  {'accuracy': 0.9894000291824341}    0.9894   \n32     33  0.039958  {'accuracy': 0.9891999959945679}    0.9892   \n33     34  0.037843  {'accuracy': 0.9894000291824341}    0.9894   \n34     35  0.038446   {'accuracy': 0.989799976348877}    0.9898   \n35     36  0.038082  {'accuracy': 0.9900000095367432}    0.9900   \n36     37  0.037452  {'accuracy': 0.9901000261306763}    0.9901   \n37     38  0.038205  {'accuracy': 0.9901000261306763}    0.9901   \n38     39  0.038117  {'accuracy': 0.9900000095367432}    0.9900   \n39     40  0.037820  {'accuracy': 0.9901000261306763}    0.9901   \n40     41  0.038095  {'accuracy': 0.9901000261306763}    0.9901   \n41     42  0.038795  {'accuracy': 0.9901999831199646}    0.9902   \n42     43  0.038593  {'accuracy': 0.9901999831199646}    0.9902   \n43     44  0.039037  {'accuracy': 0.9901000261306763}    0.9901   \n44     45  0.038018  {'accuracy': 0.9904000163078308}    0.9904   \n45     46  0.038705  {'accuracy': 0.9908000230789185}    0.9908   \n46     47  0.037883  {'accuracy': 0.9907000064849854}    0.9907   \n47     48  0.038702  {'accuracy': 0.9902999997138977}    0.9903   \n48     49  0.039284  {'accuracy': 0.9901999831199646}    0.9902   \n49     50  0.040015  {'accuracy': 0.9907000064849854}    0.9907   \n\n    time_since_start        time  \n0         183.298131  183.298131  \n1         239.050315   55.752184  \n2         293.168544   54.118228  \n3         346.774158   53.605615  \n4         396.101358   49.327199  \n5         446.353602   50.252244  \n6         497.059173   50.705571  \n7         547.180404   50.121231  \n8         602.551678   55.371275  \n9         652.923677   50.371998  \n10        704.185821   51.262144  \n11        756.256935   52.071114  \n12        804.767894   48.510959  \n13        853.610658   48.842764  \n14        904.110274   50.499615  \n15        954.791831   50.681557  \n16       1002.376296   47.584465  \n17       1053.949878   51.573582  \n18       1104.223273   50.273395  \n19       1158.117867   53.894595  \n20       1203.897286   45.779419  \n21       1252.003269   48.105983  \n22       1302.522462   50.519193  \n23       1350.737446   48.214983  \n24       1400.327923   49.590478  \n25       1451.177504   50.849581  \n26       1501.673590   50.496086  \n27       1551.865159   50.191569  \n28       1603.263189   51.398030  \n29       1658.048849   54.785660  \n30       1703.425119   45.376270  \n31       1748.846613   45.421494  \n32       1795.628619   46.782005  \n33       1848.046134   52.417515  \n34       1896.763140   48.717006  \n35       1945.275287   48.512147  \n36       1992.109304   46.834017  \n37       2037.770165   45.660861  \n38       2088.656396   50.886231  \n39       2136.382167   47.725771  \n40       2188.602081   52.219914  \n41       2233.924598   45.322517  \n42       2287.162689   53.238091  \n43       2334.737619   47.574930  \n44       2382.054400   47.316781  \n45       2430.225970   48.171570  \n46       2480.948984   50.723015  \n47       2530.421679   49.472695  \n48       2579.708600   49.286920  \n49       2627.375367   47.666767  ",
      "text/html": "<div>\n<style scoped>\n    .dataframe tbody tr th:only-of-type {\n        vertical-align: middle;\n    }\n\n    .dataframe tbody tr th {\n        vertical-align: top;\n    }\n\n    .dataframe thead th {\n        text-align: right;\n    }\n</style>\n<table border=\"1\" class=\"dataframe\">\n  <thead>\n    <tr style=\"text-align: right;\">\n      <th></th>\n      <th>round</th>\n      <th>loss</th>\n      <th>metrics</th>\n      <th>accuracy</th>\n      <th>time_since_start</th>\n      <th>time</th>\n    </tr>\n  </thead>\n  <tbody>\n    <tr>\n      <th>0</th>\n      <td>1</td>\n      <td>2.196335</td>\n      <td>{'accuracy': 0.6226999759674072}</td>\n      <td>0.6227</td>\n      <td>183.298131</td>\n      <td>183.298131</td>\n    </tr>\n    <tr>\n      <th>1</th>\n      <td>2</td>\n      <td>0.928164</td>\n      <td>{'accuracy': 0.8087999820709229}</td>\n      <td>0.8088</td>\n      <td>239.050315</td>\n      <td>55.752184</td>\n    </tr>\n    <tr>\n      <th>2</th>\n      <td>3</td>\n      <td>0.293507</td>\n      <td>{'accuracy': 0.9057000279426575}</td>\n      <td>0.9057</td>\n      <td>293.168544</td>\n      <td>54.118228</td>\n    </tr>\n    <tr>\n      <th>3</th>\n      <td>4</td>\n      <td>0.160993</td>\n      <td>{'accuracy': 0.9485999941825867}</td>\n      <td>0.9486</td>\n      <td>346.774158</td>\n      <td>53.605615</td>\n    </tr>\n    <tr>\n      <th>4</th>\n      <td>5</td>\n      <td>0.125611</td>\n      <td>{'accuracy': 0.9577999711036682}</td>\n      <td>0.9578</td>\n      <td>396.101358</td>\n      <td>49.327199</td>\n    </tr>\n    <tr>\n      <th>5</th>\n      <td>6</td>\n      <td>0.103944</td>\n      <td>{'accuracy': 0.9656999707221985}</td>\n      <td>0.9657</td>\n      <td>446.353602</td>\n      <td>50.252244</td>\n    </tr>\n    <tr>\n      <th>6</th>\n      <td>7</td>\n      <td>0.090298</td>\n      <td>{'accuracy': 0.9711999893188477}</td>\n      <td>0.9712</td>\n      <td>497.059173</td>\n      <td>50.705571</td>\n    </tr>\n    <tr>\n      <th>7</th>\n      <td>8</td>\n      <td>0.080933</td>\n      <td>{'accuracy': 0.9735999703407288}</td>\n      <td>0.9736</td>\n      <td>547.180404</td>\n      <td>50.121231</td>\n    </tr>\n    <tr>\n      <th>8</th>\n      <td>9</td>\n      <td>0.072337</td>\n      <td>{'accuracy': 0.9754999876022339}</td>\n      <td>0.9755</td>\n      <td>602.551678</td>\n      <td>55.371275</td>\n    </tr>\n    <tr>\n      <th>9</th>\n      <td>10</td>\n      <td>0.066566</td>\n      <td>{'accuracy': 0.9778000116348267}</td>\n      <td>0.9778</td>\n      <td>652.923677</td>\n      <td>50.371998</td>\n    </tr>\n    <tr>\n      <th>10</th>\n      <td>11</td>\n      <td>0.062210</td>\n      <td>{'accuracy': 0.9793999791145325}</td>\n      <td>0.9794</td>\n      <td>704.185821</td>\n      <td>51.262144</td>\n    </tr>\n    <tr>\n      <th>11</th>\n      <td>12</td>\n      <td>0.058138</td>\n      <td>{'accuracy': 0.98089998960495}</td>\n      <td>0.9809</td>\n      <td>756.256935</td>\n      <td>52.071114</td>\n    </tr>\n    <tr>\n      <th>12</th>\n      <td>13</td>\n      <td>0.055533</td>\n      <td>{'accuracy': 0.9819999933242798}</td>\n      <td>0.9820</td>\n      <td>804.767894</td>\n      <td>48.510959</td>\n    </tr>\n    <tr>\n      <th>13</th>\n      <td>14</td>\n      <td>0.052471</td>\n      <td>{'accuracy': 0.9835000038146973}</td>\n      <td>0.9835</td>\n      <td>853.610658</td>\n      <td>48.842764</td>\n    </tr>\n    <tr>\n      <th>14</th>\n      <td>15</td>\n      <td>0.049070</td>\n      <td>{'accuracy': 0.9850000143051147}</td>\n      <td>0.9850</td>\n      <td>904.110274</td>\n      <td>50.499615</td>\n    </tr>\n    <tr>\n      <th>15</th>\n      <td>16</td>\n      <td>0.048448</td>\n      <td>{'accuracy': 0.9855999946594238}</td>\n      <td>0.9856</td>\n      <td>954.791831</td>\n      <td>50.681557</td>\n    </tr>\n    <tr>\n      <th>16</th>\n      <td>17</td>\n      <td>0.046375</td>\n      <td>{'accuracy': 0.9865000247955322}</td>\n      <td>0.9865</td>\n      <td>1002.376296</td>\n      <td>47.584465</td>\n    </tr>\n    <tr>\n      <th>17</th>\n      <td>18</td>\n      <td>0.045401</td>\n      <td>{'accuracy': 0.9869999885559082}</td>\n      <td>0.9870</td>\n      <td>1053.949878</td>\n      <td>51.573582</td>\n    </tr>\n    <tr>\n      <th>18</th>\n      <td>19</td>\n      <td>0.044040</td>\n      <td>{'accuracy': 0.9866999983787537}</td>\n      <td>0.9867</td>\n      <td>1104.223273</td>\n      <td>50.273395</td>\n    </tr>\n    <tr>\n      <th>19</th>\n      <td>20</td>\n      <td>0.043740</td>\n      <td>{'accuracy': 0.9871000051498413}</td>\n      <td>0.9871</td>\n      <td>1158.117867</td>\n      <td>53.894595</td>\n    </tr>\n    <tr>\n      <th>20</th>\n      <td>21</td>\n      <td>0.042601</td>\n      <td>{'accuracy': 0.987500011920929}</td>\n      <td>0.9875</td>\n      <td>1203.897286</td>\n      <td>45.779419</td>\n    </tr>\n    <tr>\n      <th>21</th>\n      <td>22</td>\n      <td>0.041541</td>\n      <td>{'accuracy': 0.9879000186920166}</td>\n      <td>0.9879</td>\n      <td>1252.003269</td>\n      <td>48.105983</td>\n    </tr>\n    <tr>\n      <th>22</th>\n      <td>23</td>\n      <td>0.040956</td>\n      <td>{'accuracy': 0.9879000186920166}</td>\n      <td>0.9879</td>\n      <td>1302.522462</td>\n      <td>50.519193</td>\n    </tr>\n    <tr>\n      <th>23</th>\n      <td>24</td>\n      <td>0.040155</td>\n      <td>{'accuracy': 0.9886000156402588}</td>\n      <td>0.9886</td>\n      <td>1350.737446</td>\n      <td>48.214983</td>\n    </tr>\n    <tr>\n      <th>24</th>\n      <td>25</td>\n      <td>0.039698</td>\n      <td>{'accuracy': 0.9886000156402588}</td>\n      <td>0.9886</td>\n      <td>1400.327923</td>\n      <td>49.590478</td>\n    </tr>\n    <tr>\n      <th>25</th>\n      <td>26</td>\n      <td>0.039604</td>\n      <td>{'accuracy': 0.9889000058174133}</td>\n      <td>0.9889</td>\n      <td>1451.177504</td>\n      <td>50.849581</td>\n    </tr>\n    <tr>\n      <th>26</th>\n      <td>27</td>\n      <td>0.039103</td>\n      <td>{'accuracy': 0.9890000224113464}</td>\n      <td>0.9890</td>\n      <td>1501.673590</td>\n      <td>50.496086</td>\n    </tr>\n    <tr>\n      <th>27</th>\n      <td>28</td>\n      <td>0.038733</td>\n      <td>{'accuracy': 0.9894000291824341}</td>\n      <td>0.9894</td>\n      <td>1551.865159</td>\n      <td>50.191569</td>\n    </tr>\n    <tr>\n      <th>28</th>\n      <td>29</td>\n      <td>0.038939</td>\n      <td>{'accuracy': 0.9891999959945679}</td>\n      <td>0.9892</td>\n      <td>1603.263189</td>\n      <td>51.398030</td>\n    </tr>\n    <tr>\n      <th>29</th>\n      <td>30</td>\n      <td>0.039295</td>\n      <td>{'accuracy': 0.989300012588501}</td>\n      <td>0.9893</td>\n      <td>1658.048849</td>\n      <td>54.785660</td>\n    </tr>\n    <tr>\n      <th>30</th>\n      <td>31</td>\n      <td>0.038033</td>\n      <td>{'accuracy': 0.9890000224113464}</td>\n      <td>0.9890</td>\n      <td>1703.425119</td>\n      <td>45.376270</td>\n    </tr>\n    <tr>\n      <th>31</th>\n      <td>32</td>\n      <td>0.038404</td>\n      <td>{'accuracy': 0.9894000291824341}</td>\n      <td>0.9894</td>\n      <td>1748.846613</td>\n      <td>45.421494</td>\n    </tr>\n    <tr>\n      <th>32</th>\n      <td>33</td>\n      <td>0.039958</td>\n      <td>{'accuracy': 0.9891999959945679}</td>\n      <td>0.9892</td>\n      <td>1795.628619</td>\n      <td>46.782005</td>\n    </tr>\n    <tr>\n      <th>33</th>\n      <td>34</td>\n      <td>0.037843</td>\n      <td>{'accuracy': 0.9894000291824341}</td>\n      <td>0.9894</td>\n      <td>1848.046134</td>\n      <td>52.417515</td>\n    </tr>\n    <tr>\n      <th>34</th>\n      <td>35</td>\n      <td>0.038446</td>\n      <td>{'accuracy': 0.989799976348877}</td>\n      <td>0.9898</td>\n      <td>1896.763140</td>\n      <td>48.717006</td>\n    </tr>\n    <tr>\n      <th>35</th>\n      <td>36</td>\n      <td>0.038082</td>\n      <td>{'accuracy': 0.9900000095367432}</td>\n      <td>0.9900</td>\n      <td>1945.275287</td>\n      <td>48.512147</td>\n    </tr>\n    <tr>\n      <th>36</th>\n      <td>37</td>\n      <td>0.037452</td>\n      <td>{'accuracy': 0.9901000261306763}</td>\n      <td>0.9901</td>\n      <td>1992.109304</td>\n      <td>46.834017</td>\n    </tr>\n    <tr>\n      <th>37</th>\n      <td>38</td>\n      <td>0.038205</td>\n      <td>{'accuracy': 0.9901000261306763}</td>\n      <td>0.9901</td>\n      <td>2037.770165</td>\n      <td>45.660861</td>\n    </tr>\n    <tr>\n      <th>38</th>\n      <td>39</td>\n      <td>0.038117</td>\n      <td>{'accuracy': 0.9900000095367432}</td>\n      <td>0.9900</td>\n      <td>2088.656396</td>\n      <td>50.886231</td>\n    </tr>\n    <tr>\n      <th>39</th>\n      <td>40</td>\n      <td>0.037820</td>\n      <td>{'accuracy': 0.9901000261306763}</td>\n      <td>0.9901</td>\n      <td>2136.382167</td>\n      <td>47.725771</td>\n    </tr>\n    <tr>\n      <th>40</th>\n      <td>41</td>\n      <td>0.038095</td>\n      <td>{'accuracy': 0.9901000261306763}</td>\n      <td>0.9901</td>\n      <td>2188.602081</td>\n      <td>52.219914</td>\n    </tr>\n    <tr>\n      <th>41</th>\n      <td>42</td>\n      <td>0.038795</td>\n      <td>{'accuracy': 0.9901999831199646}</td>\n      <td>0.9902</td>\n      <td>2233.924598</td>\n      <td>45.322517</td>\n    </tr>\n    <tr>\n      <th>42</th>\n      <td>43</td>\n      <td>0.038593</td>\n      <td>{'accuracy': 0.9901999831199646}</td>\n      <td>0.9902</td>\n      <td>2287.162689</td>\n      <td>53.238091</td>\n    </tr>\n    <tr>\n      <th>43</th>\n      <td>44</td>\n      <td>0.039037</td>\n      <td>{'accuracy': 0.9901000261306763}</td>\n      <td>0.9901</td>\n      <td>2334.737619</td>\n      <td>47.574930</td>\n    </tr>\n    <tr>\n      <th>44</th>\n      <td>45</td>\n      <td>0.038018</td>\n      <td>{'accuracy': 0.9904000163078308}</td>\n      <td>0.9904</td>\n      <td>2382.054400</td>\n      <td>47.316781</td>\n    </tr>\n    <tr>\n      <th>45</th>\n      <td>46</td>\n      <td>0.038705</td>\n      <td>{'accuracy': 0.9908000230789185}</td>\n      <td>0.9908</td>\n      <td>2430.225970</td>\n      <td>48.171570</td>\n    </tr>\n    <tr>\n      <th>46</th>\n      <td>47</td>\n      <td>0.037883</td>\n      <td>{'accuracy': 0.9907000064849854}</td>\n      <td>0.9907</td>\n      <td>2480.948984</td>\n      <td>50.723015</td>\n    </tr>\n    <tr>\n      <th>47</th>\n      <td>48</td>\n      <td>0.038702</td>\n      <td>{'accuracy': 0.9902999997138977}</td>\n      <td>0.9903</td>\n      <td>2530.421679</td>\n      <td>49.472695</td>\n    </tr>\n    <tr>\n      <th>48</th>\n      <td>49</td>\n      <td>0.039284</td>\n      <td>{'accuracy': 0.9901999831199646}</td>\n      <td>0.9902</td>\n      <td>2579.708600</td>\n      <td>49.286920</td>\n    </tr>\n    <tr>\n      <th>49</th>\n      <td>50</td>\n      <td>0.040015</td>\n      <td>{'accuracy': 0.9907000064849854}</td>\n      <td>0.9907</td>\n      <td>2627.375367</td>\n      <td>47.666767</td>\n    </tr>\n  </tbody>\n</table>\n</div>"
     },
     "execution_count": 181,
     "metadata": {},
     "output_type": "execute_result"
    }
   ],
   "source": [
    "\n",
    "def read_mnist_log_file(path: Path):\n",
    "    lines = path.read_text().splitlines()\n",
    "    progress_lines = [l for l in lines if \"fit progress: (\" in l]\n",
    "    entries = []\n",
    "    for l in progress_lines:\n",
    "        x = l.split(\"fit progress: \")[-1]\n",
    "        round, loss, metrics, time = eval(x)\n",
    "        entries.append(\n",
    "            {\n",
    "                \"round\": round,\n",
    "                \"loss\": loss,\n",
    "                \"metrics\": metrics,\n",
    "                \"accuracy\": metrics.get(\"accuracy\"),\n",
    "                \"time_since_start\": time,\n",
    "                \"time\": time if len(entries) == 0 else (time - entries[-1][\"time_since_start\"])\n",
    "            }\n",
    "        )\n",
    "    df = pd.DataFrame.from_records(entries)\n",
    "    new_dtypes = {\"time\": float, \"loss\": float, \"accuracy\": float, \"time_since_start\": float, \"round\": int}\n",
    "    df = df.astype(new_dtypes)\n",
    "    return df\n",
    "\n",
    "\n",
    "statistics_df = read_mnist_log_file(\n",
    "    Path(\"/Users/andreas/workspace/thesis-code/out/flower-logs/fedless_mnist_100_100_10_14370.err\"))\n",
    "statistics_df\n"
   ],
   "metadata": {
    "collapsed": false,
    "pycharm": {
     "name": "#%%\n"
    }
   }
  },
  {
   "cell_type": "code",
   "execution_count": 210,
   "outputs": [],
   "source": [
    "files = []\n",
    "dfs = []\n",
    "LOG_FOLDER = Path(\"/Users/andreas/workspace/thesis-code/out/flower-logs\")\n",
    "for f in LOG_FOLDER.glob(\"fedless_*.err\"):\n",
    "    if (len(f.name.split(\"_\"))) > 6:  # Local Client Log\n",
    "        continue\n",
    "    _, dataset, clients_in_round, clients_total, local_epochs, seed = f.name.split(\"_\")\n",
    "    seed = seed.split(\".\")[0]\n",
    "\n",
    "    if dataset == \"mnist\":  # All required data lies in .err file\n",
    "        logs_df = read_mnist_log_file(f)\n",
    "\n",
    "    #files.append({\n",
    "    #    \"dataset\": dataset,\n",
    "    #    \"clients_in_round\": clients_in_round,\n",
    "    #    \"clients_total\": clients_total,\n",
    "    #    \"local_epochs\": local_epochs,\n",
    "    #    \"seed\": seed,\n",
    "    #    \"path_out\": f.with_name(f.name.replace(\".err\", \".out\")),\n",
    "    #    \"path_err\": f,\n",
    "    #    **statistics})\n",
    "    index = pd.MultiIndex.from_tuples(\n",
    "        [(\n",
    "            dataset,\n",
    "            clients_in_round,\n",
    "            clients_total,\n",
    "            local_epochs,\n",
    "            seed\n",
    "        )] * len(logs_df),\n",
    "        names=[\n",
    "            \"dataset\",\n",
    "            \"clients_in_round\",\n",
    "            \"clients_total\",\n",
    "            \"local_epochs\",\n",
    "            \"seed\"\n",
    "        ]\n",
    "    )\n",
    "    #print(index)\n",
    "    df = pd.DataFrame(logs_df.values, index=index, columns=logs_df.columns)  # .reset_index()\n",
    "    df = df.astype(logs_df.dtypes)\n",
    "\n",
    "    integer_index_levels = [1, 2, 3]\n",
    "    for i in integer_index_levels:\n",
    "        df.index = df.index.set_levels(df.index.levels[i].astype(int), level=i)\n",
    "    dfs.append(df)\n",
    "dfs = pd.concat(dfs)\n",
    "dfs = dfs.sort_index()"
   ],
   "metadata": {
    "collapsed": false,
    "pycharm": {
     "name": "#%%\n"
    }
   }
  },
  {
   "cell_type": "code",
   "execution_count": 217,
   "outputs": [
    {
     "data": {
      "text/plain": "41.5"
     },
     "execution_count": 217,
     "metadata": {},
     "output_type": "execute_result"
    }
   ],
   "source": [
    "#dfs.loc[{\"seed\": 25738}]\n",
    "#mnist_dfs = dfs.loc[(\"mnist\", \"100\", \"100\", \"10\")]\n",
    "mnist_dfs = dfs.loc[(\"mnist\", 100, 100, 10)]\n",
    "mnist_dfs[mnist_dfs[\"accuracy\"] >= 0.99].groupby(\"seed\").min(\"round\")[\"round\"].mean()\n",
    "#sns.lineplot(x=\"round\", y=\"accuracy\", data=mnist_dfs)"
   ],
   "metadata": {
    "collapsed": false,
    "pycharm": {
     "name": "#%%\n"
    }
   }
  },
  {
   "cell_type": "code",
   "execution_count": 220,
   "outputs": [
    {
     "data": {
      "text/plain": "                               round      loss  accuracy  time_since_start  \\\nclients_in_round local_epochs                                                \n75               5              38.0  0.031036   0.99010        958.042858   \n100              10             41.5  0.038684   0.99005       2260.129262   \n\n                                    time  \nclients_in_round local_epochs             \n75               5             20.601205  \n100              10            48.607397  ",
      "text/html": "<div>\n<style scoped>\n    .dataframe tbody tr th:only-of-type {\n        vertical-align: middle;\n    }\n\n    .dataframe tbody tr th {\n        vertical-align: top;\n    }\n\n    .dataframe thead th {\n        text-align: right;\n    }\n</style>\n<table border=\"1\" class=\"dataframe\">\n  <thead>\n    <tr style=\"text-align: right;\">\n      <th></th>\n      <th></th>\n      <th>round</th>\n      <th>loss</th>\n      <th>accuracy</th>\n      <th>time_since_start</th>\n      <th>time</th>\n    </tr>\n    <tr>\n      <th>clients_in_round</th>\n      <th>local_epochs</th>\n      <th></th>\n      <th></th>\n      <th></th>\n      <th></th>\n      <th></th>\n    </tr>\n  </thead>\n  <tbody>\n    <tr>\n      <th>75</th>\n      <th>5</th>\n      <td>38.0</td>\n      <td>0.031036</td>\n      <td>0.99010</td>\n      <td>958.042858</td>\n      <td>20.601205</td>\n    </tr>\n    <tr>\n      <th>100</th>\n      <th>10</th>\n      <td>41.5</td>\n      <td>0.038684</td>\n      <td>0.99005</td>\n      <td>2260.129262</td>\n      <td>48.607397</td>\n    </tr>\n  </tbody>\n</table>\n</div>"
     },
     "execution_count": 220,
     "metadata": {},
     "output_type": "execute_result"
    }
   ],
   "source": [
    "df_ = dfs.loc[(\"mnist\", slice(75, 100), 100, slice(5, 100)), :]\n",
    "df_[df_[\"accuracy\"] >= 0.99].groupby(by=[\"seed\", \"clients_in_round\", \"local_epochs\"]).min(\"round\")\n",
    "    .groupby([\"clients_in_round\", \"local_epochs\"])\n",
    "    .mean()"
   ],
   "metadata": {
    "collapsed": false,
    "pycharm": {
     "name": "#%%\n"
    }
   }
  },
  {
   "cell_type": "code",
   "execution_count": 198,
   "outputs": [
    {
     "data": {
      "text/plain": "                                                           round      loss  \\\ndataset clients_in_round clients_total local_epochs seed                     \nmnist   75               100           5            25738      1  2.294503   \n                                                    25738      2  2.086622   \n                                                    25738      3  0.977720   \n                                                    25738      4  0.354725   \n                                                    25738      5  0.169710   \n...                                                          ...       ...   \n        100              100           10           3420      46  0.040293   \n                                                    3420      47  0.039915   \n                                                    3420      48  0.040104   \n                                                    3420      49  0.040059   \n                                                    3420      50  0.040302   \n\n                                                                                     metrics  \\\ndataset clients_in_round clients_total local_epochs seed                                       \nmnist   75               100           5            25738  {'accuracy': 0.10279999673366547}   \n                                                    25738  {'accuracy': 0.43529999256134033}   \n                                                    25738   {'accuracy': 0.8065999746322632}   \n                                                    25738    {'accuracy': 0.917900025844574}   \n                                                    25738   {'accuracy': 0.9509000182151794}   \n...                                                                                      ...   \n        100              100           10           3420     {'accuracy': 0.989799976348877}   \n                                                    3420    {'accuracy': 0.9901000261306763}   \n                                                    3420    {'accuracy': 0.9898999929428101}   \n                                                    3420    {'accuracy': 0.9897000193595886}   \n                                                    3420    {'accuracy': 0.9897000193595886}   \n\n                                                           accuracy  \\\ndataset clients_in_round clients_total local_epochs seed              \nmnist   75               100           5            25738    0.1028   \n                                                    25738    0.4353   \n                                                    25738    0.8066   \n                                                    25738    0.9179   \n                                                    25738    0.9509   \n...                                                             ...   \n        100              100           10           3420     0.9898   \n                                                    3420     0.9901   \n                                                    3420     0.9899   \n                                                    3420     0.9897   \n                                                    3420     0.9897   \n\n                                                           time_since_start  \\\ndataset clients_in_round clients_total local_epochs seed                      \nmnist   75               100           5            25738        117.097415   \n                                                    25738        143.547876   \n                                                    25738        166.820044   \n                                                    25738        188.726167   \n                                                    25738        211.325610   \n...                                                                     ...   \n        100              100           10           3420        2523.090961   \n                                                    3420        2574.983238   \n                                                    3420        2626.284637   \n                                                    3420        2678.134444   \n                                                    3420        2730.346721   \n\n                                                                 time  \ndataset clients_in_round clients_total local_epochs seed               \nmnist   75               100           5            25738  117.097415  \n                                                    25738   26.450462  \n                                                    25738   23.272167  \n                                                    25738   21.906124  \n                                                    25738   22.599442  \n...                                                               ...  \n        100              100           10           3420    52.359364  \n                                                    3420    51.892277  \n                                                    3420    51.301399  \n                                                    3420    51.849807  \n                                                    3420    52.212277  \n\n[250 rows x 6 columns]",
      "text/html": "<div>\n<style scoped>\n    .dataframe tbody tr th:only-of-type {\n        vertical-align: middle;\n    }\n\n    .dataframe tbody tr th {\n        vertical-align: top;\n    }\n\n    .dataframe thead th {\n        text-align: right;\n    }\n</style>\n<table border=\"1\" class=\"dataframe\">\n  <thead>\n    <tr style=\"text-align: right;\">\n      <th></th>\n      <th></th>\n      <th></th>\n      <th></th>\n      <th></th>\n      <th>round</th>\n      <th>loss</th>\n      <th>metrics</th>\n      <th>accuracy</th>\n      <th>time_since_start</th>\n      <th>time</th>\n    </tr>\n    <tr>\n      <th>dataset</th>\n      <th>clients_in_round</th>\n      <th>clients_total</th>\n      <th>local_epochs</th>\n      <th>seed</th>\n      <th></th>\n      <th></th>\n      <th></th>\n      <th></th>\n      <th></th>\n      <th></th>\n    </tr>\n  </thead>\n  <tbody>\n    <tr>\n      <th rowspan=\"11\" valign=\"top\">mnist</th>\n      <th rowspan=\"5\" valign=\"top\">75</th>\n      <th rowspan=\"5\" valign=\"top\">100</th>\n      <th rowspan=\"5\" valign=\"top\">5</th>\n      <th>25738</th>\n      <td>1</td>\n      <td>2.294503</td>\n      <td>{'accuracy': 0.10279999673366547}</td>\n      <td>0.1028</td>\n      <td>117.097415</td>\n      <td>117.097415</td>\n    </tr>\n    <tr>\n      <th>25738</th>\n      <td>2</td>\n      <td>2.086622</td>\n      <td>{'accuracy': 0.43529999256134033}</td>\n      <td>0.4353</td>\n      <td>143.547876</td>\n      <td>26.450462</td>\n    </tr>\n    <tr>\n      <th>25738</th>\n      <td>3</td>\n      <td>0.977720</td>\n      <td>{'accuracy': 0.8065999746322632}</td>\n      <td>0.8066</td>\n      <td>166.820044</td>\n      <td>23.272167</td>\n    </tr>\n    <tr>\n      <th>25738</th>\n      <td>4</td>\n      <td>0.354725</td>\n      <td>{'accuracy': 0.917900025844574}</td>\n      <td>0.9179</td>\n      <td>188.726167</td>\n      <td>21.906124</td>\n    </tr>\n    <tr>\n      <th>25738</th>\n      <td>5</td>\n      <td>0.169710</td>\n      <td>{'accuracy': 0.9509000182151794}</td>\n      <td>0.9509</td>\n      <td>211.325610</td>\n      <td>22.599442</td>\n    </tr>\n    <tr>\n      <th>...</th>\n      <th>...</th>\n      <th>...</th>\n      <th>...</th>\n      <td>...</td>\n      <td>...</td>\n      <td>...</td>\n      <td>...</td>\n      <td>...</td>\n      <td>...</td>\n    </tr>\n    <tr>\n      <th rowspan=\"5\" valign=\"top\">100</th>\n      <th rowspan=\"5\" valign=\"top\">100</th>\n      <th rowspan=\"5\" valign=\"top\">10</th>\n      <th>3420</th>\n      <td>46</td>\n      <td>0.040293</td>\n      <td>{'accuracy': 0.989799976348877}</td>\n      <td>0.9898</td>\n      <td>2523.090961</td>\n      <td>52.359364</td>\n    </tr>\n    <tr>\n      <th>3420</th>\n      <td>47</td>\n      <td>0.039915</td>\n      <td>{'accuracy': 0.9901000261306763}</td>\n      <td>0.9901</td>\n      <td>2574.983238</td>\n      <td>51.892277</td>\n    </tr>\n    <tr>\n      <th>3420</th>\n      <td>48</td>\n      <td>0.040104</td>\n      <td>{'accuracy': 0.9898999929428101}</td>\n      <td>0.9899</td>\n      <td>2626.284637</td>\n      <td>51.301399</td>\n    </tr>\n    <tr>\n      <th>3420</th>\n      <td>49</td>\n      <td>0.040059</td>\n      <td>{'accuracy': 0.9897000193595886}</td>\n      <td>0.9897</td>\n      <td>2678.134444</td>\n      <td>51.849807</td>\n    </tr>\n    <tr>\n      <th>3420</th>\n      <td>50</td>\n      <td>0.040302</td>\n      <td>{'accuracy': 0.9897000193595886}</td>\n      <td>0.9897</td>\n      <td>2730.346721</td>\n      <td>52.212277</td>\n    </tr>\n  </tbody>\n</table>\n<p>250 rows × 6 columns</p>\n</div>"
     },
     "execution_count": 198,
     "metadata": {},
     "output_type": "execute_result"
    }
   ],
   "source": [],
   "metadata": {
    "collapsed": false,
    "pycharm": {
     "name": "#%%\n"
    }
   }
  },
  {
   "cell_type": "code",
   "execution_count": 192,
   "outputs": [
    {
     "data": {
      "text/plain": "MultiIndex([('mnist', 75, 100, 5, '25738'),\n            ('mnist', 75, 100, 5, '25738'),\n            ('mnist', 75, 100, 5, '25738'),\n            ('mnist', 75, 100, 5, '25738'),\n            ('mnist', 75, 100, 5, '25738'),\n            ('mnist', 75, 100, 5, '25738'),\n            ('mnist', 75, 100, 5, '25738'),\n            ('mnist', 75, 100, 5, '25738'),\n            ('mnist', 75, 100, 5, '25738'),\n            ('mnist', 75, 100, 5, '25738'),\n            ...\n            ('mnist', 75, 100, 5,  '9498'),\n            ('mnist', 75, 100, 5,  '9498'),\n            ('mnist', 75, 100, 5,  '9498'),\n            ('mnist', 75, 100, 5,  '9498'),\n            ('mnist', 75, 100, 5,  '9498'),\n            ('mnist', 75, 100, 5,  '9498'),\n            ('mnist', 75, 100, 5,  '9498'),\n            ('mnist', 75, 100, 5,  '9498'),\n            ('mnist', 75, 100, 5,  '9498'),\n            ('mnist', 75, 100, 5,  '9498')],\n           names=['dataset', 'clients_in_round', 'clients_total', 'local_epochs', 'seed'], length=250)"
     },
     "execution_count": 192,
     "metadata": {},
     "output_type": "execute_result"
    }
   ],
   "source": [
    "#dfs.index"
   ],
   "metadata": {
    "collapsed": false,
    "pycharm": {
     "name": "#%%\n"
    }
   }
  },
  {
   "cell_type": "code",
   "execution_count": null,
   "outputs": [],
   "source": [],
   "metadata": {
    "collapsed": false,
    "pycharm": {
     "name": "#%%\n"
    }
   }
  }
 ],
 "metadata": {
  "kernelspec": {
   "display_name": "Python 3",
   "language": "python",
   "name": "python3"
  },
  "language_info": {
   "codemirror_mode": {
    "name": "ipython",
    "version": 2
   },
   "file_extension": ".py",
   "mimetype": "text/x-python",
   "name": "python",
   "nbconvert_exporter": "python",
   "pygments_lexer": "ipython2",
   "version": "2.7.6"
  }
 },
 "nbformat": 4,
 "nbformat_minor": 0
}