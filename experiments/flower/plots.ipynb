{
 "cells": [
  {
   "cell_type": "code",
   "execution_count": null,
   "metadata": {
    "collapsed": true
   },
   "outputs": [],
   "source": [
    "import re\n",
    "from pathlib import Path\n",
    "from typing import Dict\n",
    "\n",
    "import pandas as pd\n",
    "import matplotlib.pyplot as plt\n",
    "import seaborn as sns\n",
    "import numpy as np"
   ]
  },
  {
   "cell_type": "code",
   "execution_count": null,
   "outputs": [],
   "source": [
    "\n",
    "def read_mnist_log_file(path: Path):\n",
    "    lines = path.read_text().splitlines()\n",
    "    progress_lines = [l for l in lines if \"fit progress: (\" in l]\n",
    "    entries = []\n",
    "    for l in progress_lines:\n",
    "        x = l.split(\"fit progress: \")[-1]\n",
    "        round, loss, metrics, time = eval(x)\n",
    "        entries.append(\n",
    "            {\n",
    "                \"round\": round,\n",
    "                \"loss\": loss,\n",
    "                \"metrics\": metrics,\n",
    "                \"accuracy\": metrics.get(\"accuracy\"),\n",
    "                \"time_since_start\": time,\n",
    "                \"time\": time if len(entries) == 0 else (time - entries[-1][\"time_since_start\"])\n",
    "            }\n",
    "        )\n",
    "    times_agg_eval = []\n",
    "    for idx, line in enumerate(lines):\n",
    "        if idx + 1 == len(lines):\n",
    "            break\n",
    "        next_line = lines[idx + 1]\n",
    "        if \"fit_round received\" not in line:\n",
    "            continue\n",
    "        if \"fit progress: (\" in next_line:\n",
    "            t_start = pd.to_datetime(\" \".join(line.split(\" \")[2:4]))\n",
    "            t_end = pd.to_datetime(\" \".join(next_line.split(\" \")[2:4]))\n",
    "            times_agg_eval.append((t_end - t_start).total_seconds())\n",
    "    #\"time_agg_eval\": time_agg_eval,\n",
    "    df = pd.DataFrame.from_records(entries)\n",
    "    df[\"time_agg_eval\"] = times_agg_eval\n",
    "    new_dtypes = {\"time\": float, \"loss\": float, \"accuracy\": float,\n",
    "                  \"time_since_start\": float, \"round\": int,\n",
    "                  \"time_agg_eval\": float\n",
    "                  }\n",
    "    if not df.empty:\n",
    "        df = df.astype(new_dtypes)\n",
    "    return df\n",
    "\n",
    "\n",
    "def read_femnist_log_file(f_err: Path, f_out: Path):\n",
    "    out_lines = f_out.read_text().splitlines()\n",
    "    eval_entries = []\n",
    "    for l in out_lines:\n",
    "        matches = re.findall(r\"EvaluateRes([^\\)]+)\", l)\n",
    "        for m in matches:\n",
    "            print(eval(f\"dict{m})\"))\n",
    "\n",
    "    return None\n",
    "\n",
    "#df = read_femnist_log_file(Path(\"/Users/andreas/workspace/thesis-code/out/flower-logs/fedless_femnist_100_100_10_8162.err\"),\n",
    "#                           Path(\"/Users/andreas/workspace/thesis-code/out/flower-logs/fedless_femnist_100_100_10_8162.out\"))\n",
    "#df"
   ],
   "metadata": {
    "collapsed": false,
    "pycharm": {
     "name": "#%%\n"
    }
   }
  },
  {
   "cell_type": "code",
   "execution_count": null,
   "outputs": [],
   "source": [
    "files = []\n",
    "dfs = []\n",
    "LOG_FOLDER = Path(\"/Users/andreas/workspace/thesis-code/out/flower-logs\")\n",
    "for f in LOG_FOLDER.glob(\"fedless_*.err\"):\n",
    "    if (len(f.name.split(\"_\"))) > 6:  # Local Client Log\n",
    "        continue\n",
    "    _, dataset, clients_in_round, clients_total, local_epochs, seed = f.name.split(\"_\")\n",
    "    seed = seed.split(\".\")[0]\n",
    "    if dataset == \"mnist\":  # All required data lies in .err file\n",
    "        logs_df = read_mnist_log_file(f)\n",
    "    elif dataset == \"femnist\":\n",
    "        logs_df = read_femnist_log_file(f_err=f, f_out=f.with_suffix(\".out\"))\n",
    "\n",
    "    if logs_df.empty:\n",
    "        continue\n",
    "\n",
    "    index = pd.MultiIndex.from_tuples(\n",
    "        [(\n",
    "            dataset,\n",
    "            clients_in_round,\n",
    "            clients_total,\n",
    "            local_epochs,\n",
    "            seed\n",
    "        )] * len(logs_df),\n",
    "        names=[\n",
    "            \"dataset\",\n",
    "            \"clients_in_round\",\n",
    "            \"clients_total\",\n",
    "            \"local_epochs\",\n",
    "            \"seed\"\n",
    "        ]\n",
    "    )\n",
    "    #print(index)\n",
    "    df = pd.DataFrame(logs_df.values, index=index, columns=logs_df.columns)  # .reset_index()\n",
    "    df = df.astype(logs_df.dtypes)\n",
    "\n",
    "    integer_index_levels = [1, 2, 3]\n",
    "    for i in integer_index_levels:\n",
    "        df.index = df.index.set_levels(df.index.levels[i].astype(int), level=i)\n",
    "    dfs.append(df)\n",
    "dfs = pd.concat(dfs)\n",
    "dfs = dfs.sort_index()"
   ],
   "metadata": {
    "collapsed": false,
    "pycharm": {
     "name": "#%%\n"
    }
   }
  },
  {
   "cell_type": "code",
   "execution_count": null,
   "outputs": [],
   "source": [
    "#dfs.loc[{\"seed\": 25738}]\n",
    "#mnist_dfs = dfs.loc[(\"mnist\", \"100\", \"100\", \"10\")]\n",
    "mnist_dfs = dfs.loc[(\"mnist\", 100, 100, 10)]\n",
    "mnist_dfs[mnist_dfs[\"accuracy\"] >= 0.99].groupby(\"seed\").min(\"round\")[\"round\"].mean()\n",
    "#sns.lineplot(x=\"round\", y=\"accuracy\", data=mnist_dfs)"
   ],
   "metadata": {
    "collapsed": false,
    "pycharm": {
     "name": "#%%\n"
    }
   }
  },
  {
   "cell_type": "code",
   "execution_count": null,
   "outputs": [],
   "source": [
    "df_ = dfs.loc[(\"mnist\", slice(75, 100), 100, slice(1, 100)), :]\n",
    "(\n",
    "    df_[df_[\"accuracy\"] >= 0.99].groupby(by=[\"seed\", \"clients_in_round\", \"local_epochs\"]).min(\"round\")\n",
    "        .groupby([\"clients_in_round\", \"local_epochs\"])\n",
    "        .mean()\n",
    ")"
   ],
   "metadata": {
    "collapsed": false,
    "pycharm": {
     "name": "#%%\n"
    }
   }
  },
  {
   "cell_type": "code",
   "execution_count": null,
   "outputs": [],
   "source": [
    "df_ = dfs.loc[(\"mnist\", 100, 100, slice(1, 100)), :]\n",
    "df_ = df_[df_[\"accuracy\"] >= 0.99].groupby(level=[1, 2, 3, 4]).min(\"round\")\n",
    "df_ = df_.groupby(level=[0, 2]).mean()\n",
    "sns.barplot(y=\"round\", x=\"local_epochs\", data=df_.reset_index()) # hue=\"local_epochs\","
   ],
   "metadata": {
    "collapsed": false,
    "pycharm": {
     "name": "#%%\n"
    }
   }
  },
  {
   "cell_type": "code",
   "execution_count": null,
   "outputs": [],
   "source": [
    "df_ = dfs.loc[(\"mnist\", 100, 100, slice(1, 100)), :]\n",
    "df_ = df_[df_[\"accuracy\"] >= 0.99].groupby(level=[1, 2, 3, 4]).min(\"round\")\n",
    "df_ = df_.groupby(level=[0, 2]).mean()\n",
    "sns.barplot(y=\"time_since_start\", x=\"local_epochs\", data=df_.reset_index())  # hue=\"local_epochs\","
   ],
   "metadata": {
    "collapsed": false,
    "pycharm": {
     "name": "#%%\n"
    }
   }
  },
  {
   "cell_type": "code",
   "execution_count": null,
   "outputs": [],
   "source": [
    "df_ = dfs.loc[(\"mnist\", 100, 100, slice(1, 100)), :]\n",
    "df_ = df_[df_[\"round\"] > 1]\n",
    "sns.barplot(y=\"time\", x=\"local_epochs\", data=df_.reset_index())  #  hue=\"local_epochs\""
   ],
   "metadata": {
    "collapsed": false,
    "pycharm": {
     "name": "#%%\n"
    }
   }
  },
  {
   "cell_type": "code",
   "execution_count": null,
   "outputs": [],
   "source": [
    "df_ = dfs.loc[(\"mnist\", 100, 100, slice(1, 100)), :]\n",
    "df_ = df_[df_[\"round\"] > 1]\n",
    "df_[\"time_wo_agg_eval\"] = df_[\"time\"] - df_[\"time_agg_eval\"]\n",
    "df_[[\"time_wo_agg_eval\", \"time_agg_eval\"]].mean(level=[3]).plot.bar(stacked=True)"
   ],
   "metadata": {
    "collapsed": false,
    "pycharm": {
     "name": "#%%\n"
    }
   }
  },
  {
   "cell_type": "code",
   "execution_count": null,
   "outputs": [],
   "source": [],
   "metadata": {
    "collapsed": false,
    "pycharm": {
     "name": "#%%\n"
    }
   }
  }
 ],
 "metadata": {
  "kernelspec": {
   "display_name": "Python 3",
   "language": "python",
   "name": "python3"
  },
  "language_info": {
   "codemirror_mode": {
    "name": "ipython",
    "version": 2
   },
   "file_extension": ".py",
   "mimetype": "text/x-python",
   "name": "python",
   "nbconvert_exporter": "python",
   "pygments_lexer": "ipython2",
   "version": "2.7.6"
  }
 },
 "nbformat": 4,
 "nbformat_minor": 0
}